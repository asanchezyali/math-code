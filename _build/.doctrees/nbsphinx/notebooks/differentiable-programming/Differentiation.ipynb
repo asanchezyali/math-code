{
 "cells": [
  {
   "cell_type": "markdown",
   "metadata": {},
   "source": [
    "# Differentiation\n",
    "**Authors:** Alejandro Sánchez Yalí\n",
    "\n",
    "In this chapter, we review key differentiation concepts. In particular, we emphasize on the fundamental role played by\n",
    "linear approximations in the context of numerical differentiation. We also discuss the concept of automatic\n",
    "differentiation, which is a powerful tool for computing derivatives of functions implemented in computer programs.\n",
    "\n",
    "## Univariate differentiation\n",
    "Before studying derivatives, we recall the definition of function continuity.\n",
    "\n",
    "<div class=\"definition\"><p>Definition 1.1. Continuous function</p> \n",
    "  <P>A function $f: \\mathbb{R} \\rightarrow \\mathbb{R}$ is continuous at a point $x_0$ if $$\\lim_{x \\to x_0} f(x) = f(x_0).$$\n",
    "  A function $f$ is continuous if it is continuous at every point in its domain.</p>\n",
    "</div>\n",
    "\n",
    "In the following, we use Landau's notation to describe the behavior of functions near a point. We write $$f(x) = o(g(x)) \\quad \\text{as} \\quad x \\to x_0$$\n",
    "if $$\\lim_{x \\to x_0} \\frac{|f(x)|}{|g(x)|} = 0.$$\n",
    "\n",
    "That is, $f(x)$ is much smaller than $g(x)$ as $x$ approaches $x_0$. For example, $f$ is continuous at $x_0$ if $f(x_0 +\n",
    "\\delta) =\n",
    "f(x_0) + o(1)$ as $\\delta \\to 0$.\n",
    "\n",
    "We now introduce the concept of derivative. Consider a function $f: \\mathbb{R} \\rightarrow \\mathbb{R}$ and a point $x_0$\n",
    "in its domain. The derivative of $f$ at $x_0$ is defined as $$f'(x_0) = \\lim_{\\delta \\to 0} \\frac{f(x_0 + \\delta) - f(x_0)}{\\delta}.$$\n",
    "\n"
   ]
  }
 ],
 "metadata": {
  "language_info": {
   "name": "python"
  }
 },
 "nbformat": 4,
 "nbformat_minor": 2
}
