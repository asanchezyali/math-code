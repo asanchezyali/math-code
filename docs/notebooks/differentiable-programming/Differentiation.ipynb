{
 "cells": [
  {
   "cell_type": "markdown",
   "metadata": {},
   "source": [
    "# Differentiation\n",
    "**Author:** Alejandro Sánchez Yalí\n",
    "\n",
    "In this chapter, we review key differentiation concepts. In particular, we emphasize on the fundamental role played by\n",
    "linear approximations in the context of numerical differentiation. We also discuss the concept of automatic\n",
    "differentiation, which is a powerful tool for computing derivatives of functions implemented in computer programs.\n",
    "\n",
    "## Univariate differentiation\n",
    "### Derivatives\n",
    "Before studying derivatives, we recall the definition of function continuity.\n",
    "\n",
    "<div class=\"definition\"><p>Definition 1.1. Continuous function</p> \n",
    "  <P>A function $f: \\mathbb{R} \\rightarrow \\mathbb{R}$ is continuous at a point $x_0$ if $$\\lim_{x \\to x_0} f(x) = f(x_0).$$\n",
    "  A function $f$ is continuous if it is continuous at every point in its domain.</p>\n",
    "</div>\n",
    "\n",
    "In the following, we use Landau's notation to describe the behavior of functions near a point. We write $$f(x) = o\\big(g(x)\\big) \\quad \\text{as} \\quad x \\to x_0$$\n",
    "if $$\\lim_{x \\to x_0} \\frac{|f(x)|}{|g(x)|} = 0.$$\n",
    "\n",
    "That is, $f(x)$ is much smaller than $g(x)$ as $x$ approaches $x_0$. For example, $f$ is continuous at $x_0$ if $$f(x_0 + \\delta) = f(x_0) + o(1) \\quad \\text{as} \\quad \\delta \\to 0.$$\n",
    "\n",
    "We now introduce the concept of derivative. Consider a function $f: \\mathbb{R} \\rightarrow \\mathbb{R}$ and a point\n",
    "$x_0$ in its domain. Its value on an interval $[x_0, x_0 + h]$ can be approximated by the secant between $\\big(x_0, f(x_0)\\big)$\n",
    "and $\\big(x_0 + h, f(x_0 + h)\\big)$. The slope of this **secant** is given by the difference quotient $$\\frac{f(x_0 + h) -\n",
    "f(x_0)}{h}.$$ In the limit of an infinitesimal $h$, the secant converges to the **tangent** at $\\big(x_0, f(x_0)\\big)$. The slope\n",
    "of this tangent is the derivative of $f$ at $x_0$, denoted by $f'(x_0)$. The definition below\n",
    "formalizes this intuition.\n",
    "\n",
    "<div class=\"definition\"><p>Definition 1.2. Derivative</p>\n",
    "  <p>The derivative of a function $f: \\mathbb{R} \\rightarrow \\mathbb{R}$ at a point $x_0$ is defined as $$f'(x_0) = \\lim_{h \\to 0} \\frac{f(x_0 + h) - f(x_0)}{h}.$$ If $f'(x_0)$ is well-defined at a particular $x_0$, we say that the function $f$ is differentiable at $x_0$.</p>\n",
    "</div>\n",
    "\n",
    "Here, and in the following definitions, if $f$ is differentiable at any $x$, we say that it is **differentiable\n",
    "everywhere** of simply **differentiable**. If $f$ is differentiable at a given $x$, then it is necessarily continuous at $x$.\n"
   ]
  }
 ],
 "metadata": {
  "language_info": {
   "name": "python"
  }
 },
 "nbformat": 4,
 "nbformat_minor": 2
}
