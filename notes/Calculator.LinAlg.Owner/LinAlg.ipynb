{
 "cells": [
  {
   "cell_type": "code",
   "execution_count": 3,
   "metadata": {},
   "outputs": [],
   "source": [
    "import numpy as np\n",
    "from sympy import init_printing, Matrix\n",
    "init_printing()"
   ]
  },
  {
   "cell_type": "code",
   "execution_count": 9,
   "metadata": {},
   "outputs": [],
   "source": [
    "def get_pivot_position(matrix, index):\n",
    "    return np.argmax(matrix[index:, index]) + index, index\n",
    "\n",
    "def get_pivot(matrix, index_row, index_col):\n",
    "    return matrix[index_row, index_col]\n",
    "\n",
    "def swap_rows(matrix, index_row_1, index_row_2):\n",
    "    matrix[[index_row_1, index_row_2]] = matrix[[index_row_2, index_row_1]]\n",
    "\n",
    "def reducedRowEchelonFormNP(matrix):\n",
    "    matrix = matrix.astype(float)\n",
    "    dim_row, dim_col = matrix.shape\n",
    "    loops = min(dim_row, dim_col)\n",
    "\n",
    "    for index in range(loops):\n",
    "        pivot_index_row, pivot_index_col = get_pivot_position(matrix, index)\n",
    "        pivot = get_pivot(matrix, pivot_index_row, pivot_index_col)\n",
    "\n",
    "        if pivot == 0:\n",
    "            continue\n",
    "\n",
    "        if pivot_index_row != index:\n",
    "            swap_rows(matrix, index, pivot_index_row)\n",
    "        \n",
    "        for row in range(index + 1, dim_row):\n",
    "            multiplier = matrix[row, index] / pivot\n",
    "            matrix[row, index:] -= multiplier * matrix[index, index:]\n",
    "            print(matrix)\n",
    "\n",
    "        for row in range(index - 1, -1, -1):\n",
    "            multiplier = matrix[row, index] / pivot\n",
    "            matrix[row, index:] -= multiplier * matrix[index, index:]\n",
    "            print(f'R{row} - {multiplier}R{index}')\n",
    "            print(matrix)\n",
    "\n",
    "        for row in range(dim_row):\n",
    "            display(f'{1/matrix[row, row]} R{row}')\n",
    "            matrix[row, :] /= matrix[row, row]\n",
    "            print(matrix)"
   ]
  },
  {
   "cell_type": "code",
   "execution_count": 5,
   "metadata": {},
   "outputs": [],
   "source": [
    "\n",
    "\n",
    "def get_pivot_position(matrix, index):\n",
    "    \"\"\"Find the pivot position.\"\"\"\n",
    "    return np.argmax(matrix[index:, index]) + index, index\n",
    "\n",
    "def get_pivot(matrix, index_row, index_col):\n",
    "    \"\"\"Get the pivot element.\"\"\"\n",
    "    return matrix[index_row, index_col]\n",
    "\n",
    "def reducedRowEchelonForm(matrix, steps=False):\n",
    "    \"\"\"Convert the given matrix into Reduced Row Echelon Form.\"\"\"\n",
    "    dim_row, dim_col = matrix.shape\n",
    "    loops = min(dim_row, dim_col)\n",
    "    \n",
    "    if steps:\n",
    "        print(\"Initial matrix:\")\n",
    "        display(matrix)\n",
    "\n",
    "    for index in range(loops):\n",
    "        pivot_index_row, pivot_index_col = get_pivot_position(matrix, index)\n",
    "        pivot = get_pivot(matrix, pivot_index_row, pivot_index_col)\n",
    "\n",
    "        if pivot == 0:\n",
    "            continue\n",
    "\n",
    "        # Swap rows if necessary\n",
    "        if pivot_index_row != index:\n",
    "            matrix.row_swap(index, pivot_index_row)\n",
    "        \n",
    "        # Zero out below\n",
    "        for row in range(index + 1, dim_row):\n",
    "            multiplier = matrix[row, index] / pivot\n",
    "            matrix[row, index:] -= multiplier * matrix[index, index:]\n",
    "            if steps:\n",
    "                print(f'R{row} - {multiplier} * R{index}')\n",
    "                display(matrix)\n",
    "        \n",
    "        # Zero out above\n",
    "        for row in range(index - 1, -1, -1):\n",
    "            multiplier = matrix[row, index] / pivot\n",
    "            matrix[row, index:] -= multiplier * matrix[index, index:]\n",
    "            if steps:\n",
    "                print(f'R{row} - {multiplier} * R{index}')\n",
    "                display(matrix)\n",
    "\n",
    "        # Normalize the pivot row\n",
    "        for row in range(dim_row):\n",
    "            if matrix[row, row] == 0 or matrix[row, row] == 1:\n",
    "                continue\n",
    "            if steps:\n",
    "                print(f'{1/matrix[row, row]} * R{row}')\n",
    "            matrix[row, :] /= matrix[row, row]\n",
    "            if steps:\n",
    "                display(matrix)\n",
    "    if steps:\n",
    "        print(\"Final matrix:\")\n",
    "    return matrix\n"
   ]
  },
  {
   "cell_type": "code",
   "execution_count": null,
   "metadata": {},
   "outputs": [],
   "source": [
    "def remove_zero_rows(matrix):\n",
    "    \"\"\"Remove zero rows from the given matrix.\"\"\"\n",
    "    matrix = matrix.tolist()\n",
    "    for i, row in enumerate(matrix):\n",
    "        if all([element == 0 for element in row]):\n",
    "            matrix.pop(i)\n",
    "    return Matrix(matrix)"
   ]
  },
  {
   "cell_type": "code",
   "execution_count": null,
   "metadata": {},
   "outputs": [],
   "source": [
    "from sympy import Matrix, zeros, nsimplify, Rational\n",
    "\n",
    "def apply_minus_one_trick(matrix):\n",
    "    rows, cols = matrix.shape\n",
    "    max_size = max(rows, cols)\n",
    "\n",
    "    square_matrix = zeros(max_size)\n",
    "\n",
    "    for row in range(rows):\n",
    "        if matrix[row, row] == 0:\n",
    "            square_matrix[row, row] = -1\n",
    "            square_matrix[row + 1, :cols] = matrix[row, :]\n",
    "        else:\n",
    "            square_matrix[row, :cols] = matrix[row, :]\n",
    "\n",
    "    for i in range(rows, max_size):\n",
    "        square_matrix[i, i] = square_matrix[i, i] or -1\n",
    "\n",
    "    return square_matrix"
   ]
  },
  {
   "cell_type": "code",
   "execution_count": 6,
   "metadata": {},
   "outputs": [
    {
     "data": {
      "image/png": "[encoded data removed]",
      "text/latex": [
       "$\\displaystyle \\left[\\begin{matrix}1 & 2 & -1 & 1 & -2 & 3\\\\1 & -1 & 1 & 2 & 2 & -6\\\\-3 & 0 & -1 & -2 & 0 & 2\\\\1 & -1 & 1 & -1 & 0 & 1\\end{matrix}\\right]$"
      ],
      "text/plain": [
       "⎡1   2   -1  1   -2  3 ⎤\n",
       "⎢                      ⎥\n",
       "⎢1   -1  1   2   2   -6⎥\n",
       "⎢                      ⎥\n",
       "⎢-3  0   -1  -2  0   2 ⎥\n",
       "⎢                      ⎥\n",
       "⎣1   -1  1   -1  0   1 ⎦"
      ]
     },
     "execution_count": 6,
     "metadata": {},
     "output_type": "execute_result"
    }
   ],
   "source": [
    "A = Matrix([[1, 2, -1, 1, -2, 3], [1, -1, 1, 2, 2, -6], [-3, 0, -1, -2, 0, 2], [1, -1, 1, -1, 0, 1]])\n",
    "A"
   ]
  },
  {
   "cell_type": "code",
   "execution_count": 7,
   "metadata": {},
   "outputs": [
    {
     "name": "stdout",
     "output_type": "stream",
     "text": [
      "Initial matrix:\n"
     ]
    },
    {
     "data": {
      "image/png": "[encoded data removed]",
      "text/latex": [
       "$\\displaystyle \\left[\\begin{matrix}1 & 2 & -1 & 1 & -2 & 3\\\\1 & -1 & 1 & 2 & 2 & -6\\\\-3 & 0 & -1 & -2 & 0 & 2\\\\1 & -1 & 1 & -1 & 0 & 1\\end{matrix}\\right]$"
      ],
      "text/plain": [
       "⎡1   2   -1  1   -2  3 ⎤\n",
       "⎢                      ⎥\n",
       "⎢1   -1  1   2   2   -6⎥\n",
       "⎢                      ⎥\n",
       "⎢-3  0   -1  -2  0   2 ⎥\n",
       "⎢                      ⎥\n",
       "⎣1   -1  1   -1  0   1 ⎦"
      ]
     },
     "metadata": {},
     "output_type": "display_data"
    },
    {
     "name": "stdout",
     "output_type": "stream",
     "text": [
      "R1 - 1 * R0\n"
     ]
    },
    {
     "data": {
      "image/png": "[encoded data removed]",
      "text/latex": [
       "$\\displaystyle \\left[\\begin{matrix}1 & 2 & -1 & 1 & -2 & 3\\\\0 & -3 & 2 & 1 & 4 & -9\\\\-3 & 0 & -1 & -2 & 0 & 2\\\\1 & -1 & 1 & -1 & 0 & 1\\end{matrix}\\right]$"
      ],
      "text/plain": [
       "⎡1   2   -1  1   -2  3 ⎤\n",
       "⎢                      ⎥\n",
       "⎢0   -3  2   1   4   -9⎥\n",
       "⎢                      ⎥\n",
       "⎢-3  0   -1  -2  0   2 ⎥\n",
       "⎢                      ⎥\n",
       "⎣1   -1  1   -1  0   1 ⎦"
      ]
     },
     "metadata": {},
     "output_type": "display_data"
    },
    {
     "name": "stdout",
     "output_type": "stream",
     "text": [
      "R2 - -3 * R0\n"
     ]
    },
    {
     "data": {
      "image/png": "[encoded data removed]",
      "text/latex": [
       "$\\displaystyle \\left[\\begin{matrix}1 & 2 & -1 & 1 & -2 & 3\\\\0 & -3 & 2 & 1 & 4 & -9\\\\0 & 6 & -4 & 1 & -6 & 11\\\\1 & -1 & 1 & -1 & 0 & 1\\end{matrix}\\right]$"
      ],
      "text/plain": [
       "⎡1  2   -1  1   -2  3 ⎤\n",
       "⎢                     ⎥\n",
       "⎢0  -3  2   1   4   -9⎥\n",
       "⎢                     ⎥\n",
       "⎢0  6   -4  1   -6  11⎥\n",
       "⎢                     ⎥\n",
       "⎣1  -1  1   -1  0   1 ⎦"
      ]
     },
     "metadata": {},
     "output_type": "display_data"
    },
    {
     "name": "stdout",
     "output_type": "stream",
     "text": [
      "R3 - 1 * R0\n"
     ]
    },
    {
     "data": {
      "image/png": "[encoded data removed]",
      "text/latex": [
       "$\\displaystyle \\left[\\begin{matrix}1 & 2 & -1 & 1 & -2 & 3\\\\0 & -3 & 2 & 1 & 4 & -9\\\\0 & 6 & -4 & 1 & -6 & 11\\\\0 & -3 & 2 & -2 & 2 & -2\\end{matrix}\\right]$"
      ],
      "text/plain": [
       "⎡1  2   -1  1   -2  3 ⎤\n",
       "⎢                     ⎥\n",
       "⎢0  -3  2   1   4   -9⎥\n",
       "⎢                     ⎥\n",
       "⎢0  6   -4  1   -6  11⎥\n",
       "⎢                     ⎥\n",
       "⎣0  -3  2   -2  2   -2⎦"
      ]
     },
     "metadata": {},
     "output_type": "display_data"
    },
    {
     "name": "stdout",
     "output_type": "stream",
     "text": [
      "-1/3 * R1\n"
     ]
    },
    {
     "data": {
      "image/png": "[encoded data removed]",
      "text/latex": [
       "$\\displaystyle \\left[\\begin{matrix}1 & 2 & -1 & 1 & -2 & 3\\\\0 & 1 & - \\frac{2}{3} & - \\frac{1}{3} & - \\frac{4}{3} & 3\\\\0 & 6 & -4 & 1 & -6 & 11\\\\0 & -3 & 2 & -2 & 2 & -2\\end{matrix}\\right]$"
      ],
      "text/plain": [
       "⎡1  2    -1    1     -2   3 ⎤\n",
       "⎢                           ⎥\n",
       "⎢0  1   -2/3  -1/3  -4/3  3 ⎥\n",
       "⎢                           ⎥\n",
       "⎢0  6    -4    1     -6   11⎥\n",
       "⎢                           ⎥\n",
       "⎣0  -3   2     -2    2    -2⎦"
      ]
     },
     "metadata": {},
     "output_type": "display_data"
    },
    {
     "name": "stdout",
     "output_type": "stream",
     "text": [
      "-1/4 * R2\n"
     ]
    },
    {
     "data": {
      "image/png": "[encoded data removed]",
      "text/latex": [
       "$\\displaystyle \\left[\\begin{matrix}1 & 2 & -1 & 1 & -2 & 3\\\\0 & 1 & - \\frac{2}{3} & - \\frac{1}{3} & - \\frac{4}{3} & 3\\\\0 & - \\frac{3}{2} & 1 & - \\frac{1}{4} & \\frac{3}{2} & - \\frac{11}{4}\\\\0 & -3 & 2 & -2 & 2 & -2\\end{matrix}\\right]$"
      ],
      "text/plain": [
       "⎡1   2     -1    1     -2     3  ⎤\n",
       "⎢                                ⎥\n",
       "⎢0   1    -2/3  -1/3  -4/3    3  ⎥\n",
       "⎢                                ⎥\n",
       "⎢0  -3/2   1    -1/4  3/2   -11/4⎥\n",
       "⎢                                ⎥\n",
       "⎣0   -3    2     -2    2     -2  ⎦"
      ]
     },
     "metadata": {},
     "output_type": "display_data"
    },
    {
     "name": "stdout",
     "output_type": "stream",
     "text": [
      "-1/2 * R3\n"
     ]
    },
    {
     "data": {
      "image/png": "[encoded data removed]",
      "text/latex": [
       "$\\displaystyle \\left[\\begin{matrix}1 & 2 & -1 & 1 & -2 & 3\\\\0 & 1 & - \\frac{2}{3} & - \\frac{1}{3} & - \\frac{4}{3} & 3\\\\0 & - \\frac{3}{2} & 1 & - \\frac{1}{4} & \\frac{3}{2} & - \\frac{11}{4}\\\\0 & \\frac{3}{2} & -1 & 1 & -1 & 1\\end{matrix}\\right]$"
      ],
      "text/plain": [
       "⎡1   2     -1    1     -2     3  ⎤\n",
       "⎢                                ⎥\n",
       "⎢0   1    -2/3  -1/3  -4/3    3  ⎥\n",
       "⎢                                ⎥\n",
       "⎢0  -3/2   1    -1/4  3/2   -11/4⎥\n",
       "⎢                                ⎥\n",
       "⎣0  3/2    -1    1     -1     1  ⎦"
      ]
     },
     "metadata": {},
     "output_type": "display_data"
    },
    {
     "name": "stdout",
     "output_type": "stream",
     "text": [
      "R2 - -1 * R1\n"
     ]
    },
    {
     "data": {
      "image/png": "[encoded data removed]",
      "text/latex": [
       "$\\displaystyle \\left[\\begin{matrix}1 & 2 & -1 & 1 & -2 & 3\\\\0 & \\frac{3}{2} & -1 & 1 & -1 & 1\\\\0 & 0 & 0 & \\frac{3}{4} & \\frac{1}{2} & - \\frac{7}{4}\\\\0 & 1 & - \\frac{2}{3} & - \\frac{1}{3} & - \\frac{4}{3} & 3\\end{matrix}\\right]$"
      ],
      "text/plain": [
       "⎡1   2    -1    1     -2    3  ⎤\n",
       "⎢                              ⎥\n",
       "⎢0  3/2   -1    1     -1    1  ⎥\n",
       "⎢                              ⎥\n",
       "⎢0   0    0    3/4   1/2   -7/4⎥\n",
       "⎢                              ⎥\n",
       "⎣0   1   -2/3  -1/3  -4/3   3  ⎦"
      ]
     },
     "metadata": {},
     "output_type": "display_data"
    },
    {
     "name": "stdout",
     "output_type": "stream",
     "text": [
      "R3 - 2/3 * R1\n"
     ]
    },
    {
     "data": {
      "image/png": "[encoded data removed]",
      "text/latex": [
       "$\\displaystyle \\left[\\begin{matrix}1 & 2 & -1 & 1 & -2 & 3\\\\0 & \\frac{3}{2} & -1 & 1 & -1 & 1\\\\0 & 0 & 0 & \\frac{3}{4} & \\frac{1}{2} & - \\frac{7}{4}\\\\0 & 0 & 0 & -1 & - \\frac{2}{3} & \\frac{7}{3}\\end{matrix}\\right]$"
      ],
      "text/plain": [
       "⎡1   2   -1   1    -2    3  ⎤\n",
       "⎢                           ⎥\n",
       "⎢0  3/2  -1   1    -1    1  ⎥\n",
       "⎢                           ⎥\n",
       "⎢0   0   0   3/4  1/2   -7/4⎥\n",
       "⎢                           ⎥\n",
       "⎣0   0   0   -1   -2/3  7/3 ⎦"
      ]
     },
     "metadata": {},
     "output_type": "display_data"
    },
    {
     "name": "stdout",
     "output_type": "stream",
     "text": [
      "R0 - 4/3 * R1\n"
     ]
    },
    {
     "data": {
      "image/png": "[encoded data removed]",
      "text/latex": [
       "$\\displaystyle \\left[\\begin{matrix}1 & 0 & \\frac{1}{3} & - \\frac{1}{3} & - \\frac{2}{3} & \\frac{5}{3}\\\\0 & \\frac{3}{2} & -1 & 1 & -1 & 1\\\\0 & 0 & 0 & \\frac{3}{4} & \\frac{1}{2} & - \\frac{7}{4}\\\\0 & 0 & 0 & -1 & - \\frac{2}{3} & \\frac{7}{3}\\end{matrix}\\right]$"
      ],
      "text/plain": [
       "⎡1   0   1/3  -1/3  -2/3  5/3 ⎤\n",
       "⎢                             ⎥\n",
       "⎢0  3/2  -1    1     -1    1  ⎥\n",
       "⎢                             ⎥\n",
       "⎢0   0    0   3/4   1/2   -7/4⎥\n",
       "⎢                             ⎥\n",
       "⎣0   0    0    -1   -2/3  7/3 ⎦"
      ]
     },
     "metadata": {},
     "output_type": "display_data"
    },
    {
     "name": "stdout",
     "output_type": "stream",
     "text": [
      "2/3 * R1\n"
     ]
    },
    {
     "data": {
      "image/png": "[encoded data removed]",
      "text/latex": [
       "$\\displaystyle \\left[\\begin{matrix}1 & 0 & \\frac{1}{3} & - \\frac{1}{3} & - \\frac{2}{3} & \\frac{5}{3}\\\\0 & 1 & - \\frac{2}{3} & \\frac{2}{3} & - \\frac{2}{3} & \\frac{2}{3}\\\\0 & 0 & 0 & \\frac{3}{4} & \\frac{1}{2} & - \\frac{7}{4}\\\\0 & 0 & 0 & -1 & - \\frac{2}{3} & \\frac{7}{3}\\end{matrix}\\right]$"
      ],
      "text/plain": [
       "⎡1  0  1/3   -1/3  -2/3  5/3 ⎤\n",
       "⎢                            ⎥\n",
       "⎢0  1  -2/3  2/3   -2/3  2/3 ⎥\n",
       "⎢                            ⎥\n",
       "⎢0  0   0    3/4   1/2   -7/4⎥\n",
       "⎢                            ⎥\n",
       "⎣0  0   0     -1   -2/3  7/3 ⎦"
      ]
     },
     "metadata": {},
     "output_type": "display_data"
    },
    {
     "name": "stdout",
     "output_type": "stream",
     "text": [
      "-1 * R3\n"
     ]
    },
    {
     "data": {
      "image/png": "[encoded data removed]",
      "text/latex": [
       "$\\displaystyle \\left[\\begin{matrix}1 & 0 & \\frac{1}{3} & - \\frac{1}{3} & - \\frac{2}{3} & \\frac{5}{3}\\\\0 & 1 & - \\frac{2}{3} & \\frac{2}{3} & - \\frac{2}{3} & \\frac{2}{3}\\\\0 & 0 & 0 & \\frac{3}{4} & \\frac{1}{2} & - \\frac{7}{4}\\\\0 & 0 & 0 & 1 & \\frac{2}{3} & - \\frac{7}{3}\\end{matrix}\\right]$"
      ],
      "text/plain": [
       "⎡1  0  1/3   -1/3  -2/3  5/3 ⎤\n",
       "⎢                            ⎥\n",
       "⎢0  1  -2/3  2/3   -2/3  2/3 ⎥\n",
       "⎢                            ⎥\n",
       "⎢0  0   0    3/4   1/2   -7/4⎥\n",
       "⎢                            ⎥\n",
       "⎣0  0   0     1    2/3   -7/3⎦"
      ]
     },
     "metadata": {},
     "output_type": "display_data"
    },
    {
     "name": "stdout",
     "output_type": "stream",
     "text": [
      "R2 - 3/4 * R3\n"
     ]
    },
    {
     "data": {
      "image/png": "[encoded data removed]",
      "text/latex": [
       "$\\displaystyle \\left[\\begin{matrix}1 & 0 & \\frac{1}{3} & - \\frac{1}{3} & - \\frac{2}{3} & \\frac{5}{3}\\\\0 & 1 & - \\frac{2}{3} & \\frac{2}{3} & - \\frac{2}{3} & \\frac{2}{3}\\\\0 & 0 & 0 & 0 & 0 & 0\\\\0 & 0 & 0 & 1 & \\frac{2}{3} & - \\frac{7}{3}\\end{matrix}\\right]$"
      ],
      "text/plain": [
       "⎡1  0  1/3   -1/3  -2/3  5/3 ⎤\n",
       "⎢                            ⎥\n",
       "⎢0  1  -2/3  2/3   -2/3  2/3 ⎥\n",
       "⎢                            ⎥\n",
       "⎢0  0   0     0     0     0  ⎥\n",
       "⎢                            ⎥\n",
       "⎣0  0   0     1    2/3   -7/3⎦"
      ]
     },
     "metadata": {},
     "output_type": "display_data"
    },
    {
     "name": "stdout",
     "output_type": "stream",
     "text": [
      "R1 - 2/3 * R3\n"
     ]
    },
    {
     "data": {
      "image/png": "[encoded data removed]",
      "text/latex": [
       "$\\displaystyle \\left[\\begin{matrix}1 & 0 & \\frac{1}{3} & - \\frac{1}{3} & - \\frac{2}{3} & \\frac{5}{3}\\\\0 & 1 & - \\frac{2}{3} & 0 & - \\frac{10}{9} & \\frac{20}{9}\\\\0 & 0 & 0 & 0 & 0 & 0\\\\0 & 0 & 0 & 1 & \\frac{2}{3} & - \\frac{7}{3}\\end{matrix}\\right]$"
      ],
      "text/plain": [
       "⎡1  0  1/3   -1/3  -2/3   5/3 ⎤\n",
       "⎢                             ⎥\n",
       "⎢0  1  -2/3   0    -10/9  20/9⎥\n",
       "⎢                             ⎥\n",
       "⎢0  0   0     0      0     0  ⎥\n",
       "⎢                             ⎥\n",
       "⎣0  0   0     1     2/3   -7/3⎦"
      ]
     },
     "metadata": {},
     "output_type": "display_data"
    },
    {
     "name": "stdout",
     "output_type": "stream",
     "text": [
      "R0 - -1/3 * R3\n"
     ]
    },
    {
     "data": {
      "image/png": "[encoded data removed]",
      "text/latex": [
       "$\\displaystyle \\left[\\begin{matrix}1 & 0 & \\frac{1}{3} & 0 & - \\frac{4}{9} & \\frac{8}{9}\\\\0 & 1 & - \\frac{2}{3} & 0 & - \\frac{10}{9} & \\frac{20}{9}\\\\0 & 0 & 0 & 0 & 0 & 0\\\\0 & 0 & 0 & 1 & \\frac{2}{3} & - \\frac{7}{3}\\end{matrix}\\right]$"
      ],
      "text/plain": [
       "⎡1  0  1/3   0  -4/9   8/9 ⎤\n",
       "⎢                          ⎥\n",
       "⎢0  1  -2/3  0  -10/9  20/9⎥\n",
       "⎢                          ⎥\n",
       "⎢0  0   0    0    0     0  ⎥\n",
       "⎢                          ⎥\n",
       "⎣0  0   0    1   2/3   -7/3⎦"
      ]
     },
     "metadata": {},
     "output_type": "display_data"
    },
    {
     "name": "stdout",
     "output_type": "stream",
     "text": [
      "Final matrix:\n"
     ]
    },
    {
     "data": {
      "image/png": "[encoded data removed]",
      "text/latex": [
       "$\\displaystyle \\left[\\begin{matrix}1 & 0 & \\frac{1}{3} & 0 & - \\frac{4}{9} & \\frac{8}{9}\\\\0 & 1 & - \\frac{2}{3} & 0 & - \\frac{10}{9} & \\frac{20}{9}\\\\0 & 0 & 0 & 0 & 0 & 0\\\\0 & 0 & 0 & 1 & \\frac{2}{3} & - \\frac{7}{3}\\end{matrix}\\right]$"
      ],
      "text/plain": [
       "⎡1  0  1/3   0  -4/9   8/9 ⎤\n",
       "⎢                          ⎥\n",
       "⎢0  1  -2/3  0  -10/9  20/9⎥\n",
       "⎢                          ⎥\n",
       "⎢0  0   0    0    0     0  ⎥\n",
       "⎢                          ⎥\n",
       "⎣0  0   0    1   2/3   -7/3⎦"
      ]
     },
     "execution_count": 7,
     "metadata": {},
     "output_type": "execute_result"
    }
   ],
   "source": [
    "reducedRowEchelonForm(A, steps=True)"
   ]
  },
  {
   "cell_type": "code",
   "execution_count": 13,
   "metadata": {},
   "outputs": [],
   "source": [
    "\n",
    "    "
   ]
  },
  {
   "cell_type": "code",
   "execution_count": 56,
   "metadata": {},
   "outputs": [],
   "source": [
    "rref = reducedRowEchelonForm(A)"
   ]
  },
  {
   "cell_type": "code",
   "execution_count": 57,
   "metadata": {},
   "outputs": [
    {
     "data": {
      "image/png": "[encoded data removed]",
      "text/latex": [
       "$\\displaystyle \\left[\\begin{matrix}1 & 0 & \\frac{1}{3} & 0 & - \\frac{4}{9} & \\frac{8}{9}\\\\0 & 1 & - \\frac{2}{3} & 0 & - \\frac{10}{9} & \\frac{20}{9}\\\\0 & 0 & 0 & 0 & 0 & 0\\\\0 & 0 & 0 & 1 & \\frac{2}{3} & - \\frac{7}{3}\\end{matrix}\\right]$"
      ],
      "text/plain": [
       "⎡1  0  1/3   0  -4/9   8/9 ⎤\n",
       "⎢                          ⎥\n",
       "⎢0  1  -2/3  0  -10/9  20/9⎥\n",
       "⎢                          ⎥\n",
       "⎢0  0   0    0    0     0  ⎥\n",
       "⎢                          ⎥\n",
       "⎣0  0   0    1   2/3   -7/3⎦"
      ]
     },
     "execution_count": 57,
     "metadata": {},
     "output_type": "execute_result"
    }
   ],
   "source": [
    "rref"
   ]
  },
  {
   "cell_type": "code",
   "execution_count": 58,
   "metadata": {},
   "outputs": [],
   "source": [
    "def remove_zero_rows(matrix):\n",
    "    \"\"\"Remove zero rows from the given matrix.\"\"\"\n",
    "    matrix = matrix.tolist()\n",
    "    for i, row in enumerate(matrix):\n",
    "        if all([element == 0 for element in row]):\n",
    "            matrix.pop(i)\n",
    "    return Matrix(matrix)\n",
    "    "
   ]
  },
  {
   "cell_type": "code",
   "execution_count": 59,
   "metadata": {},
   "outputs": [],
   "source": [
    "rref = remove_zero_rows(rref)"
   ]
  },
  {
   "cell_type": "code",
   "execution_count": 60,
   "metadata": {},
   "outputs": [
    {
     "data": {
      "image/png": "[encoded data removed]",
      "text/latex": [
       "$\\displaystyle \\left[\\begin{matrix}1 & 0 & \\frac{1}{3} & 0 & - \\frac{4}{9} & \\frac{8}{9}\\\\0 & 1 & - \\frac{2}{3} & 0 & - \\frac{10}{9} & \\frac{20}{9}\\\\0 & 0 & 0 & 1 & \\frac{2}{3} & - \\frac{7}{3}\\end{matrix}\\right]$"
      ],
      "text/plain": [
       "⎡1  0  1/3   0  -4/9   8/9 ⎤\n",
       "⎢                          ⎥\n",
       "⎢0  1  -2/3  0  -10/9  20/9⎥\n",
       "⎢                          ⎥\n",
       "⎣0  0   0    1   2/3   -7/3⎦"
      ]
     },
     "execution_count": 60,
     "metadata": {},
     "output_type": "execute_result"
    }
   ],
   "source": [
    "rref"
   ]
  },
  {
   "cell_type": "code",
   "execution_count": 61,
   "metadata": {},
   "outputs": [
    {
     "data": {
      "image/png": "[encoded data removed]",
      "text/latex": [
       "$\\displaystyle \\left[\\begin{matrix}1 & 0 & \\frac{1}{3} & 0 & - \\frac{4}{9} & \\frac{8}{9}\\\\0 & 1 & - \\frac{2}{3} & 0 & - \\frac{10}{9} & \\frac{20}{9}\\\\1 & 1 & 1 & 1 & 1 & 1\\\\0 & 0 & 0 & 1 & \\frac{2}{3} & - \\frac{7}{3}\\end{matrix}\\right]$"
      ],
      "text/plain": [
       "⎡1  0  1/3   0  -4/9   8/9 ⎤\n",
       "⎢                          ⎥\n",
       "⎢0  1  -2/3  0  -10/9  20/9⎥\n",
       "⎢                          ⎥\n",
       "⎢1  1   1    1    1     1  ⎥\n",
       "⎢                          ⎥\n",
       "⎣0  0   0    1   2/3   -7/3⎦"
      ]
     },
     "execution_count": 61,
     "metadata": {},
     "output_type": "execute_result"
    }
   ],
   "source": [
    "rref.row_insert(2, Matrix([[0, 0, -1, 0, 0, 0]]))"
   ]
  },
  {
   "cell_type": "code",
   "execution_count": 98,
   "metadata": {},
   "outputs": [
    {
     "data": {
      "image/png": "[encoded data removed]",
      "text/latex": [
       "$\\displaystyle \\left[\\begin{matrix}1 & 0 & \\frac{1}{3} & 0 & - \\frac{4}{9} & \\frac{8}{9}\\\\0 & 1 & - \\frac{2}{3} & 0 & - \\frac{10}{9} & \\frac{20}{9}\\\\0 & 0 & 0 & 1 & \\frac{2}{3} & - \\frac{7}{3}\\end{matrix}\\right]$"
      ],
      "text/plain": [
       "⎡1  0  1/3   0  -4/9   8/9 ⎤\n",
       "⎢                          ⎥\n",
       "⎢0  1  -2/3  0  -10/9  20/9⎥\n",
       "⎢                          ⎥\n",
       "⎣0  0   0    1   2/3   -7/3⎦"
      ]
     },
     "execution_count": 98,
     "metadata": {},
     "output_type": "execute_result"
    }
   ],
   "source": [
    "rref"
   ]
  },
  {
   "cell_type": "code",
   "execution_count": 159,
   "metadata": {},
   "outputs": [],
   "source": [
    "from sympy import Matrix, zeros, nsimplify, Rational\n",
    "\n",
    "def apply_minus_one_trick(matrix):\n",
    "    rows, cols = matrix.shape\n",
    "    max_size = max(rows, cols)\n",
    "\n",
    "    square_matrix = zeros(max_size)\n",
    "\n",
    "    for row in range(rows):\n",
    "        if matrix[row, row] == 0:\n",
    "            square_matrix[row, row] = -1\n",
    "            square_matrix[row + 1, :cols] = matrix[row, :]\n",
    "        else:\n",
    "            square_matrix[row, :cols] = matrix[row, :]\n",
    "\n",
    "    for i in range(rows, max_size):\n",
    "        square_matrix[i, i] = square_matrix[i, i] or -1\n",
    "\n",
    "    return square_matrix\n"
   ]
  },
  {
   "cell_type": "code",
   "execution_count": 152,
   "metadata": {},
   "outputs": [
    {
     "data": {
      "image/png": "[encoded data removed]",
      "text/latex": [
       "$\\displaystyle \\left[\\begin{matrix}1 & 0 & \\frac{1}{3} & 0 & - \\frac{4}{9} & \\frac{8}{9}\\\\0 & 1 & - \\frac{2}{3} & 0 & - \\frac{10}{9} & \\frac{20}{9}\\\\0 & 0 & -1 & 0 & 0 & 0\\\\0 & 0 & 0 & 1 & \\frac{2}{3} & - \\frac{7}{3}\\\\0 & 0 & 0 & 0 & -1 & 0\\\\0 & 0 & 0 & 0 & 0 & -1\\end{matrix}\\right]$"
      ],
      "text/plain": [
       "⎡1  0  1/3   0  -4/9   8/9 ⎤\n",
       "⎢                          ⎥\n",
       "⎢0  1  -2/3  0  -10/9  20/9⎥\n",
       "⎢                          ⎥\n",
       "⎢0  0   -1   0    0     0  ⎥\n",
       "⎢                          ⎥\n",
       "⎢0  0   0    1   2/3   -7/3⎥\n",
       "⎢                          ⎥\n",
       "⎢0  0   0    0   -1     0  ⎥\n",
       "⎢                          ⎥\n",
       "⎣0  0   0    0    0     -1 ⎦"
      ]
     },
     "execution_count": 152,
     "metadata": {},
     "output_type": "execute_result"
    }
   ],
   "source": [
    "apply_minus_one_trick(rref)"
   ]
  },
  {
   "cell_type": "code",
   "execution_count": 174,
   "metadata": {},
   "outputs": [],
   "source": [
    "v_A = Matrix([1/3, -2/3, -1])\n",
    "v_B = Matrix([0, 0, 0])"
   ]
  },
  {
   "cell_type": "code",
   "execution_count": 182,
   "metadata": {},
   "outputs": [],
   "source": [
    "A = Matrix([[1, 2, -1], [1, -1, 1], [-3, 0, -1], [1, -1, 1]], rational = True)\n",
    "B = Matrix([[-1, 2, 3], [-2, -2, 6], [2, 0, -2], [1, 0, -1]], rational = True)"
   ]
  },
  {
   "cell_type": "code",
   "execution_count": 183,
   "metadata": {},
   "outputs": [
    {
     "data": {
      "image/png": "[encoded data removed]",
      "text/latex": [
       "$\\displaystyle \\left[\\begin{matrix}-2.66666666666667\\\\0.666666666666667\\\\1.33333333333333\\\\0.666666666666667\\end{matrix}\\right]$"
      ],
      "text/plain": [
       "⎡-2.66666666666667⎤\n",
       "⎢                 ⎥\n",
       "⎢0.666666666666667⎥\n",
       "⎢                 ⎥\n",
       "⎢1.33333333333333 ⎥\n",
       "⎢                 ⎥\n",
       "⎣0.666666666666667⎦"
      ]
     },
     "execution_count": 183,
     "metadata": {},
     "output_type": "execute_result"
    }
   ],
   "source": [
    "nsimplify(A@v_A)"
   ]
  },
  {
   "cell_type": "code",
   "execution_count": 184,
   "metadata": {},
   "outputs": [
    {
     "data": {
      "image/png": "[encoded data removed]",
      "text/latex": [
       "$\\displaystyle \\left[\\begin{matrix}-2.66666666666667\\\\0.666666666666667\\\\1.33333333333333\\\\0.666666666666667\\end{matrix}\\right]$"
      ],
      "text/plain": [
       "⎡-2.66666666666667⎤\n",
       "⎢                 ⎥\n",
       "⎢0.666666666666667⎥\n",
       "⎢                 ⎥\n",
       "⎢1.33333333333333 ⎥\n",
       "⎢                 ⎥\n",
       "⎣0.666666666666667⎦"
      ]
     },
     "execution_count": 184,
     "metadata": {},
     "output_type": "execute_result"
    }
   ],
   "source": [
    "B@v_B"
   ]
  },
  {
   "cell_type": "code",
   "execution_count": 191,
   "metadata": {},
   "outputs": [],
   "source": [
    "v_A = Matrix([Rational(-4, 9), Rational(-10, 9), Rational(0)], rational = True)\n",
    "v_B = Matrix([Rational(2, 3), -1, 0], rational = True)"
   ]
  },
  {
   "cell_type": "code",
   "execution_count": 192,
   "metadata": {},
   "outputs": [
    {
     "data": {
      "image/png": "[encoded data removed]",
      "text/latex": [
       "$\\displaystyle \\left[\\begin{matrix}- \\frac{8}{3}\\\\\\frac{2}{3}\\\\\\frac{4}{3}\\\\\\frac{2}{3}\\end{matrix}\\right]$"
      ],
      "text/plain": [
       "⎡-8/3⎤\n",
       "⎢    ⎥\n",
       "⎢2/3 ⎥\n",
       "⎢    ⎥\n",
       "⎢4/3 ⎥\n",
       "⎢    ⎥\n",
       "⎣2/3 ⎦"
      ]
     },
     "execution_count": 192,
     "metadata": {},
     "output_type": "execute_result"
    }
   ],
   "source": [
    "nsimplify(A*v_A)"
   ]
  },
  {
   "cell_type": "code",
   "execution_count": 193,
   "metadata": {},
   "outputs": [
    {
     "data": {
      "image/png": "[encoded data removed]",
      "text/latex": [
       "$\\displaystyle \\left[\\begin{matrix}- \\frac{8}{3}\\\\\\frac{2}{3}\\\\\\frac{4}{3}\\\\\\frac{2}{3}\\end{matrix}\\right]$"
      ],
      "text/plain": [
       "⎡-8/3⎤\n",
       "⎢    ⎥\n",
       "⎢2/3 ⎥\n",
       "⎢    ⎥\n",
       "⎢4/3 ⎥\n",
       "⎢    ⎥\n",
       "⎣2/3 ⎦"
      ]
     },
     "execution_count": 193,
     "metadata": {},
     "output_type": "execute_result"
    }
   ],
   "source": [
    "B@v_B"
   ]
  },
  {
   "cell_type": "code",
   "execution_count": 194,
   "metadata": {},
   "outputs": [],
   "source": [
    "v_A = Matrix([Rational(8, 9), Rational(20, 9), 0], rational = True)\n",
    "v_B = Matrix([Rational(7, 3), 0, -1], rational = True)"
   ]
  },
  {
   "cell_type": "code",
   "execution_count": 195,
   "metadata": {},
   "outputs": [
    {
     "data": {
      "image/png": "[encoded data removed]",
      "text/latex": [
       "$\\displaystyle \\left[\\begin{matrix}\\frac{16}{3}\\\\- \\frac{4}{3}\\\\- \\frac{8}{3}\\\\- \\frac{4}{3}\\end{matrix}\\right]$"
      ],
      "text/plain": [
       "⎡16/3⎤\n",
       "⎢    ⎥\n",
       "⎢-4/3⎥\n",
       "⎢    ⎥\n",
       "⎢-8/3⎥\n",
       "⎢    ⎥\n",
       "⎣-4/3⎦"
      ]
     },
     "execution_count": 195,
     "metadata": {},
     "output_type": "execute_result"
    }
   ],
   "source": [
    "A*v_A"
   ]
  },
  {
   "cell_type": "code",
   "execution_count": 196,
   "metadata": {},
   "outputs": [
    {
     "data": {
      "image/png": "[encoded data removed]",
      "text/latex": [
       "$\\displaystyle \\left[\\begin{matrix}- \\frac{16}{3}\\\\- \\frac{32}{3}\\\\\\frac{20}{3}\\\\\\frac{10}{3}\\end{matrix}\\right]$"
      ],
      "text/plain": [
       "⎡-16/3⎤\n",
       "⎢     ⎥\n",
       "⎢-32/3⎥\n",
       "⎢     ⎥\n",
       "⎢20/3 ⎥\n",
       "⎢     ⎥\n",
       "⎣10/3 ⎦"
      ]
     },
     "execution_count": 196,
     "metadata": {},
     "output_type": "execute_result"
    }
   ],
   "source": [
    "B@v_B"
   ]
  },
  {
   "cell_type": "code",
   "execution_count": 197,
   "metadata": {},
   "outputs": [],
   "source": [
    "A = Matrix([[1, 3, 0, 0, 3], [0, 0, 1, 0, 9], [0, 0, 0, 1, -4]])"
   ]
  },
  {
   "cell_type": "code",
   "execution_count": 198,
   "metadata": {},
   "outputs": [
    {
     "name": "stdout",
     "output_type": "stream",
     "text": [
      "Initial matrix:\n"
     ]
    },
    {
     "data": {
      "image/png": "[encoded data removed]",
      "text/latex": [
       "$\\displaystyle \\left[\\begin{matrix}1 & 3 & 0 & 0 & 3\\\\0 & 0 & 1 & 0 & 9\\\\0 & 0 & 0 & 1 & -4\\end{matrix}\\right]$"
      ],
      "text/plain": [
       "⎡1  3  0  0  3 ⎤\n",
       "⎢              ⎥\n",
       "⎢0  0  1  0  9 ⎥\n",
       "⎢              ⎥\n",
       "⎣0  0  0  1  -4⎦"
      ]
     },
     "metadata": {},
     "output_type": "display_data"
    },
    {
     "name": "stdout",
     "output_type": "stream",
     "text": [
      "R1 - 0 * R0\n"
     ]
    },
    {
     "data": {
      "image/png": "[encoded data removed]",
      "text/latex": [
       "$\\displaystyle \\left[\\begin{matrix}1 & 3 & 0 & 0 & 3\\\\0 & 0 & 1 & 0 & 9\\\\0 & 0 & 0 & 1 & -4\\end{matrix}\\right]$"
      ],
      "text/plain": [
       "⎡1  3  0  0  3 ⎤\n",
       "⎢              ⎥\n",
       "⎢0  0  1  0  9 ⎥\n",
       "⎢              ⎥\n",
       "⎣0  0  0  1  -4⎦"
      ]
     },
     "metadata": {},
     "output_type": "display_data"
    },
    {
     "name": "stdout",
     "output_type": "stream",
     "text": [
      "R2 - 0 * R0\n"
     ]
    },
    {
     "data": {
      "image/png": "[encoded data removed]",
      "text/latex": [
       "$\\displaystyle \\left[\\begin{matrix}1 & 3 & 0 & 0 & 3\\\\0 & 0 & 1 & 0 & 9\\\\0 & 0 & 0 & 1 & -4\\end{matrix}\\right]$"
      ],
      "text/plain": [
       "⎡1  3  0  0  3 ⎤\n",
       "⎢              ⎥\n",
       "⎢0  0  1  0  9 ⎥\n",
       "⎢              ⎥\n",
       "⎣0  0  0  1  -4⎦"
      ]
     },
     "metadata": {},
     "output_type": "display_data"
    },
    {
     "name": "stdout",
     "output_type": "stream",
     "text": [
      "Final matrix:\n"
     ]
    }
   ],
   "source": [
    "rref = reducedRowEchelonForm(A, steps=True)"
   ]
  },
  {
   "cell_type": "code",
   "execution_count": 199,
   "metadata": {},
   "outputs": [],
   "source": [
    "a = apply_minus_one_trick(rref)"
   ]
  },
  {
   "cell_type": "code",
   "execution_count": 200,
   "metadata": {},
   "outputs": [
    {
     "data": {
      "image/png": "[encoded data removed]",
      "text/latex": [
       "$\\displaystyle \\left[\\begin{matrix}1 & 3 & 0 & 0 & 3\\\\0 & -1 & 0 & 0 & 0\\\\0 & 0 & -1 & 0 & 9\\\\0 & 0 & 0 & 1 & -4\\\\0 & 0 & 0 & 0 & -1\\end{matrix}\\right]$"
      ],
      "text/plain": [
       "⎡1  3   0   0  3 ⎤\n",
       "⎢                ⎥\n",
       "⎢0  -1  0   0  0 ⎥\n",
       "⎢                ⎥\n",
       "⎢0  0   -1  0  9 ⎥\n",
       "⎢                ⎥\n",
       "⎢0  0   0   1  -4⎥\n",
       "⎢                ⎥\n",
       "⎣0  0   0   0  -1⎦"
      ]
     },
     "execution_count": 200,
     "metadata": {},
     "output_type": "execute_result"
    }
   ],
   "source": [
    "a"
   ]
  },
  {
   "cell_type": "code",
   "execution_count": 201,
   "metadata": {},
   "outputs": [],
   "source": [
    "b = Matrix([3, -1, 0, 0, 0])\n",
    "c = Matrix([3, 0, 9, -4, -1])"
   ]
  },
  {
   "cell_type": "code",
   "execution_count": 202,
   "metadata": {},
   "outputs": [
    {
     "data": {
      "image/png": "[encoded data removed]",
      "text/latex": [
       "$\\displaystyle \\left[\\begin{matrix}0\\\\0\\\\0\\end{matrix}\\right]$"
      ],
      "text/plain": [
       "⎡0⎤\n",
       "⎢ ⎥\n",
       "⎢0⎥\n",
       "⎢ ⎥\n",
       "⎣0⎦"
      ]
     },
     "execution_count": 202,
     "metadata": {},
     "output_type": "execute_result"
    }
   ],
   "source": [
    "A@b"
   ]
  },
  {
   "cell_type": "code",
   "execution_count": 203,
   "metadata": {},
   "outputs": [
    {
     "data": {
      "image/png": "[encoded data removed]",
      "text/latex": [
       "$\\displaystyle \\left[\\begin{matrix}0\\\\0\\\\0\\end{matrix}\\right]$"
      ],
      "text/plain": [
       "⎡0⎤\n",
       "⎢ ⎥\n",
       "⎢0⎥\n",
       "⎢ ⎥\n",
       "⎣0⎦"
      ]
     },
     "execution_count": 203,
     "metadata": {},
     "output_type": "execute_result"
    }
   ],
   "source": [
    "A@c"
   ]
  },
  {
   "cell_type": "code",
   "execution_count": 204,
   "metadata": {},
   "outputs": [],
   "source": [
    "A = Matrix([[1, 0, 2, 0, 1, 0, 0, 0], [1, 1, 0, 0, 0, 1, 0, 0], [1, 2, 0, 1, 0, 0, 1, 0], [1, 1, 1, 1, 0, 0, 0, 1]])"
   ]
  },
  {
   "cell_type": "code",
   "execution_count": 205,
   "metadata": {},
   "outputs": [
    {
     "name": "stdout",
     "output_type": "stream",
     "text": [
      "Initial matrix:\n"
     ]
    },
    {
     "data": {
      "image/png": "[encoded data removed]",
      "text/latex": [
       "$\\displaystyle \\left[\\begin{matrix}1 & 0 & 2 & 0 & 1 & 0 & 0 & 0\\\\1 & 1 & 0 & 0 & 0 & 1 & 0 & 0\\\\1 & 2 & 0 & 1 & 0 & 0 & 1 & 0\\\\1 & 1 & 1 & 1 & 0 & 0 & 0 & 1\\end{matrix}\\right]$"
      ],
      "text/plain": [
       "⎡1  0  2  0  1  0  0  0⎤\n",
       "⎢                      ⎥\n",
       "⎢1  1  0  0  0  1  0  0⎥\n",
       "⎢                      ⎥\n",
       "⎢1  2  0  1  0  0  1  0⎥\n",
       "⎢                      ⎥\n",
       "⎣1  1  1  1  0  0  0  1⎦"
      ]
     },
     "metadata": {},
     "output_type": "display_data"
    },
    {
     "name": "stdout",
     "output_type": "stream",
     "text": [
      "R1 - 1 * R0\n"
     ]
    },
    {
     "data": {
      "image/png": "[encoded data removed]",
      "text/latex": [
       "$\\displaystyle \\left[\\begin{matrix}1 & 0 & 2 & 0 & 1 & 0 & 0 & 0\\\\0 & 1 & -2 & 0 & -1 & 1 & 0 & 0\\\\1 & 2 & 0 & 1 & 0 & 0 & 1 & 0\\\\1 & 1 & 1 & 1 & 0 & 0 & 0 & 1\\end{matrix}\\right]$"
      ],
      "text/plain": [
       "⎡1  0  2   0  1   0  0  0⎤\n",
       "⎢                        ⎥\n",
       "⎢0  1  -2  0  -1  1  0  0⎥\n",
       "⎢                        ⎥\n",
       "⎢1  2  0   1  0   0  1  0⎥\n",
       "⎢                        ⎥\n",
       "⎣1  1  1   1  0   0  0  1⎦"
      ]
     },
     "metadata": {},
     "output_type": "display_data"
    },
    {
     "name": "stdout",
     "output_type": "stream",
     "text": [
      "R2 - 1 * R0\n"
     ]
    },
    {
     "data": {
      "image/png": "[encoded data removed]",
      "text/latex": [
       "$\\displaystyle \\left[\\begin{matrix}1 & 0 & 2 & 0 & 1 & 0 & 0 & 0\\\\0 & 1 & -2 & 0 & -1 & 1 & 0 & 0\\\\0 & 2 & -2 & 1 & -1 & 0 & 1 & 0\\\\1 & 1 & 1 & 1 & 0 & 0 & 0 & 1\\end{matrix}\\right]$"
      ],
      "text/plain": [
       "⎡1  0  2   0  1   0  0  0⎤\n",
       "⎢                        ⎥\n",
       "⎢0  1  -2  0  -1  1  0  0⎥\n",
       "⎢                        ⎥\n",
       "⎢0  2  -2  1  -1  0  1  0⎥\n",
       "⎢                        ⎥\n",
       "⎣1  1  1   1  0   0  0  1⎦"
      ]
     },
     "metadata": {},
     "output_type": "display_data"
    },
    {
     "name": "stdout",
     "output_type": "stream",
     "text": [
      "R3 - 1 * R0\n"
     ]
    },
    {
     "data": {
      "image/png": "[encoded data removed]",
      "text/latex": [
       "$\\displaystyle \\left[\\begin{matrix}1 & 0 & 2 & 0 & 1 & 0 & 0 & 0\\\\0 & 1 & -2 & 0 & -1 & 1 & 0 & 0\\\\0 & 2 & -2 & 1 & -1 & 0 & 1 & 0\\\\0 & 1 & -1 & 1 & -1 & 0 & 0 & 1\\end{matrix}\\right]$"
      ],
      "text/plain": [
       "⎡1  0  2   0  1   0  0  0⎤\n",
       "⎢                        ⎥\n",
       "⎢0  1  -2  0  -1  1  0  0⎥\n",
       "⎢                        ⎥\n",
       "⎢0  2  -2  1  -1  0  1  0⎥\n",
       "⎢                        ⎥\n",
       "⎣0  1  -1  1  -1  0  0  1⎦"
      ]
     },
     "metadata": {},
     "output_type": "display_data"
    },
    {
     "name": "stdout",
     "output_type": "stream",
     "text": [
      "-1/2 * R2\n"
     ]
    },
    {
     "data": {
      "image/png": "[encoded data removed]",
      "text/latex": [
       "$\\displaystyle \\left[\\begin{matrix}1 & 0 & 2 & 0 & 1 & 0 & 0 & 0\\\\0 & 1 & -2 & 0 & -1 & 1 & 0 & 0\\\\0 & -1 & 1 & - \\frac{1}{2} & \\frac{1}{2} & 0 & - \\frac{1}{2} & 0\\\\0 & 1 & -1 & 1 & -1 & 0 & 0 & 1\\end{matrix}\\right]$"
      ],
      "text/plain": [
       "⎡1  0   2    0     1   0   0    0⎤\n",
       "⎢                                ⎥\n",
       "⎢0  1   -2   0    -1   1   0    0⎥\n",
       "⎢                                ⎥\n",
       "⎢0  -1  1   -1/2  1/2  0  -1/2  0⎥\n",
       "⎢                                ⎥\n",
       "⎣0  1   -1   1    -1   0   0    1⎦"
      ]
     },
     "metadata": {},
     "output_type": "display_data"
    },
    {
     "name": "stdout",
     "output_type": "stream",
     "text": [
      "R2 - -1 * R1\n"
     ]
    },
    {
     "data": {
      "image/png": "[encoded data removed]",
      "text/latex": [
       "$\\displaystyle \\left[\\begin{matrix}1 & 0 & 2 & 0 & 1 & 0 & 0 & 0\\\\0 & 1 & -2 & 0 & -1 & 1 & 0 & 0\\\\0 & 0 & -1 & - \\frac{1}{2} & - \\frac{1}{2} & 1 & - \\frac{1}{2} & 0\\\\0 & 1 & -1 & 1 & -1 & 0 & 0 & 1\\end{matrix}\\right]$"
      ],
      "text/plain": [
       "⎡1  0  2    0     1    0   0    0⎤\n",
       "⎢                                ⎥\n",
       "⎢0  1  -2   0     -1   1   0    0⎥\n",
       "⎢                                ⎥\n",
       "⎢0  0  -1  -1/2  -1/2  1  -1/2  0⎥\n",
       "⎢                                ⎥\n",
       "⎣0  1  -1   1     -1   0   0    1⎦"
      ]
     },
     "metadata": {},
     "output_type": "display_data"
    },
    {
     "name": "stdout",
     "output_type": "stream",
     "text": [
      "R3 - 1 * R1\n"
     ]
    },
    {
     "data": {
      "image/png": "[encoded data removed]",
      "text/latex": [
       "$\\displaystyle \\left[\\begin{matrix}1 & 0 & 2 & 0 & 1 & 0 & 0 & 0\\\\0 & 1 & -2 & 0 & -1 & 1 & 0 & 0\\\\0 & 0 & -1 & - \\frac{1}{2} & - \\frac{1}{2} & 1 & - \\frac{1}{2} & 0\\\\0 & 0 & 1 & 1 & 0 & -1 & 0 & 1\\end{matrix}\\right]$"
      ],
      "text/plain": [
       "⎡1  0  2    0     1    0    0    0⎤\n",
       "⎢                                 ⎥\n",
       "⎢0  1  -2   0     -1   1    0    0⎥\n",
       "⎢                                 ⎥\n",
       "⎢0  0  -1  -1/2  -1/2  1   -1/2  0⎥\n",
       "⎢                                 ⎥\n",
       "⎣0  0  1    1     0    -1   0    1⎦"
      ]
     },
     "metadata": {},
     "output_type": "display_data"
    },
    {
     "name": "stdout",
     "output_type": "stream",
     "text": [
      "R0 - 0 * R1\n"
     ]
    },
    {
     "data": {
      "image/png": "[encoded data removed]",
      "text/latex": [
       "$\\displaystyle \\left[\\begin{matrix}1 & 0 & 2 & 0 & 1 & 0 & 0 & 0\\\\0 & 1 & -2 & 0 & -1 & 1 & 0 & 0\\\\0 & 0 & -1 & - \\frac{1}{2} & - \\frac{1}{2} & 1 & - \\frac{1}{2} & 0\\\\0 & 0 & 1 & 1 & 0 & -1 & 0 & 1\\end{matrix}\\right]$"
      ],
      "text/plain": [
       "⎡1  0  2    0     1    0    0    0⎤\n",
       "⎢                                 ⎥\n",
       "⎢0  1  -2   0     -1   1    0    0⎥\n",
       "⎢                                 ⎥\n",
       "⎢0  0  -1  -1/2  -1/2  1   -1/2  0⎥\n",
       "⎢                                 ⎥\n",
       "⎣0  0  1    1     0    -1   0    1⎦"
      ]
     },
     "metadata": {},
     "output_type": "display_data"
    },
    {
     "name": "stdout",
     "output_type": "stream",
     "text": [
      "-1 * R2\n"
     ]
    },
    {
     "data": {
      "image/png": "[encoded data removed]",
      "text/latex": [
       "$\\displaystyle \\left[\\begin{matrix}1 & 0 & 2 & 0 & 1 & 0 & 0 & 0\\\\0 & 1 & -2 & 0 & -1 & 1 & 0 & 0\\\\0 & 0 & 1 & \\frac{1}{2} & \\frac{1}{2} & -1 & \\frac{1}{2} & 0\\\\0 & 0 & 1 & 1 & 0 & -1 & 0 & 1\\end{matrix}\\right]$"
      ],
      "text/plain": [
       "⎡1  0  2    0    1   0    0   0⎤\n",
       "⎢                              ⎥\n",
       "⎢0  1  -2   0   -1   1    0   0⎥\n",
       "⎢                              ⎥\n",
       "⎢0  0  1   1/2  1/2  -1  1/2  0⎥\n",
       "⎢                              ⎥\n",
       "⎣0  0  1    1    0   -1   0   1⎦"
      ]
     },
     "metadata": {},
     "output_type": "display_data"
    },
    {
     "name": "stdout",
     "output_type": "stream",
     "text": [
      "R3 - 1 * R2\n"
     ]
    },
    {
     "data": {
      "image/png": "[encoded data removed]",
      "text/latex": [
       "$\\displaystyle \\left[\\begin{matrix}1 & 0 & 2 & 0 & 1 & 0 & 0 & 0\\\\0 & 1 & -2 & 0 & -1 & 1 & 0 & 0\\\\0 & 0 & 1 & \\frac{1}{2} & \\frac{1}{2} & -1 & \\frac{1}{2} & 0\\\\0 & 0 & 0 & \\frac{1}{2} & - \\frac{1}{2} & 0 & - \\frac{1}{2} & 1\\end{matrix}\\right]$"
      ],
      "text/plain": [
       "⎡1  0  2    0    1    0    0    0⎤\n",
       "⎢                                ⎥\n",
       "⎢0  1  -2   0    -1   1    0    0⎥\n",
       "⎢                                ⎥\n",
       "⎢0  0  1   1/2  1/2   -1  1/2   0⎥\n",
       "⎢                                ⎥\n",
       "⎣0  0  0   1/2  -1/2  0   -1/2  1⎦"
      ]
     },
     "metadata": {},
     "output_type": "display_data"
    },
    {
     "name": "stdout",
     "output_type": "stream",
     "text": [
      "R1 - -2 * R2\n"
     ]
    },
    {
     "data": {
      "image/png": "[encoded data removed]",
      "text/latex": [
       "$\\displaystyle \\left[\\begin{matrix}1 & 0 & 2 & 0 & 1 & 0 & 0 & 0\\\\0 & 1 & 0 & 1 & 0 & -1 & 1 & 0\\\\0 & 0 & 1 & \\frac{1}{2} & \\frac{1}{2} & -1 & \\frac{1}{2} & 0\\\\0 & 0 & 0 & \\frac{1}{2} & - \\frac{1}{2} & 0 & - \\frac{1}{2} & 1\\end{matrix}\\right]$"
      ],
      "text/plain": [
       "⎡1  0  2   0    1    0    0    0⎤\n",
       "⎢                               ⎥\n",
       "⎢0  1  0   1    0    -1   1    0⎥\n",
       "⎢                               ⎥\n",
       "⎢0  0  1  1/2  1/2   -1  1/2   0⎥\n",
       "⎢                               ⎥\n",
       "⎣0  0  0  1/2  -1/2  0   -1/2  1⎦"
      ]
     },
     "metadata": {},
     "output_type": "display_data"
    },
    {
     "name": "stdout",
     "output_type": "stream",
     "text": [
      "R0 - 2 * R2\n"
     ]
    },
    {
     "data": {
      "image/png": "[encoded data removed]",
      "text/latex": [
       "$\\displaystyle \\left[\\begin{matrix}1 & 0 & 0 & -1 & 0 & 2 & -1 & 0\\\\0 & 1 & 0 & 1 & 0 & -1 & 1 & 0\\\\0 & 0 & 1 & \\frac{1}{2} & \\frac{1}{2} & -1 & \\frac{1}{2} & 0\\\\0 & 0 & 0 & \\frac{1}{2} & - \\frac{1}{2} & 0 & - \\frac{1}{2} & 1\\end{matrix}\\right]$"
      ],
      "text/plain": [
       "⎡1  0  0  -1    0    2    -1   0⎤\n",
       "⎢                               ⎥\n",
       "⎢0  1  0   1    0    -1   1    0⎥\n",
       "⎢                               ⎥\n",
       "⎢0  0  1  1/2  1/2   -1  1/2   0⎥\n",
       "⎢                               ⎥\n",
       "⎣0  0  0  1/2  -1/2  0   -1/2  1⎦"
      ]
     },
     "metadata": {},
     "output_type": "display_data"
    },
    {
     "name": "stdout",
     "output_type": "stream",
     "text": [
      "2 * R3\n"
     ]
    },
    {
     "data": {
      "image/png": "[encoded data removed]",
      "text/latex": [
       "$\\displaystyle \\left[\\begin{matrix}1 & 0 & 0 & -1 & 0 & 2 & -1 & 0\\\\0 & 1 & 0 & 1 & 0 & -1 & 1 & 0\\\\0 & 0 & 1 & \\frac{1}{2} & \\frac{1}{2} & -1 & \\frac{1}{2} & 0\\\\0 & 0 & 0 & 1 & -1 & 0 & -1 & 2\\end{matrix}\\right]$"
      ],
      "text/plain": [
       "⎡1  0  0  -1    0   2   -1   0⎤\n",
       "⎢                             ⎥\n",
       "⎢0  1  0   1    0   -1   1   0⎥\n",
       "⎢                             ⎥\n",
       "⎢0  0  1  1/2  1/2  -1  1/2  0⎥\n",
       "⎢                             ⎥\n",
       "⎣0  0  0   1   -1   0   -1   2⎦"
      ]
     },
     "metadata": {},
     "output_type": "display_data"
    },
    {
     "name": "stdout",
     "output_type": "stream",
     "text": [
      "R2 - 1/2 * R3\n"
     ]
    },
    {
     "data": {
      "image/png": "[encoded data removed]",
      "text/latex": [
       "$\\displaystyle \\left[\\begin{matrix}1 & 0 & 0 & -1 & 0 & 2 & -1 & 0\\\\0 & 1 & 0 & 1 & 0 & -1 & 1 & 0\\\\0 & 0 & 1 & 0 & 1 & -1 & 1 & -1\\\\0 & 0 & 0 & 1 & -1 & 0 & -1 & 2\\end{matrix}\\right]$"
      ],
      "text/plain": [
       "⎡1  0  0  -1  0   2   -1  0 ⎤\n",
       "⎢                           ⎥\n",
       "⎢0  1  0  1   0   -1  1   0 ⎥\n",
       "⎢                           ⎥\n",
       "⎢0  0  1  0   1   -1  1   -1⎥\n",
       "⎢                           ⎥\n",
       "⎣0  0  0  1   -1  0   -1  2 ⎦"
      ]
     },
     "metadata": {},
     "output_type": "display_data"
    },
    {
     "name": "stdout",
     "output_type": "stream",
     "text": [
      "R1 - 1 * R3\n"
     ]
    },
    {
     "data": {
      "image/png": "[encoded data removed]",
      "text/latex": [
       "$\\displaystyle \\left[\\begin{matrix}1 & 0 & 0 & -1 & 0 & 2 & -1 & 0\\\\0 & 1 & 0 & 0 & 1 & -1 & 2 & -2\\\\0 & 0 & 1 & 0 & 1 & -1 & 1 & -1\\\\0 & 0 & 0 & 1 & -1 & 0 & -1 & 2\\end{matrix}\\right]$"
      ],
      "text/plain": [
       "⎡1  0  0  -1  0   2   -1  0 ⎤\n",
       "⎢                           ⎥\n",
       "⎢0  1  0  0   1   -1  2   -2⎥\n",
       "⎢                           ⎥\n",
       "⎢0  0  1  0   1   -1  1   -1⎥\n",
       "⎢                           ⎥\n",
       "⎣0  0  0  1   -1  0   -1  2 ⎦"
      ]
     },
     "metadata": {},
     "output_type": "display_data"
    },
    {
     "name": "stdout",
     "output_type": "stream",
     "text": [
      "R0 - -1 * R3\n"
     ]
    },
    {
     "data": {
      "image/png": "[encoded data removed]",
      "text/latex": [
       "$\\displaystyle \\left[\\begin{matrix}1 & 0 & 0 & 0 & -1 & 2 & -2 & 2\\\\0 & 1 & 0 & 0 & 1 & -1 & 2 & -2\\\\0 & 0 & 1 & 0 & 1 & -1 & 1 & -1\\\\0 & 0 & 0 & 1 & -1 & 0 & -1 & 2\\end{matrix}\\right]$"
      ],
      "text/plain": [
       "⎡1  0  0  0  -1  2   -2  2 ⎤\n",
       "⎢                          ⎥\n",
       "⎢0  1  0  0  1   -1  2   -2⎥\n",
       "⎢                          ⎥\n",
       "⎢0  0  1  0  1   -1  1   -1⎥\n",
       "⎢                          ⎥\n",
       "⎣0  0  0  1  -1  0   -1  2 ⎦"
      ]
     },
     "metadata": {},
     "output_type": "display_data"
    },
    {
     "name": "stdout",
     "output_type": "stream",
     "text": [
      "Final matrix:\n"
     ]
    },
    {
     "data": {
      "image/png": "[encoded data removed]",
      "text/latex": [
       "$\\displaystyle \\left[\\begin{matrix}1 & 0 & 0 & 0 & -1 & 2 & -2 & 2\\\\0 & 1 & 0 & 0 & 1 & -1 & 2 & -2\\\\0 & 0 & 1 & 0 & 1 & -1 & 1 & -1\\\\0 & 0 & 0 & 1 & -1 & 0 & -1 & 2\\end{matrix}\\right]$"
      ],
      "text/plain": [
       "⎡1  0  0  0  -1  2   -2  2 ⎤\n",
       "⎢                          ⎥\n",
       "⎢0  1  0  0  1   -1  2   -2⎥\n",
       "⎢                          ⎥\n",
       "⎢0  0  1  0  1   -1  1   -1⎥\n",
       "⎢                          ⎥\n",
       "⎣0  0  0  1  -1  0   -1  2 ⎦"
      ]
     },
     "execution_count": 205,
     "metadata": {},
     "output_type": "execute_result"
    }
   ],
   "source": [
    "reducedRowEchelonForm(A, steps=True)"
   ]
  },
  {
   "cell_type": "code",
   "execution_count": null,
   "metadata": {},
   "outputs": [],
   "source": []
  }
 ],
 "metadata": {
  "kernelspec": {
   "display_name": "Python 3",
   "language": "python",
   "name": "python3"
  },
  "language_info": {
   "codemirror_mode": {
    "name": "ipython",
    "version": 3
   },
   "file_extension": ".py",
   "mimetype": "text/x-python",
   "name": "python",
   "nbconvert_exporter": "python",
   "pygments_lexer": "ipython3",
   "version": "3.11.6"
  },
  "orig_nbformat": 4
 },
 "nbformat": 4,
 "nbformat_minor": 2
}
