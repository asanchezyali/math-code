{
 "cells": [
  {
   "attachments": {},
   "cell_type": "markdown",
   "metadata": {},
   "source": [
    "# Chapter 2. Iterating and Looping in Python"
   ]
  },
  {
   "attachments": {},
   "cell_type": "markdown",
   "metadata": {},
   "source": [
    "Iteranting and looping are fundamental concepts in programming, and Python provides several built-in features to facilitate these operations. Iterating refers to the process of accessing each element in a collection, such as a list or tuple, one at a time, while looping refers to the process of repeating a set of instructions until a certain condition is met. In this chapter, we will explore the different ways in which we can iterate and loop in Python. We will also discuss the concept of iterators and generators, which are essential for understanding the inner workings of Python's iteration and looping features."
   ]
  },
  {
   "attachments": {},
   "cell_type": "markdown",
   "metadata": {},
   "source": [
    "## For Loops\n",
    "The `for` loop is a control flow statement that allows us to iterate over a collection of elements. The syntax of a `for` loop is as follows:\n",
    "\n",
    "```python\n",
    "for element in collection:\n",
    "    # do something with element\n",
    "```"
   ]
  },
  {
   "attachments": {},
   "cell_type": "markdown",
   "metadata": {},
   "source": [
    "Here `element` is a variable that will be assigned the value of each element in the collection, one at a time. The `for` loop will iterate over the collection until it has exhausted all of its elements. The `for` loop is a very powerful tool that can be used to iterate over a wide variety of collections, including lists, tuples, strings, dictionaries, and sets. Let's see some examples:\n"
   ]
  },
  {
   "cell_type": "code",
   "execution_count": 1,
   "metadata": {},
   "outputs": [
    {
     "name": "stdout",
     "output_type": "stream",
     "text": [
      "apple\n",
      "banana\n",
      "cherry\n"
     ]
    }
   ],
   "source": [
    "# using for loop to iterate over a list\n",
    "fruits = ['apple', 'banana', 'cherry']\n",
    "for fruit in fruits:\n",
    "    print(fruit)"
   ]
  },
  {
   "cell_type": "code",
   "execution_count": 2,
   "metadata": {},
   "outputs": [
    {
     "name": "stdout",
     "output_type": "stream",
     "text": [
      "1\n",
      "2\n",
      "3\n",
      "4\n",
      "5\n"
     ]
    }
   ],
   "source": [
    "# using for loop to iterate over a tuple\n",
    "numbers = (1, 2, 3, 4, 5)\n",
    "for number in numbers:\n",
    "    print(number)"
   ]
  },
  {
   "cell_type": "code",
   "execution_count": 3,
   "metadata": {},
   "outputs": [
    {
     "name": "stdout",
     "output_type": "stream",
     "text": [
      "J\n",
      "o\n",
      "h\n",
      "n\n"
     ]
    }
   ],
   "source": [
    "# using for loop to iterate over a string\n",
    "name = 'John'\n",
    "for letter in name:\n",
    "    print(letter)"
   ]
  },
  {
   "cell_type": "code",
   "execution_count": 4,
   "metadata": {},
   "outputs": [
    {
     "name": "stdout",
     "output_type": "stream",
     "text": [
      "name : John\n",
      "age : 30\n",
      "city : New York\n"
     ]
    }
   ],
   "source": [
    "# using for loop to iterate over a dictionary\n",
    "person = {'name': 'John', 'age': 30, 'city': 'New York'}\n",
    "for key, value in person.items():\n",
    "    print(key, ':', value)"
   ]
  },
  {
   "attachments": {},
   "cell_type": "markdown",
   "metadata": {},
   "source": [
    "In the first example, we iterate over a list of fruits and print each fruit name. In the second example, we iterate over a tuple of numbers and print each number. In the third example, we iterate over a string and print each character. In the last example, we iterate over a dictionary and print each key-value pair. Note that when iterating over a dictionary, the variable assigned to each element is a tuple containing the key and value of each element. This is because dictionaries are collections of key-value pairs, and each element in a dictionary is a key-value pair. In the next section, we will discuss the `items()` method, which allows us to iterate over the key-value pairs of a dictionary."
   ]
  },
  {
   "attachments": {},
   "cell_type": "markdown",
   "metadata": {},
   "source": [
    "Note that the `for` loop can also be used with the built-int `range()` function, which allows us to iterate over a sequence of numbers in a given range. The `range()` function takes a single argument, which is the number of elements in the sequence. The elements in the sequence are integers starting from 0 and ending at `n-1`, where `n` is the number of elements in the sequence. Let's see an example:"
   ]
  },
  {
   "cell_type": "code",
   "execution_count": 5,
   "metadata": {},
   "outputs": [
    {
     "name": "stdout",
     "output_type": "stream",
     "text": [
      "0\n",
      "1\n",
      "2\n",
      "3\n",
      "4\n",
      "5\n",
      "6\n",
      "7\n",
      "8\n",
      "9\n"
     ]
    }
   ],
   "source": [
    "# using for loop with range function\n",
    "for item in range(10):\n",
    "    print(item)"
   ]
  },
  {
   "cell_type": "code",
   "execution_count": 6,
   "metadata": {},
   "outputs": [
    {
     "name": "stdout",
     "output_type": "stream",
     "text": [
      "0\n",
      "2\n",
      "4\n",
      "6\n",
      "8\n"
     ]
    }
   ],
   "source": [
    "# using for loop with range function and step argument\n",
    "for item in range(0, 10, 2):\n",
    "    print(item)"
   ]
  },
  {
   "attachments": {},
   "cell_type": "markdown",
   "metadata": {},
   "source": [
    "In the first example, we iterate over a sequence of numbers from 0 to 4 using the `range()` function. In the second example, we iterate over a sequence of even numbers from 0 to 8 using the `range()` function with a step argument of 2."
   ]
  },
  {
   "attachments": {},
   "cell_type": "markdown",
   "metadata": {},
   "source": [
    "In summary, the `for` loop is a powerful control flow statement in Python that allows you iterate over a wide variety of collections, including lists, tuples, strings, dictionaries, and sets. The `for` loop can also be used with the built-in `range()` function to iterate over a sequence of numbers in a given range. It's a versatile tool that cann be used to perform a wide variety of tasks, from printing elements in a collection to performing complex mathematical operations."
   ]
  },
  {
   "attachments": {},
   "cell_type": "markdown",
   "metadata": {},
   "source": [
    "## While Loops\n",
    "The `while` loop is another control flow statement that allows us to repeat a set of instructions until a certain condition is met. The syntax of a `while` loop is as follows:\n",
    "\n",
    "```python\n",
    "while condition:\n",
    "    # do something\n",
    "```\n",
    "\n",
    "The condition is a boolean expression that is checked at the beginning of each iteration. If the condition is true, the code block is executed, and then the condition is checked again for the next iteration. This continues until the condition becomes false.\n",
    "\n",
    "Here's an example that uses a while loop to count from 1 to 5:"
   ]
  },
  {
   "cell_type": "code",
   "execution_count": 7,
   "metadata": {},
   "outputs": [
    {
     "name": "stdout",
     "output_type": "stream",
     "text": [
      "1\n",
      "2\n",
      "3\n",
      "4\n",
      "5\n"
     ]
    }
   ],
   "source": [
    "i = 1\n",
    "while i <= 5:\n",
    "    print(i)\n",
    "    i += 1\n"
   ]
  },
  {
   "attachments": {},
   "cell_type": "markdown",
   "metadata": {},
   "source": [
    "In this example, the loop starts with `i` set to `1`. The condition `i <= 5` is true, so the code block is executed and `1` is printed. Then `i` is incremented by `1` using the `+=` operator, so `i` becomes `2`. The condition is checked again, and so on, until `i` reaches `6`, at which point the condition becomes false, and the loop exits."
   ]
  },
  {
   "attachments": {},
   "cell_type": "markdown",
   "metadata": {},
   "source": [
    "## `break` and `continue`"
   ]
  },
  {
   "attachments": {},
   "cell_type": "markdown",
   "metadata": {},
   "source": [
    "The `break` and `continue` statements are used to control the flow of a loop. The `break` statement is used to exit a loop, while the `continue` statement is used to skip the current iteration and continue with the next iteration. \n",
    "\n",
    "### `break`\n",
    "The `break` statement is used to exit a loop. Let's see an example:"
   ]
  },
  {
   "cell_type": "code",
   "execution_count": 8,
   "metadata": {},
   "outputs": [
    {
     "name": "stdout",
     "output_type": "stream",
     "text": [
      "0\n",
      "1\n",
      "2\n",
      "3\n",
      "4\n"
     ]
    }
   ],
   "source": [
    "for i in range(10):\n",
    "    if i == 5:\n",
    "        break\n",
    "    print(i)"
   ]
  },
  {
   "attachments": {},
   "cell_type": "markdown",
   "metadata": {},
   "source": [
    "In this example, the loop starts with `i` set to `0`. The condition `i < 10` is true, so the code block is executed and `0` is printed. Then `i` is incremented by `1` using the `+=` operator, so `i` becomes `1`. The condition is checked again, and so on, until `i` reaches `5`, at which point the condition becomes false, and the loop exits.\n",
    "\n",
    "### `continue`\n",
    "The `continue` statement is used to skip the current iteration and continue with the next iteration. Let's see an example:"
   ]
  },
  {
   "cell_type": "code",
   "execution_count": 9,
   "metadata": {},
   "outputs": [
    {
     "name": "stdout",
     "output_type": "stream",
     "text": [
      "1\n",
      "3\n",
      "5\n",
      "7\n",
      "9\n"
     ]
    }
   ],
   "source": [
    "for i in range(10):\n",
    "    if i % 2 == 0:\n",
    "        continue\n",
    "    print(i)\n"
   ]
  },
  {
   "attachments": {},
   "cell_type": "markdown",
   "metadata": {},
   "source": [
    "In the above code, the `for` loop will iterate over the numbers 0 to 9. When `i` is even (i.e., when `i % 2 == 0`), the continue statement will be executed, causing the loop to skip to the next iteration. Therefore, only the odd numbers (1, 3, 5, 7, and 9) will be printed."
   ]
  },
  {
   "attachments": {},
   "cell_type": "markdown",
   "metadata": {},
   "source": [
    "### Using `break` and `continue` with `while` loops\n",
    "\n",
    "`break` and `continue` can also be used with while loops. Here is an example:"
   ]
  },
  {
   "cell_type": "code",
   "execution_count": 10,
   "metadata": {},
   "outputs": [
    {
     "name": "stdout",
     "output_type": "stream",
     "text": [
      "1\n",
      "3\n"
     ]
    }
   ],
   "source": [
    "i = 0\n",
    "while i < 10:\n",
    "    if i == 5:\n",
    "        break\n",
    "    elif i % 2 == 0:\n",
    "        i += 1\n",
    "        continue\n",
    "    print(i)\n",
    "    i += 1\n"
   ]
  },
  {
   "attachments": {},
   "cell_type": "markdown",
   "metadata": {},
   "source": [
    "In the above code, the `while` loop will continue until `i` is equal to 10. When `i` is equal to 5, the `break` statement will be executed, immediately ending the loop. When `i` is even, the `continue` statement will be executed, skipping to the next iteration. Therefore, only the odd numbers (1, 3) before 5 will be printed.\n",
    "\n",
    "Using break and continue statements can make your loops more efficient and flexible. break can be used to exit a loop prematurely, while continue can be used to skip over certain iterations."
   ]
  },
  {
   "attachments": {},
   "cell_type": "markdown",
   "metadata": {},
   "source": [
    "### Enumerate\n",
    "\n",
    "The enumerate function is used to loop over an iterable while keeping track of the index of the current item. It takes the form of:\n",
    "\n",
    "```python   \n",
    "for index, item in enumerate(iterable):\n",
    "    # do something with index and item\n",
    "```\n",
    "For example, to iterate over a list of strings and print the index and the string:"
   ]
  },
  {
   "cell_type": "code",
   "execution_count": 11,
   "metadata": {},
   "outputs": [
    {
     "name": "stdout",
     "output_type": "stream",
     "text": [
      "0 apple\n",
      "1 banana\n",
      "2 cherry\n"
     ]
    }
   ],
   "source": [
    "strings = ['apple', 'banana', 'cherry']\n",
    "for index, string in enumerate(strings):\n",
    "    print(index, string)\n"
   ]
  },
  {
   "attachments": {},
   "cell_type": "markdown",
   "metadata": {},
   "source": [
    "### Zip\n",
    "The zip function is used to iterate over multiple iterables at the same time. It takes the form of:\n",
    "    \n",
    "```python\n",
    "for item1, item2, ... in zip(sequence1, sequence2, ...):\n",
    "    # do something with item1, item2, ...\n",
    "```"
   ]
  },
  {
   "cell_type": "code",
   "execution_count": 12,
   "metadata": {},
   "outputs": [
    {
     "name": "stdout",
     "output_type": "stream",
     "text": [
      "1 a\n",
      "2 b\n",
      "3 c\n"
     ]
    }
   ],
   "source": [
    "numbers = [1, 2, 3]\n",
    "letters = ['a', 'b', 'c']\n",
    "for number, letter in zip(numbers, letters):\n",
    "    print(number, letter)\n"
   ]
  },
  {
   "attachments": {},
   "cell_type": "markdown",
   "metadata": {},
   "source": [
    "### Range\n",
    "The range function is used to generate a sequence of numbers in a given range. It takes the form of:\n",
    "\n",
    "```python\n",
    "for i in range(start, stop, step):\n",
    "    # do something with i\n",
    "```\n",
    "For example, to print the numbers from 1 to 5 using a range function:"
   ]
  },
  {
   "cell_type": "code",
   "execution_count": 13,
   "metadata": {},
   "outputs": [
    {
     "name": "stdout",
     "output_type": "stream",
     "text": [
      "1\n",
      "2\n",
      "3\n",
      "4\n",
      "5\n"
     ]
    }
   ],
   "source": [
    "for i in range(1, 6):\n",
    "    print(i)"
   ]
  },
  {
   "attachments": {},
   "cell_type": "markdown",
   "metadata": {},
   "source": [
    "### Iterators\n",
    "An iterator is an object that can be iterated upon. An object which will return data, one element at a time. An iterator must implement two special methods, `__iter__()` and `__next__()`, collectively called the iterator protocol. An object is called iterable if we can get an iterator from it. Most of built-in containers in Python like: list, tuple, string etc. are iterables.\n",
    "\n",
    "The iter() function (which in turn calls the `__iter__()` method) returns an iterator from them. For example:"
   ]
  },
  {
   "cell_type": "code",
   "execution_count": 14,
   "metadata": {},
   "outputs": [
    {
     "name": "stdout",
     "output_type": "stream",
     "text": [
      "apple\n",
      "banana\n",
      "cherry\n"
     ]
    }
   ],
   "source": [
    "# iterators\n",
    "my_tuple = ('apple', 'banana', 'cherry')\n",
    "\n",
    "my_it = iter(my_tuple)\n",
    "\n",
    "print(next(my_it))\n",
    "print(next(my_it))\n",
    "print(next(my_it))"
   ]
  },
  {
   "attachments": {},
   "cell_type": "markdown",
   "metadata": {},
   "source": [
    "### Generators\n",
    "Generators are a simple way of creating iterators. All the work we mentioned above are automatically handled by generators in Python. Simply speaking, a generator is a function that returns an object (iterator) which we can iterate over (one value at a time).\n",
    "\n",
    "It is fairly simple to create a generator in Python. It is as easy as defining a normal function, but with a `yield` statement instead of a `return` statement.\n",
    "\n",
    "If a function contains at least one `yield` statement (it may contain other `yield` or `return` statements), it becomes a generator function. Both `yield` and `return` will return some value from a function.\n",
    "\n",
    "The difference is that, while a `return` statement terminates a function entirely, `yield` statement pauses the function saving all its states and later continues from there on successive calls.\n",
    "\n",
    "Here is an example use of a generator function:"
   ]
  },
  {
   "cell_type": "code",
   "execution_count": 15,
   "metadata": {},
   "outputs": [
    {
     "name": "stdout",
     "output_type": "stream",
     "text": [
      "Starting\n",
      "5\n",
      "4\n",
      "3\n",
      "2\n",
      "1\n"
     ]
    }
   ],
   "source": [
    "# generators\n",
    "def countdown(num):\n",
    "    print('Starting')\n",
    "    while num > 0:\n",
    "        yield num\n",
    "        num -= 1\n",
    "\n",
    "val = countdown(5)\n",
    "print(next(val))\n",
    "print(next(val))\n",
    "print(next(val))\n",
    "print(next(val))\n",
    "print(next(val))"
   ]
  },
  {
   "attachments": {},
   "cell_type": "markdown",
   "metadata": {},
   "source": [
    "The `yield` statement suspends function’s execution and sends a value back to the caller, but retains enough state to enable function to resume where it is left off. When resumed, the function continues execution immediately after the last `yield` run. This allows its code to produce a series of values over time, rather them computing them at once and sending them back like a list."
   ]
  },
  {
   "attachments": {},
   "cell_type": "markdown",
   "metadata": {},
   "source": [
    "### List Comprehensions\n",
    "\n",
    "List comprehensions allow you to create a new list by specifying how each element in the list should be computed, using a concise syntax. For example, the following code creates a list of squares of numbers from 0 to 9:"
   ]
  },
  {
   "cell_type": "code",
   "execution_count": 16,
   "metadata": {},
   "outputs": [],
   "source": [
    "squares = [x**2 for x in range(10)]\n"
   ]
  },
  {
   "attachments": {},
   "cell_type": "markdown",
   "metadata": {},
   "source": [
    "Generator expressions are similar to list comprehensions, but instead of creating a new list, they create an iterator that yields the computed values on demand. This is useful when you don't need to store all the values in memory at once. For example, the following code creates an iterator that yields the squares of numbers from 0 to 9:"
   ]
  },
  {
   "cell_type": "code",
   "execution_count": 17,
   "metadata": {},
   "outputs": [],
   "source": [
    "squares = (x**2 for x in range(10))\n"
   ]
  },
  {
   "attachments": {},
   "cell_type": "markdown",
   "metadata": {},
   "source": [
    "In addition, Python provides the `itertools` module, which contains many useful functions for iterating over sequences and combining sequences in various ways. For example, the `itertools.chain()` function allows you to chain together multiple sequences into a single sequence, and the `itertools.product()` function allows you to compute the Cartesian product of multiple sequences.\n",
    "\n",
    "Overall, Python provides a rich set of tools for iteration and looping, allowing you to efficiently process large datasets and perform complex computations on them."
   ]
  },
  {
   "attachments": {},
   "cell_type": "markdown",
   "metadata": {},
   "source": [
    "### Summary\n",
    "Here's a summary of what we covered on iterating and looping in Python:\n",
    "\n",
    "* Iterating: Iterating is the process of going through each item in a collection of data (an iterable), such as a list or a dictionary.\n",
    "* For Loop: The for loop is used to iterate over a sequence of elements, such as lists, tuples, strings, and dictionaries. The loop iterates through each item in the sequence and executes a block of code for each item.\n",
    "* While Loop: The while loop is used to execute a block of code repeatedly as long as a certain condition is true. It keeps looping until the condition becomes false.\n",
    "* Iterator: An iterator is an object that can be iterated upon, meaning that you can traverse through all the values. The built-in iter() function returns an iterator from an iterable. The next() function is used to get the next value from an iterator. If there are no more values, a StopIteration exception is raised.\n",
    "* Range: The range function is used to generate a sequence of numbers. It takes three arguments: start, stop, and step. The range function returns a range object, which is an iterable sequence of integers.\n",
    "* Zip: The zip function is used to combine multiple iterables into a single iterable. It takes any number of iterables as arguments and returns an iterator that produces tuples containing the corresponding elements from each iterable.\n",
    "* Break and Continue: Break and continue are control statements that can be used in loops. Break is used to exit a loop prematurely, while continue is used to skip the current iteration and move on to the next one.\n",
    "These concepts are important for any Python programmer to understand, as they are fundamental to working with collections of data and control flow in Python programs."
   ]
  },
  {
   "attachments": {},
   "cell_type": "markdown",
   "metadata": {},
   "source": [
    "### Exercises"
   ]
  },
  {
   "cell_type": "markdown",
   "metadata": {},
   "source": []
  }
 ],
 "metadata": {
  "kernelspec": {
   "display_name": "Python 3",
   "language": "python",
   "name": "python3"
  },
  "language_info": {
   "codemirror_mode": {
    "name": "ipython",
    "version": 3
   },
   "file_extension": ".py",
   "mimetype": "text/x-python",
   "name": "python",
   "nbconvert_exporter": "python",
   "pygments_lexer": "ipython3",
   "version": "3.11.0 (main, Oct 25 2022, 13:57:33) [Clang 14.0.0 (clang-1400.0.29.202)]"
  },
  "orig_nbformat": 4,
  "vscode": {
   "interpreter": {
    "hash": "5c7b89af1651d0b8571dde13640ecdccf7d5a6204171d6ab33e7c296e100e08a"
   }
  }
 },
 "nbformat": 4,
 "nbformat_minor": 2
}
