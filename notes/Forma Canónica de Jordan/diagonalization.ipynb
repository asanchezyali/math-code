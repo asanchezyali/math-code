{
 "cells": [
  {
   "cell_type": "markdown",
   "metadata": {},
   "source": [
    "# Álgebra Lineal Parte 2/4: Diagonalización de matrices"
   ]
  },
  {
   "cell_type": "markdown",
   "metadata": {},
   "source": [
    "En esta entrada vamos a regresar a la pregunta original que motivó nuestra discusión de los valores propios y vectores propios en primer lugar: dada una transformación lineal $T: V\\to V$ sobre un espacio finito dimensional $V$, ¿Es posible encontrar una base $\\beta$ de $V$ tal que la matriz asociada $[T]_{\\beta}^{\\beta}$ es una matriz diagonal?"
   ]
  },
  {
   "cell_type": "markdown",
   "metadata": {},
   "source": [
    "> **Definición 1.** *Un operador lineal $T:V \\to V$ sobre un espacio finito dimensional $V$ es **diagonalizable** si existe una base $\\beta$ de $V$ tal que la matriz asociada $[T]_{\\beta}^{\\beta}$ es una matriz diagonal.*"
   ]
  },
  {
   "cell_type": "markdown",
   "metadata": {},
   "source": [
    "Esta definición también se puede formular para matrices; si $A$ es una matriz de orden $n\\times n$, entonces $A$ es la matriz de $T:F^{n}\\to F^{n}$ dada por la multiplicación a izquierda por $A$. En este caso podemos decir que $A$ es diagonalizable cuando $T$ es diagonalizable. De los resultados para cambios de base, esto es equivalente a decir que existe una matriz invertible $Q\\in M_{n\\times n}(F)$, denominada **matriz de cambio de base** $Q=[I]_{\\beta}^{\\gamma}$, para la cual $Q^{-1}A Q = [I]_{\\gamma}^{\\beta}[T]_{\\gamma}^{\\gamma}[I]_{\\beta}^{\\gamma} = [T]_{\\beta}^{\\beta}$ es una matriz diagonal."
   ]
  },
  {
   "cell_type": "markdown",
   "metadata": {},
   "source": [
    "**Definición 2.** Una matriz $A\\in M_{n\\times n}(F)$ es diagonalizables sobre $F$ si existe una matriz invertible, $Q\\in M_{n\\times n}(F)$ para cual $Q^{-1}AQ$ es una matriz diagonal. "
   ]
  },
  {
   "cell_type": "markdown",
   "metadata": {},
   "source": [
    "Recuerden que hay que tener un particular cuidado con el campo $F$, ya que la diagonalización de una matriz depende parcialmente del campo $F$ sobre el cual se esté trabajando. "
   ]
  },
  {
   "cell_type": "markdown",
   "metadata": {},
   "source": [
    "Recuerde que se dice que dos matrices $A$ y $B$ de orden $n\\times n$ son similares si existe una matriz invertible $n\\times n$ tal que $B= Q^{-1}AQ$. Por lo tanto, una matriz es diagonalizable precisamente cuando es similar a una matriz diagonal."
   ]
  },
  {
   "cell_type": "markdown",
   "metadata": {},
   "source": [
    "Nuestro objetivo es caracterizar las transformaciones lineales."
   ]
  },
  {
   "cell_type": "markdown",
   "metadata": {},
   "source": [
    "> **Polinomio característico y similaridad**. *Si $A$ y $B$ son similares, entonces ellas tienen el mismo polinomio característico, determinante, traza y valores propios (y sus valores propios tienen las mismas multiplicidades).*"
   ]
  },
  {
   "cell_type": "markdown",
   "metadata": {},
   "source": [
    "*Demostración*. *Suponga que $B = Q^{-1}AQ$. Para el polinomio característico, se computa simplemente $\\det(\\lambda I - B) =$ $\\det(Q^{-1}(\\lambda I)Q - Q^{-1}AQ)=$ $\\det(Q^{-1}(\\lambda I - A)Q) = $ $ \\det(Q^{-1})\\det(\\lambda I -A)\\det(Q)= $ $\\det(\\lambda I - A)$.*"
   ]
  },
  {
   "cell_type": "markdown",
   "metadata": {},
   "source": [
    "*El determinante y la traza son ambos coeficientes para el polinomio característico así que ellos son también iguales.* "
   ]
  },
  {
   "cell_type": "markdown",
   "metadata": {},
   "source": [
    "*Finalmente, los valores propios son las raíces del polinomio característico, así que llos son los mismos y ocurren con la misma multiplicidad para $A$ y $B$*."
   ]
  },
  {
   "cell_type": "markdown",
   "metadata": {},
   "source": [
    "<div style=\"text-align: right\"> $\\Box$ </div>"
   ]
  },
  {
   "cell_type": "markdown",
   "metadata": {},
   "source": [
    "Los vectores propios para matrices similares también esta cercanamente relacionados:"
   ]
  },
  {
   "cell_type": "markdown",
   "metadata": {},
   "source": [
    "> **Valores propios y similaridad.** *Si $B = Q^{-1}AQ$, entonces $v$ es un vector propios de $B$ con valor propio $\\lambda$ si y solo si $Qv$ es un vector propio de $A$ con valor propio $\\lambda$.*"
   ]
  },
  {
   "cell_type": "markdown",
   "metadata": {},
   "source": [
    "*Demostración. Dado que $Q$ es invertible, $v=0$ si y sólo si $Qv=0$. Ahora asumamos que $v\\neq 0$. Primero suponemos que $v$ es un vector propio de $B$ con valor propio $\\lambda$. Entonces $A(Qv)=Q(Q^{-1}AQ)v=Q(Bv)=Q(\\lambda v) = \\lambda (Qv)$, esto quiere decir que $Qv$ es un vector propio de $A$ con valor propio $\\lambda$.*"
   ]
  },
  {
   "cell_type": "markdown",
   "metadata": {},
   "source": [
    "*Inversamente, si $Qv$ es un vector propio de $A$ con valor propio $\\lambda$. Entonces $Bv = Q^{-1}A(Qv) = Q^{-1}\\lambda (Qv) = \\lambda (Q^{-1}Qv) = \\lambda v$, así $v$ es un vector propio de $B$ con valor propio $\\lambda$.*"
   ]
  },
  {
   "cell_type": "markdown",
   "metadata": {},
   "source": [
    "> **Corolario**. *Si $B = Q^{-1}AQ$, entonces los subespacios propios para $B$ tienen las mismas dimensiones como los subespacios propios para $A$.*"
   ]
  },
  {
   "cell_type": "markdown",
   "metadata": {},
   "source": [
    "En esencia, diaganalizabilidad es equivalente a la existencia de una base de vectores propios:"
   ]
  },
  {
   "cell_type": "markdown",
   "metadata": {},
   "source": [
    "> **Diagonalizabilidad**. *Un operador lineal $T:V\\to V$ es diagonalizable si y solo si existe una base $\\beta$ de $V$ que consiste de vectores propios de $T$.*"
   ]
  },
  {
   "cell_type": "markdown",
   "metadata": {},
   "source": [
    "*Demostración*. *Suponga primero que $V$ tiene una base de vectores propios $\\beta = \\{v_1, v_2,\\dots, v_n\\}$ con sus respectivos valores propios $\\lambda_1, \\lambda_2, \\dots, \\lambda_n$. Entonces por hipótesis, $T(v_i)=\\lambda_i v_i$, y así $[T]_{\\beta}^{\\beta}$ es la matriz diagonal con entradas en la diagonal principal $\\lambda_1,\\dots, \\lambda_n$.*"
   ]
  },
  {
   "cell_type": "markdown",
   "metadata": {},
   "source": [
    "*Inversamente, suponga que $T$ es diagonalizable y sea $\\beta = \\{v_1,\\dots, v_n\\}$ una base tal que $[T]_{\\beta}^{\\beta}$ es una matriz diagonal cuyas entradas son $\\lambda_1, \\cdots, \\lambda_n.$ Entonces por hipótesis, cada $v_1$ es no cero y $T(v_i)=\\lambda_i v_i$ para cada $v_i$ es un vector propio de $T$.*"
   ]
  },
  {
   "cell_type": "markdown",
   "metadata": {},
   "source": [
    "<div style=\"text-align: right\"> $\\Box$ </div>"
   ]
  },
  {
   "cell_type": "markdown",
   "metadata": {},
   "source": [
    "Aunque el resultado anterior da una caracterización de las transformaciones diagonalizables, no es enteramente obvio como para determinar que tal bases de vectores propios existe"
   ]
  },
  {
   "cell_type": "markdown",
   "metadata": {},
   "source": [
    "Resulta que esencialmente se puede verificar esta propiedad en cada espacio propio. Se ha provado antes, que la dimensión de cada $\\lambda$ - subespacio propio de $T$ es menor o igual que la multiplicidad de $\\lambda$ como una raíz del polinomio característico."
   ]
  },
  {
   "cell_type": "markdown",
   "metadata": {},
   "source": [
    "Dado que que el polinomio característico tiene grado $n$, esto quiere decir que la suma de las dimensiones de los $\\lambda$ - subespacios no es superios a $n$, y puede ser superior a $n$ solo cuando cada subespacio propio tiene dimensión igual a la multiplicidad de sus correspondientes valores propios. "
   ]
  },
  {
   "cell_type": "markdown",
   "metadata": {},
   "source": [
    "El objetivo ahora, es mostrar que si cada subespacio propio tiene dimensión igual a la multiplicidad de sus correspondientes valores propios, entonces la matriz será diagonalizable. "
   ]
  },
  {
   "cell_type": "markdown",
   "metadata": {},
   "source": [
    "Pero para hacer esto, antes se necesita un resultado intermedio acerca de la independencia de los vectores propios que tienen distintos valores propios. "
   ]
  },
  {
   "cell_type": "markdown",
   "metadata": {},
   "source": [
    "> **Independencia de los vectores propios.** *Si $v_1$, $v_2$,..., $v_n$ son vectores propios de $T$ asociados a los distintos valores propios $\\lambda_1, \\lambda_2, \\dots, \\lambda_n$ cuando $v_1,\\dots, v_{n}$ son linealmente independientes.* "
   ]
  },
  {
   "cell_type": "markdown",
   "metadata": {},
   "source": [
    "*Demostración*. *Razonando por inducción sobre $n$. Es caso base para $n=1$ es trivial, dado que por definición un vector propio no puede ser zero. Suponga ahora que $n\\leq 2$ y eque se tiene la dependencia lineal $a_1v_1+\\cdots + a_nv_n=0$ para los vectores propios $v_1, \\dots, v_n$ teniendo distintos valores propios $\\lambda_1, \\cdots \\lambda_n$.*"
   ]
  },
  {
   "cell_type": "markdown",
   "metadata": {},
   "source": [
    "*Aplicando ahora $T$ a ambos lados $T(a_1v_1+\\cdots + a_nv_n) = a_1(\\lambda_1 v_1) +\\cdots + a_n(\\lambda_n v_n) = 0$. Pero si ahora restamos la dependencia original por un factor de $\\lambda_1$ se ontiene la nueva relacipon:*"
   ]
  },
  {
   "cell_type": "markdown",
   "metadata": {},
   "source": [
    "\\begin{equation}\n",
    "a_2(\\lambda_2-\\lambda_1)v_2 + a_3(\\lambda_3 - \\lambda_1)v_3 + \\cdots a_n(\\lambda_n - \\lambda_1)v_n = 0.\n",
    "\\end{equation}"
   ]
  },
  {
   "cell_type": "markdown",
   "metadata": {},
   "source": [
    "*Por la hipótesis inductiva, todos los coeficientes de esta dependencia debe ser cero, y así se tienen $\\lambda_k \\neq \\lambda_1$ para cada $k$, así se concluye que $a_2 = \\cdots = a_n = 0$. Entonces $a_1 v_1 = 0$ implica que $a_1 = 0$, con lo que se concluye la prueba.*"
   ]
  },
  {
   "cell_type": "markdown",
   "metadata": {},
   "source": [
    "<div style=\"text-align: right\"> $\\Box$ </div>"
   ]
  },
  {
   "cell_type": "markdown",
   "metadata": {},
   "source": [
    "A continuación vamos a formalizar la noción de tener todos los valores propios en $F$."
   ]
  },
  {
   "cell_type": "markdown",
   "metadata": {},
   "source": [
    "> **Definición**. *Si $p(x)\\in F[x]$, se dice que $p(x)$ es **factorizable** en $F$ si $p(x)$ se puede escribir como el producto de factores lineales en $F[x]$, es decir $p(x)=a(a-r_1)(x-r_2)\\cdot\\cdots \\cdot(x-r_d)$ para algún $a, r_1, r_2, \\dots, r_d\\in F$.* "
   ]
  },
  {
   "cell_type": "markdown",
   "metadata": {},
   "source": [
    "Informalmente, un polinomio es factorizable sobre $F$ cuando todas sus raíces son elementos de $F$."
   ]
  },
  {
   "cell_type": "markdown",
   "metadata": {},
   "source": [
    "**Ejemplo 1.** El polinomio $x^2 -2$ no es factorizable en $\\mathbb{Q}$, pero si es completamente factorizable sobre $\\mathbb{R}$ dado que se puede escribir $x^2-2 =(x-\\sqrt{2})(x-\\sqrt{2})\\in \\mathbb{R}[x]$. Observe que las raíces $\\sqrt{2}$ y $-\\sqrt{2}$ del polinomio no son elementos de $\\mathbb{Q}$ pero si son elementos de $\\mathbb{R}$."
   ]
  },
  {
   "cell_type": "markdown",
   "metadata": {},
   "source": [
    "**Ejemplo 2.** El polinomio $x^2-1$ es factorizable sobre $\\mathbb{Q}$, dado que se puede escribir $x^2-1 = (x-1)(x+1)$ en $\\mathbb{Q}[x]$."
   ]
  },
  {
   "cell_type": "markdown",
   "metadata": {},
   "source": [
    "Si $A$ es una matriz de orden $n\\times n$, se dice que todos sus valores propios están en $F$ cuando el polinomio característico de $A$ es factorizable en $F$."
   ]
  },
  {
   "cell_type": "markdown",
   "metadata": {},
   "source": [
    "Ahora vamos a establecer un criterio de diagonalización de matrices:"
   ]
  },
  {
   "cell_type": "markdown",
   "metadata": {},
   "source": [
    "> **Creterio de diagonalización**. *Una matriz $A\\in M_{n\\times n}(F)$ es diagonalizable sobre $F$ si y solo si todos los valores propios están den $F$, y para cada valor propio $\\lambda$, la dimensión del $\\lambda$ - espacio es igual a la multplicidad de $\\lambda$ como una raíz del polinomio característico.*"
   ]
  },
  {
   "cell_type": "markdown",
   "metadata": {},
   "source": [
    "*Demostración*. *Si la matriz $A$ de orden $n\\times n$ es diagonalizable, entonces las entradas de la diagonal de sus diagonalización son los valores propios de $A$, así ellos deberán estár en el campo escalar $F$.*"
   ]
  },
  {
   "cell_type": "markdown",
   "metadata": {},
   "source": [
    "*Además, por teorema anterior sobre diagonalización, $V$ tiene una base $\\beta$ de vectores propios para $A$. Ahora, para cualquier valor propio $\\lambda_i$ de $A$, sea $b_i$ el número de elementos de $\\beta$ que tienen valor propio $\\lambda_i$, y sea $d_i$ la multiplicidad de $\\lambda_i$ como una raíz del polinomio característico.*"
   ]
  },
  {
   "cell_type": "markdown",
   "metadata": {},
   "source": [
    "*Por lo tanto $\\sum_i b_i = n$ dado que $\\beta$ es una base para $V$, y $\\sum_i d_i = n$, de los resultados anteriores el polinomio característico $b_i \\leq d_i$. Por lo tanto $n = \\sum_i b_i \\leq \\sum_i d_i = n$, así $b_i = d_i$ para cada $i$.*"
   ]
  },
  {
   "cell_type": "markdown",
   "metadata": {},
   "source": [
    "*Por otro lado, suponga que los valores propios de $A$ están en $F$ y que $b_i = d_i$ para todo $i$. Entonces sea $\\beta$ la unión de las bases para cada subespacio propio de $A$. Por hipótesis, $\\beta$ contiene $\\sum_i b_i = \\sum_i d_i = n$ vectores, así se concluye que es una base $n$ - dimensional para el espacio $V$, ahora solo debemos demostrar que son linealmente indipendientes.*"
   ]
  },
  {
   "cell_type": "markdown",
   "metadata": {},
   "source": [
    "*Explicitamente, sea $\\beta_i = \\{v_{i, 1}, \\dots, v_{i, j_i}\\}$ la base de los $\\lambda_i$ - subespacios para cada $i$, así que $\\beta = \\{v_{1, 1}, v_{1, 2},\\dots, v_{k, j}\\}$ y $Av_{i, j} =  \\lambda_i v_{i, j}$ para cada par $(i, j)$.*"
   ]
  },
  {
   "cell_type": "markdown",
   "metadata": {},
   "source": [
    "*Suponga que hay dependencia $a_{1, 1} v_{1, 1} + \\cdots + a_{k, j} = 0$. Sea $w_i = \\sum_{j} a_{i, j} v_{i, j}$, y observe que $w_i$ tiene $Aw_i = \\lambda_i w_i$, y sea $w_1 + w_2 +\\cdots + w_k = 0$.*"
   ]
  },
  {
   "cell_type": "markdown",
   "metadata": {},
   "source": [
    "*Si alguno de los $w_i$ es no nulo, entonces se tendría un dependecia linela no trivial entre los valores propios de $A$ con distinto valores propios, pero estos es imposible por teorema anterior.*"
   ]
  },
  {
   "cell_type": "markdown",
   "metadata": {},
   "source": [
    "*Por lo tanto, cada $w_i=0$, quiere decir que $a_{i, 1}v_{i, 1}+\\cdots + a_{k, j_i}v_{i, j_i} = 0$. Pero como $\\beta_i$ es linealmente independiente, todos los coeficientes $a_{i, j}$ deben ser cero. Por lo tanto, $\\beta$ debe ser linealmente independiente y por lo tanto es una base para $V$.*"
   ]
  },
  {
   "cell_type": "markdown",
   "metadata": {},
   "source": [
    "<div style=\"text-align: right\"> $\\Box$ </div>"
   ]
  },
  {
   "cell_type": "markdown",
   "metadata": {},
   "source": [
    "> **Corolario**. *Si $A\\in M_{n\\times n} (F)$ tiene $n$ valores propios distintos en $F$, entonces $A$ es diagonalizable sobre $F$.*"
   ]
  },
  {
   "cell_type": "markdown",
   "metadata": {},
   "source": [
    "*Demostración*. *Para cada valor propio se debe tener multiplicidad uno como una raíz del polinomio característico. Dado que hay $n$ valores propios y la suma de sus multiplicidades es también $n$. Entonces la dimensión de cada valor propio es igual a uno (dado que la dimensión siempre está entre uno y la multiplicidad). Así por el teorema anterior, $A$ es diagonalizable.*"
   ]
  },
  {
   "cell_type": "markdown",
   "metadata": {},
   "source": [
    "<div style=\"text-align: right\"> $\\Box$ </div>"
   ]
  },
  {
   "cell_type": "markdown",
   "metadata": {},
   "source": [
    "La prueba del teorema de diagonalización da un procedimiento explicito para determinar la diagonalizabilidad y la diagonalización de una matriz. Para determinar cuando una transformación lineal $T$ (o matriz) es diagonalizable, y hallar una base $\\beta$ tal que $[T]_{\\beta}^{\\beta}$ es diagonal (o una matriz $Q$ con $Q^{-1}AQ$ diagonal), se siguen los siguientes pasos:"
   ]
  },
  {
   "cell_type": "markdown",
   "metadata": {},
   "source": [
    "1. Encontrar el polinomio característico y los valores propios de $T$ (o $A$).\n",
    "2. Encontrar una base para cada subespacio propio de $T$ (o A).\n",
    "3. Determinar si $T$ (o $A$) es diagonalizable. Si la dimensión de cada subespacio propio es igual a número de veces que los valores propios aparecen como raíces del polinomio característico, en otro caso $T$ es no diagonalizable. \n",
    "4. Para una transformación lineal $T$ diagonalizable, sea $\\beta$ una base de los vectores propios para $T$. Para una matriz $A$, la matriz $Q$ de diagonalización puede ser tomada como la matriz cuyas columnas son una base de vectores propios de $A$. "
   ]
  },
  {
   "cell_type": "markdown",
   "metadata": {},
   "source": [
    "**Ejemplo 3.** Para $T:\\mathbb{R}^{2}\\to \\mathbb{R}^{2}$ dado por $T(x, y)=\\langle -2y, 3x + 5y\\rangle$, determinar cuando $T$ es diagonalizable y si es así, hallar una base $\\beta$ tal que $[T]_{\\beta}^{\\beta}$ es diagonal. "
   ]
  },
  {
   "cell_type": "markdown",
   "metadata": {},
   "source": [
    "La matriz $A$ asociada para $T$ relativa a la base estandar es:"
   ]
  },
  {
   "cell_type": "code",
   "execution_count": 1,
   "metadata": {},
   "outputs": [],
   "source": [
    "from sympy import Matrix, factor"
   ]
  },
  {
   "cell_type": "code",
   "execution_count": 2,
   "metadata": {},
   "outputs": [],
   "source": [
    "A = Matrix([[0, -2], [3, 5]])"
   ]
  },
  {
   "cell_type": "markdown",
   "metadata": {},
   "source": [
    "Computamos el polinomio característico"
   ]
  },
  {
   "cell_type": "code",
   "execution_count": 3,
   "metadata": {},
   "outputs": [
    {
     "data": {
      "text/latex": [
       "$\\displaystyle \\left(\\lambda - 3\\right) \\left(\\lambda - 2\\right)$"
      ],
      "text/plain": [
       "(lambda - 3)*(lambda - 2)"
      ]
     },
     "execution_count": 3,
     "metadata": {},
     "output_type": "execute_result"
    }
   ],
   "source": [
    "polynomial = A.charpoly()\n",
    "factor(polynomial.as_expr())"
   ]
  },
  {
   "cell_type": "markdown",
   "metadata": {},
   "source": [
    "Por lo tanto los valores propios son $\\lambda = 2, 3$. Datoa que los valores propios son distintos, entonces $T$ es diagonalizables."
   ]
  },
  {
   "cell_type": "markdown",
   "metadata": {},
   "source": [
    "Usaremos la siguiente función para calcular las transformaciones $T_\\lambda = \\lambda I - A$: "
   ]
  },
  {
   "cell_type": "code",
   "execution_count": 4,
   "metadata": {},
   "outputs": [],
   "source": [
    "from sympy import eye\n",
    "def eigen_transformation(eigenvalue, A):\n",
    "    identity = eye(A.shape[0])\n",
    "    return eigenvalue * identity - A"
   ]
  },
  {
   "cell_type": "code",
   "execution_count": 5,
   "metadata": {},
   "outputs": [],
   "source": [
    "T_2 = eigen_transformation(eigenvalue=2, A=A)"
   ]
  },
  {
   "cell_type": "code",
   "execution_count": 6,
   "metadata": {},
   "outputs": [],
   "source": [
    "T_3 = eigen_transformation(eigenvalue=3, A=A)"
   ]
  },
  {
   "cell_type": "markdown",
   "metadata": {},
   "source": [
    "Luego los espacios propios para las transformaciones propias $T_2$ y $T_3$ son: "
   ]
  },
  {
   "cell_type": "code",
   "execution_count": 7,
   "metadata": {},
   "outputs": [
    {
     "data": {
      "text/plain": [
       "[Matrix([\n",
       " [-1],\n",
       " [ 1]])]"
      ]
     },
     "execution_count": 7,
     "metadata": {},
     "output_type": "execute_result"
    }
   ],
   "source": [
    "T_2.nullspace()"
   ]
  },
  {
   "cell_type": "code",
   "execution_count": 8,
   "metadata": {},
   "outputs": [
    {
     "data": {
      "text/plain": [
       "[Matrix([\n",
       " [-2/3],\n",
       " [   1]])]"
      ]
     },
     "execution_count": 8,
     "metadata": {},
     "output_type": "execute_result"
    }
   ],
   "source": [
    "T_3.nullspace()"
   ]
  },
  {
   "cell_type": "markdown",
   "metadata": {},
   "source": [
    "Esto quiere decir que $[1, -1]^{\\top}$ es una base para el $2$ - subespacio propio, y $[-2, 3]^{\\top}$ es una base para el $3$ - subespacio. "
   ]
  },
  {
   "cell_type": "markdown",
   "metadata": {},
   "source": [
    "Por lo tanto para $\\beta = \\{[1, -1]^{\\top}, [-2, 3]^{\\top}\\}$, se puede ver que:"
   ]
  },
  {
   "cell_type": "markdown",
   "metadata": {},
   "source": [
    "\\begin{equation}\n",
    "[T]_{\\beta}^{\\beta} = \\begin{bmatrix} 2 & 0 \\\\ 0 & 3 \\end{bmatrix}\n",
    "\\end{equation}"
   ]
  },
  {
   "cell_type": "markdown",
   "metadata": {},
   "source": [
    "En efecto:"
   ]
  },
  {
   "cell_type": "code",
   "execution_count": 9,
   "metadata": {},
   "outputs": [],
   "source": [
    "Q = Matrix([[1, -2], [-1, 3]])"
   ]
  },
  {
   "cell_type": "code",
   "execution_count": 10,
   "metadata": {},
   "outputs": [
    {
     "data": {
      "text/latex": [
       "$\\displaystyle \\left[\\begin{matrix}2 & 0\\\\0 & 3\\end{matrix}\\right]$"
      ],
      "text/plain": [
       "Matrix([\n",
       "[2, 0],\n",
       "[0, 3]])"
      ]
     },
     "execution_count": 10,
     "metadata": {},
     "output_type": "execute_result"
    }
   ],
   "source": [
    "Q.inv()*A*Q"
   ]
  },
  {
   "cell_type": "markdown",
   "metadata": {},
   "source": [
    "**Ejemplo 4**. Para la matriz $A = \\begin{bmatrix} 1 & -1 & -1 \\\\ 0 & 1 & -1 \\\\ 0 & 0 & 1 \\end{bmatrix}$ determinar si existe una matriz diagonal $D$ y matriz $A$ con $D = Q^{-1}AQ$, y si es así, encontrarla. "
   ]
  },
  {
   "cell_type": "code",
   "execution_count": 11,
   "metadata": {},
   "outputs": [],
   "source": [
    "from sympy import Matrix, factor"
   ]
  },
  {
   "cell_type": "code",
   "execution_count": 12,
   "metadata": {},
   "outputs": [],
   "source": [
    "A = Matrix([[1, -1, -1], [0, 1, -1], [0, 0, 1]])"
   ]
  },
  {
   "cell_type": "markdown",
   "metadata": {},
   "source": [
    "Sus valores propios son:"
   ]
  },
  {
   "cell_type": "code",
   "execution_count": 13,
   "metadata": {},
   "outputs": [
    {
     "data": {
      "text/plain": [
       "{1: 3}"
      ]
     },
     "execution_count": 13,
     "metadata": {},
     "output_type": "execute_result"
    }
   ],
   "source": [
    "A.eigenvals()"
   ]
  },
  {
   "cell_type": "markdown",
   "metadata": {},
   "source": [
    "Los valores propios son $\\lambda = 1, 1, 1$. Esto se puede comprobar fácilmente debido a que $A$ es una matriz triangular y por lo tanto su polinomio característico es $\\det(\\lambda I - A) = (\\lambda - 1)^3$."
   ]
  },
  {
   "cell_type": "markdown",
   "metadata": {},
   "source": [
    "Por otro lado la transformación propio $T_1$ es:"
   ]
  },
  {
   "cell_type": "code",
   "execution_count": 14,
   "metadata": {},
   "outputs": [],
   "source": [
    "T_1 = eigen_transformation(eigenvalue=1, A=A)"
   ]
  },
  {
   "cell_type": "code",
   "execution_count": 15,
   "metadata": {},
   "outputs": [
    {
     "data": {
      "text/latex": [
       "$\\displaystyle \\left[\\begin{matrix}0 & 1 & 1\\\\0 & 0 & 1\\\\0 & 0 & 0\\end{matrix}\\right]$"
      ],
      "text/plain": [
       "Matrix([\n",
       "[0, 1, 1],\n",
       "[0, 0, 1],\n",
       "[0, 0, 0]])"
      ]
     },
     "execution_count": 15,
     "metadata": {},
     "output_type": "execute_result"
    }
   ],
   "source": [
    "T_1"
   ]
  },
  {
   "cell_type": "markdown",
   "metadata": {},
   "source": [
    "Donde su espacio nulo es:"
   ]
  },
  {
   "cell_type": "code",
   "execution_count": 16,
   "metadata": {},
   "outputs": [
    {
     "data": {
      "text/plain": [
       "[Matrix([\n",
       " [1],\n",
       " [0],\n",
       " [0]])]"
      ]
     },
     "execution_count": 16,
     "metadata": {},
     "output_type": "execute_result"
    }
   ],
   "source": [
    "T_1.nullspace()"
   ]
  },
  {
   "cell_type": "markdown",
   "metadata": {},
   "source": [
    "Por lo tanto el $1$ - subespacio propio es generado por $[1, 0, 0]^{\\top}$. Dado que la dimensionalidad de este espacio no es igual a la multiplicidad de $\\lambda = 1$, entonces la matriz $A$ no es diagonalizable y por lo tanto no existen las matrices $D$ y $Q$."
   ]
  },
  {
   "cell_type": "markdown",
   "metadata": {},
   "source": [
    "**Ejemplo 5.** Para la matriz $\\begin{bmatrix} 1 & -1 & 0 \\\\ 0 & 2 & 0 \\\\ 0 & 2 & 1 \\end{bmatrix}$, determine si existe una matriz diagonal $D$ y una matriz invertible $Q$ tal que $D = Q^{-1}AQ$, si es así, encontrarlas. "
   ]
  },
  {
   "cell_type": "code",
   "execution_count": 17,
   "metadata": {},
   "outputs": [],
   "source": [
    "from sympy import Matrix, factor"
   ]
  },
  {
   "cell_type": "code",
   "execution_count": 18,
   "metadata": {},
   "outputs": [],
   "source": [
    "A = Matrix([[1, -1, 0], [0, 2, 0], [0, 2, 1]])"
   ]
  },
  {
   "cell_type": "code",
   "execution_count": 19,
   "metadata": {},
   "outputs": [],
   "source": [
    "polynomial = A.charpoly()"
   ]
  },
  {
   "cell_type": "code",
   "execution_count": 20,
   "metadata": {},
   "outputs": [
    {
     "data": {
      "text/latex": [
       "$\\displaystyle \\left(\\lambda - 2\\right) \\left(\\lambda - 1\\right)^{2}$"
      ],
      "text/plain": [
       "(lambda - 2)*(lambda - 1)**2"
      ]
     },
     "execution_count": 20,
     "metadata": {},
     "output_type": "execute_result"
    }
   ],
   "source": [
    "factor(polynomial.as_expr())"
   ]
  },
  {
   "cell_type": "markdown",
   "metadata": {},
   "source": [
    "Así, los valores propios son $\\lambda = 1, 1, 2$."
   ]
  },
  {
   "cell_type": "markdown",
   "metadata": {},
   "source": [
    "Las tranformaciones propias sociadas respectivamente a cada valor de $\\lambda$ son:"
   ]
  },
  {
   "cell_type": "code",
   "execution_count": 21,
   "metadata": {},
   "outputs": [],
   "source": [
    "T_1 = eigen_transformation(eigenvalue=1, A=A)"
   ]
  },
  {
   "cell_type": "code",
   "execution_count": 22,
   "metadata": {},
   "outputs": [],
   "source": [
    "T_2 = eigen_transformation(eigenvalue=2, A=A)"
   ]
  },
  {
   "cell_type": "markdown",
   "metadata": {},
   "source": [
    "Sus respectivos subespacios serían:"
   ]
  },
  {
   "cell_type": "code",
   "execution_count": 23,
   "metadata": {},
   "outputs": [
    {
     "data": {
      "text/plain": [
       "[Matrix([\n",
       " [1],\n",
       " [0],\n",
       " [0]]),\n",
       " Matrix([\n",
       " [0],\n",
       " [0],\n",
       " [1]])]"
      ]
     },
     "execution_count": 23,
     "metadata": {},
     "output_type": "execute_result"
    }
   ],
   "source": [
    "T_1.nullspace()"
   ]
  },
  {
   "cell_type": "code",
   "execution_count": 24,
   "metadata": {},
   "outputs": [
    {
     "data": {
      "text/plain": [
       "[Matrix([\n",
       " [-1/2],\n",
       " [ 1/2],\n",
       " [   1]])]"
      ]
     },
     "execution_count": 24,
     "metadata": {},
     "output_type": "execute_result"
    }
   ],
   "source": [
    "T_2.nullspace()"
   ]
  },
  {
   "cell_type": "markdown",
   "metadata": {},
   "source": [
    "Por lo tanto $\\{[1, 0, 0]^{\\top}, [0, 0, 1]^{\\top}\\}$ es una base para el $1$ - subespacio propio y $\\{[-1, 1, 2]^{\\top}$ es una base para el $2$ - subespacio propio."
   ]
  },
  {
   "cell_type": "markdown",
   "metadata": {},
   "source": [
    "Dado que la dimensionalidad de cada subespacio propio es igual a su multiplicidad de su respectivo valor propio, entonces $A$ es diagonaizable y se toma a $D$ y $Q$ como:"
   ]
  },
  {
   "cell_type": "code",
   "execution_count": 25,
   "metadata": {},
   "outputs": [],
   "source": [
    "D = Matrix([[1, 0, 0], [0, 1, 0], [0, 0, 2]])"
   ]
  },
  {
   "cell_type": "code",
   "execution_count": 26,
   "metadata": {},
   "outputs": [],
   "source": [
    "Q = Matrix([[1, 0, -1], [0, 0, 1], [0, 1, 2]])"
   ]
  },
  {
   "cell_type": "markdown",
   "metadata": {},
   "source": [
    "Ahora hay que comprobar que $D = Q^{-1}AQ$ y en efecto se tiene:"
   ]
  },
  {
   "cell_type": "code",
   "execution_count": 27,
   "metadata": {},
   "outputs": [
    {
     "data": {
      "text/plain": [
       "True"
      ]
     },
     "execution_count": 27,
     "metadata": {},
     "output_type": "execute_result"
    }
   ],
   "source": [
    "D == Q.inv()*A*Q"
   ]
  },
  {
   "cell_type": "markdown",
   "metadata": {},
   "source": [
    "**Observación.** Se puede tomar tambień las siguientes matrices $D$ y $Q$:"
   ]
  },
  {
   "cell_type": "code",
   "execution_count": 28,
   "metadata": {},
   "outputs": [],
   "source": [
    "D = Matrix([[2, 0, 0], [0, 1, 0], [0, 0, 1]])"
   ]
  },
  {
   "cell_type": "code",
   "execution_count": 29,
   "metadata": {},
   "outputs": [],
   "source": [
    "Q = Matrix([[-1, 1, 0], [1, 0, 0], [2, 0, 1]])"
   ]
  },
  {
   "cell_type": "markdown",
   "metadata": {},
   "source": [
    "Y nuevamente se comprueba que $D = Q^{-1}A Q$."
   ]
  },
  {
   "cell_type": "code",
   "execution_count": 30,
   "metadata": {},
   "outputs": [
    {
     "data": {
      "text/plain": [
       "True"
      ]
     },
     "execution_count": 30,
     "metadata": {},
     "output_type": "execute_result"
    }
   ],
   "source": [
    "D == Q.inv()*A*Q"
   ]
  },
  {
   "cell_type": "markdown",
   "metadata": {},
   "source": [
    "Es decir no hay una razón particular para para preocuparse mucho sobre qué matriz diagonal diagonal, siempre que se organicen los vectores propios y los valores propios de manera correspondiente. También se  podría haber utilizado cualquier otra base de los espacios propios para construir $Q$."
   ]
  },
  {
   "cell_type": "markdown",
   "metadata": {},
   "source": [
    "Sabiedno que una matriz es diagonalizable, esta puede ser muy útil para realizar algunos cálculos complejos. "
   ]
  },
  {
   "cell_type": "markdown",
   "metadata": {},
   "source": [
    "Por ejemplo, si $A$ es una matriz diagonalizable con $D = Q^{-1}A Q$, entonces es muy fácil computar cualquier pontencia de $A$. Explicitamente, dado que se puede escribir $A = QD^{-1}$, entonces $A^{k}=(QDQ^{-1})^{k}=QD^{k}Q^{-1}$. Pero como $D$ es diagonal, entonces $D^{k}$ es simplemente una matriz diagonal cuyas entradas son las $k$ potencias de las entradas de $D$. "
   ]
  },
  {
   "cell_type": "markdown",
   "metadata": {},
   "source": [
    "**Ejemplo 5.** Si $A = \\begin{bmatrix} -2 & -6 \\\\ 3 & 7 \\end{bmatrix}$, encontrar una formula de la $k$ potencia $A^{k}$, para un entero positivo."
   ]
  },
  {
   "cell_type": "code",
   "execution_count": 31,
   "metadata": {},
   "outputs": [],
   "source": [
    "from sympy import Matrix, factor, symbols"
   ]
  },
  {
   "cell_type": "code",
   "execution_count": 32,
   "metadata": {},
   "outputs": [],
   "source": [
    "k = symbols('k')"
   ]
  },
  {
   "cell_type": "code",
   "execution_count": 33,
   "metadata": {},
   "outputs": [],
   "source": [
    "A = Matrix([[-2, -6], [3, 7]])"
   ]
  },
  {
   "cell_type": "code",
   "execution_count": 34,
   "metadata": {},
   "outputs": [
    {
     "data": {
      "text/plain": [
       "{4: 1, 1: 1}"
      ]
     },
     "execution_count": 34,
     "metadata": {},
     "output_type": "execute_result"
    }
   ],
   "source": [
    "A.eigenvals()"
   ]
  },
  {
   "cell_type": "markdown",
   "metadata": {},
   "source": [
    "Los valores propios son $\\lambda = 4, 1$. Así las transformaciones propias serían: "
   ]
  },
  {
   "cell_type": "code",
   "execution_count": 35,
   "metadata": {},
   "outputs": [],
   "source": [
    "T_4 = eigen_transformation(eigenvalue=4, A=A)"
   ]
  },
  {
   "cell_type": "code",
   "execution_count": 36,
   "metadata": {},
   "outputs": [],
   "source": [
    "T_1 = eigen_transformation(eigenvalue=1, A=A)"
   ]
  },
  {
   "cell_type": "markdown",
   "metadata": {},
   "source": [
    "Y sus respectivos espacios nulos serían:"
   ]
  },
  {
   "cell_type": "code",
   "execution_count": 37,
   "metadata": {},
   "outputs": [
    {
     "data": {
      "text/plain": [
       "[Matrix([\n",
       " [-1],\n",
       " [ 1]])]"
      ]
     },
     "execution_count": 37,
     "metadata": {},
     "output_type": "execute_result"
    }
   ],
   "source": [
    "T_4.nullspace()"
   ]
  },
  {
   "cell_type": "code",
   "execution_count": 38,
   "metadata": {},
   "outputs": [
    {
     "data": {
      "text/plain": [
       "[Matrix([\n",
       " [-2],\n",
       " [ 1]])]"
      ]
     },
     "execution_count": 38,
     "metadata": {},
     "output_type": "execute_result"
    }
   ],
   "source": [
    "T_1.nullspace()"
   ]
  },
  {
   "cell_type": "markdown",
   "metadata": {},
   "source": [
    "Por lo tanto una base para el $4$ - subespacio propio es $\\{[-1, 1]^{\\top}\\}$ y una base para el $1$ - subespacio propio es $\\{[-2, 1]^{\\top}\\}$. Así las matrices $D$ y $Q$ serían:"
   ]
  },
  {
   "cell_type": "code",
   "execution_count": 39,
   "metadata": {},
   "outputs": [],
   "source": [
    "D = Matrix([[1, 0], [0, 4]])"
   ]
  },
  {
   "cell_type": "code",
   "execution_count": 40,
   "metadata": {},
   "outputs": [],
   "source": [
    "Q = Matrix([[-2, -1], [1, 1]])"
   ]
  },
  {
   "cell_type": "markdown",
   "metadata": {},
   "source": [
    "Luego, $D^{k}$ y $A^{k}$ son:"
   ]
  },
  {
   "cell_type": "code",
   "execution_count": 41,
   "metadata": {},
   "outputs": [
    {
     "data": {
      "text/latex": [
       "$\\displaystyle \\left[\\begin{matrix}1 & 0\\\\0 & 4^{k}\\end{matrix}\\right]$"
      ],
      "text/plain": [
       "Matrix([\n",
       "[1,    0],\n",
       "[0, 4**k]])"
      ]
     },
     "execution_count": 41,
     "metadata": {},
     "output_type": "execute_result"
    }
   ],
   "source": [
    "D**k"
   ]
  },
  {
   "cell_type": "code",
   "execution_count": 42,
   "metadata": {},
   "outputs": [
    {
     "data": {
      "text/latex": [
       "$\\displaystyle \\left[\\begin{matrix}2 - 4^{k} & 2 - 2 \\cdot 4^{k}\\\\4^{k} - 1 & 2 \\cdot 4^{k} - 1\\end{matrix}\\right]$"
      ],
      "text/plain": [
       "Matrix([\n",
       "[2 - 4**k, 2 - 2*4**k],\n",
       "[4**k - 1, 2*4**k - 1]])"
      ]
     },
     "execution_count": 42,
     "metadata": {},
     "output_type": "execute_result"
    }
   ],
   "source": [
    "A**k"
   ]
  },
  {
   "cell_type": "markdown",
   "metadata": {},
   "source": [
    "Finalmente, hay que verificar que $A^{k} = QD^{k}Q^{-1}$."
   ]
  },
  {
   "cell_type": "code",
   "execution_count": 43,
   "metadata": {},
   "outputs": [
    {
     "data": {
      "text/plain": [
       "True"
      ]
     },
     "execution_count": 43,
     "metadata": {},
     "output_type": "execute_result"
    }
   ],
   "source": [
    "A**k == Q* D**k * Q.inv()"
   ]
  },
  {
   "cell_type": "markdown",
   "metadata": {},
   "source": [
    "También se puede usar la diagonalización de una matriz para probar nuevos teoremas de una forma más simple. He aquí un ejemplo típico."
   ]
  },
  {
   "cell_type": "markdown",
   "metadata": {},
   "source": [
    ">**Definición.** *Si $T:V\\to V$ es un operador y $p(x) = a_0 + a_1 x+\\cdots a_nx^n$ es un polinomio, se define:\n",
    "$$p(T)= a_0 I + a_1 T + \\cdots a_n T^{n}.$$\n",
    "Similarmente, si $A$ es una matriz de orden $n\\times n$, se define:\n",
    "$$p(A) = a_0 I + a_1 A + \\cdots a_n A^{n}.$$\n",
    "Es fácil comprobar que $Q^{-1}p(A)Q = p(Q^{-1}AQ)$.*"
   ]
  },
  {
   "cell_type": "markdown",
   "metadata": {},
   "source": [
    ">**Caley-Hamilton.** Si $p(x)$ es el polinómio característico de la matriz $A$, entonces $p(A)$ es la matriz cero."
   ]
  },
  {
   "cell_type": "markdown",
   "metadata": {},
   "source": [
    "El mismo se resultado se dá para el polinomio característico del operador lineal $T:V\\to V$."
   ]
  },
  {
   "cell_type": "markdown",
   "metadata": {},
   "source": [
    "**Ejemplo 6.** Para la matriz $\\begin{bmatrix} 2 & 2 \\\\ 3 & 1 \\end{bmatrix}$, se tiene:"
   ]
  },
  {
   "cell_type": "code",
   "execution_count": 44,
   "metadata": {},
   "outputs": [],
   "source": [
    "from sympy import Matrix, factor, symbols, eye"
   ]
  },
  {
   "cell_type": "code",
   "execution_count": 45,
   "metadata": {},
   "outputs": [],
   "source": [
    "A = Matrix([[2, 2], [3, 1]])"
   ]
  },
  {
   "cell_type": "markdown",
   "metadata": {},
   "source": [
    "con polinomio característico:"
   ]
  },
  {
   "cell_type": "code",
   "execution_count": 46,
   "metadata": {},
   "outputs": [
    {
     "data": {
      "text/latex": [
       "$\\displaystyle \\lambda^{2} - 3 \\lambda - 4$"
      ],
      "text/plain": [
       "lambda**2 - 3*lambda - 4"
      ]
     },
     "execution_count": 46,
     "metadata": {},
     "output_type": "execute_result"
    }
   ],
   "source": [
    "A.charpoly().as_expr()"
   ]
  },
  {
   "cell_type": "markdown",
   "metadata": {},
   "source": [
    "Se computar fácilmente $A^{2} - 3 A - 4I_{2}$, en efecto:"
   ]
  },
  {
   "cell_type": "code",
   "execution_count": 47,
   "metadata": {},
   "outputs": [
    {
     "data": {
      "text/latex": [
       "$\\displaystyle \\left[\\begin{matrix}0 & 0\\\\0 & 0\\end{matrix}\\right]$"
      ],
      "text/plain": [
       "Matrix([\n",
       "[0, 0],\n",
       "[0, 0]])"
      ]
     },
     "execution_count": 47,
     "metadata": {},
     "output_type": "execute_result"
    }
   ],
   "source": [
    "A**2 - 3 * A - 4 * eye(2)"
   ]
  },
  {
   "cell_type": "markdown",
   "metadata": {},
   "source": [
    "*Demostración*. *Si $A$ es diagonalizable, entonces $D = Q^{-1} A Q$ con $D$ diagonal, y sea $p(x)$ el polinomio característico de $A$. La diagonal de entradas de $D$ son los valores propios $\\lambda_1,\\dots, \\lambda_n$ de $A$. por lo tanto son raíces del polinómio característico, es decir $p(\\lambda_1)=\\cdots=p(\\lambda_n)=0$.*"
   ]
  },
  {
   "cell_type": "markdown",
   "metadata": {},
   "source": [
    "*Se puede verificar fácilmente que:*"
   ]
  },
  {
   "cell_type": "markdown",
   "metadata": {},
   "source": [
    "\\begin{equation}\n",
    "p(D)=p\\left(\\begin{bmatrix} \\lambda_1 & & \\\\ &\\ddots & \\\\ & & \\lambda_n\\end{bmatrix}\\right) = \\begin{bmatrix} p(\\lambda_1) & & \\\\ &\\ddots & \\\\ & & p(\\lambda_n)\\end{bmatrix} = \\begin{bmatrix} 0 & & \\\\ &\\ddots & \\\\ & & 0\\end{bmatrix}=0.\n",
    "\\end{equation}"
   ]
  },
  {
   "cell_type": "markdown",
   "metadata": {},
   "source": [
    "*Luego $p(A) = Q p(D) Q^{-1} = 0$ cómo se quería probar.*"
   ]
  },
  {
   "cell_type": "markdown",
   "metadata": {},
   "source": [
    "En el caso de una matriz $A$ no diagonalizable, la prueba del teorema de Cayley Hamilton es sustancialmente más dificil. Este caso se tratará en la sigueinte sección usando la forma canónica de Jordan."
   ]
  },
  {
   "cell_type": "markdown",
   "metadata": {},
   "source": [
    "## Bibliografía\n",
    "1. Evan Dummit, 2020, Linear Algebra - part 4: Eingenvalues, Diagonalization, and the Jordan Form.\n",
    "2. SymPy Development Team. 2021. [Sympy 1.8 documetation](https://docs.sympy.org/latest/index.html)."
   ]
  },
  {
   "cell_type": "markdown",
   "metadata": {},
   "source": [
    "## Contacto\n",
    "* Participa del canal de Nerve a través de [Discord](https://discord.gg/edPmghPq8K).\n",
    "* Se quieres conocer más acerca de este tema me puedes contactar a través de [Classgap](https://www.classgap.com/me/alejandro-sanchez-yali)."
   ]
  },
  {
   "cell_type": "markdown",
   "metadata": {},
   "source": [
    "Si el post fue de tu agrado muestra tu apoyo compartiéndolo, suscribiéndote al blog, siguiéndome o realizando una donación."
   ]
  }
 ],
 "metadata": {
  "kernelspec": {
   "display_name": "Python 3",
   "language": "python",
   "name": "python3"
  },
  "language_info": {
   "codemirror_mode": {
    "name": "ipython",
    "version": 3
   },
   "file_extension": ".py",
   "mimetype": "text/x-python",
   "name": "python",
   "nbconvert_exporter": "python",
   "pygments_lexer": "ipython3",
   "version": "3.9.4"
  }
 },
 "nbformat": 4,
 "nbformat_minor": 4
}
