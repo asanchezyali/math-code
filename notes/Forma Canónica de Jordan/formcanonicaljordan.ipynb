{
 "cells": [
  {
   "cell_type": "markdown",
   "metadata": {},
   "source": [
    "# Forma canónica de Jordan"
   ]
  },
  {
   "cell_type": "markdown",
   "metadata": {},
   "source": [
    "Considere un espacio vectorial $V$ de dimensión finita $n>0$ sobre un cuerpo $\\mathbb{K}$ y $T$ un endomorfismo de $V$ cuyos valores distintos son $\\lambda_1, \\cdots, \\lambda_r\\in \\mathbb{K}$ de multiplicidades $m_1,\\cdots m_r$, respectivamente. "
   ]
  },
  {
   "cell_type": "markdown",
   "metadata": {},
   "source": [
    "Se sabe que no todos los endomorfismo de $V$ son diagonalizables, es decir, que en general no se puede encontrar una base de $V$ tal que la matriz $T$ sea diagonal. El objetivo de la forma canónica de Jordan es determinar una base de $V$ de tal forma que $T$ sea diagonalizable por bloques de Jordan. ¿Pero qué es un bloque de Jordan? ¿Y qué quiere decir diagonalizable por bloques de Jordan?"
   ]
  },
  {
   "cell_type": "markdown",
   "metadata": {},
   "source": [
    "<a id='1'></a>\n",
    "**Definición 1.** *Un **bloque de Jordan** de orden $s$ es una matriz cuadrada con $s$ filas y $s$ columnas que tiene todas las entradas de la diagonal principal identicas, la diagonal por encima de ésta está formada por $1$ y las restantes entradas son cero, es decir $B(s, \\lambda)\\in M_s(\\mathbb{K})$ es un bloque de jordan si*:"
   ]
  },
  {
   "cell_type": "markdown",
   "metadata": {},
   "source": [
    "\\begin{equation}\n",
    "b_{ij} = \\begin{cases}\n",
    "\\lambda & \\mbox{si $i=j$};\\\\\n",
    "1 & \\mbox{si $i+1 = j$};\\\\\n",
    "0 & \\mbox{en otro caso}.\n",
    "\\end{cases}\n",
    "\\end{equation}"
   ]
  },
  {
   "cell_type": "markdown",
   "metadata": {},
   "source": [
    "*para algún $\\lambda\\in \\mathbb{K}$.*"
   ]
  },
  {
   "cell_type": "markdown",
   "metadata": {},
   "source": [
    "Obsérvese que un bloque de Jordan de orden $s$ no es otra cosa que la suma de una matriz diagonal $D_{\\lambda} \\in M_{s}(\\mathbb{K})$ y un matriz nilpotente:"
   ]
  },
  {
   "cell_type": "markdown",
   "metadata": {},
   "source": [
    "\\begin{equation}\n",
    "N = \\left(\\begin{array}{ccccc}\n",
    "0 & 1 & \\dots & 0 & 0 \\\\\n",
    "0 & 0 & \\ddots & 0 & 0 \\\\\n",
    "\\vdots & \\vdots & \\ddots & \\ddots & \\vdots \\\\\n",
    "0 & 0 & \\dots & 0 & 1 \\\\\n",
    "0 & 0 & \\dots & 0 & 0\n",
    "\\end{array}\n",
    "\\right) \\in M_s(\\mathbb{K})\n",
    "\\end{equation}"
   ]
  },
  {
   "cell_type": "markdown",
   "metadata": {},
   "source": [
    "tal que $N^{s-1}\\neq 0$ y $N^{s}=0$."
   ]
  },
  {
   "cell_type": "markdown",
   "metadata": {},
   "source": [
    "**Definición 2.** *Una **matriz de Jordan** es una matriz diagonal por bloques de manera que cada bloque es de Jordan, esto es, $J\\in M_n(\\mathbb{K})$ es de Jordan si:*"
   ]
  },
  {
   "cell_type": "markdown",
   "metadata": {},
   "source": [
    "\\begin{equation}\n",
    "J = \\left(\\begin{array}{cccc}\n",
    "B_1 & 0 & \\dots & 0 \\\\\n",
    "0 & B_2 & \\dots & 0 \\\\\n",
    "\\vdots & \\vdots & \\ddots & \\vdots \\\\\n",
    "0 & 0 & \\dots & B_r &\n",
    "\\end{array}\n",
    "\\right),\n",
    "\\end{equation}"
   ]
  },
  {
   "cell_type": "markdown",
   "metadata": {},
   "source": [
    "*donde cada $B_i$, $i = 1, \\dots, r$ es un bloque de Jordan.*"
   ]
  },
  {
   "cell_type": "markdown",
   "metadata": {},
   "source": [
    "Se puede demostrar, que si todos los autovalores de de $T$ están en $\\mathbb{K}$ entonces existe una base $\\mathcal{B}$ de $V$ tal que la matriz asociada a $T$ respecto de $\\mathcal{B}$ es una matriz de Jordan. La base $\\mathcal{B}$ se llama base de Jordan de $T$, y ésta es única salvo permutación de los bloque de Jordan. Para ver detalles de esta demostración, consultar en [Ignacio Ojeda et al. 2008. Métodos matemáticos para estadística](https://dialnet.unirioja.es/servlet/libro?codigo=660713)."
   ]
  },
  {
   "cell_type": "markdown",
   "metadata": {},
   "source": [
    "Dicho de otro modo, para *toda matriz cuadrada con coeficientes en $\\mathbb{K}$ tal que todos sus autovalores están en $\\mathbb{K}$, es semejante a una matriz de Jordan; en particular, a una matriz triangular de superior.*"
   ]
  },
  {
   "cell_type": "markdown",
   "metadata": {},
   "source": [
    "**Ejemplo:** *Si $T$ es diagonalizable entonces su forma canónica de Jordan es:*"
   ]
  },
  {
   "cell_type": "markdown",
   "metadata": {},
   "source": [
    "\\begin{equation}\n",
    "J = \\left(\\begin{array}{cccc}\n",
    "\\mu_1 & 0 & \\dots & 0 \\\\\n",
    "0 & \\mu_2 & \\dots & 0 \\\\\n",
    "\\vdots & \\vdots & \\ddots & \\vdots \\\\\n",
    "0 & 0 & \\dots & \\mu_r &\n",
    "\\end{array}\n",
    "\\right),\n",
    "\\end{equation}"
   ]
  },
  {
   "cell_type": "markdown",
   "metadata": {},
   "source": [
    "*donde $\\mu_i$, $i=1,\\dots, n$ son los autovalores de $T$ repetidos tantas veces como indique su multiplicidad. Dicho de otro modo, $T$ es diagonalizable si, y sólo si, los bloques de Jordan en su forma canónica tienen orden $1$.*"
   ]
  },
  {
   "cell_type": "markdown",
   "metadata": {},
   "source": [
    "A continuación se van a introducir una serie de subespacios invariantes que son necesarios para construir la base de Jordan y se verán sus propiedades más relevantes. "
   ]
  },
  {
   "cell_type": "markdown",
   "metadata": {},
   "source": [
    "**Definición 3.** *Para cada $i\\in \\{1,\\dots, r\\}$ y $j\\leq 0$, se llama subespacio propio generalizado asociado al autovalores $\\lambda_i$ a $$L_{i, j}=\\ker \\big((\\lambda_i id - T)^{j}\\big).$$*"
   ]
  },
  {
   "cell_type": "markdown",
   "metadata": {},
   "source": [
    "Nótese que $L_{i,0}=\\ker \\big((\\lambda_i id - T)^{0}\\big)=\\ker(I)=\\{0\\}$, para todo $i=1,\\dots,r$."
   ]
  },
  {
   "cell_type": "markdown",
   "metadata": {},
   "source": [
    "Obsérvese que para cada $i\\in\\{1,\\dots, r\\}$ se tiene que:\n",
    "1. $L_{i, 1} = \\ker (\\lambda_i id -T)$, esto es, el subespacio propio asociado a $\\lambda_i$."
   ]
  },
  {
   "cell_type": "markdown",
   "metadata": {},
   "source": [
    "2. $L_{i, 1}\\subseteq L_{i, 2}\\subseteq \\dots \\subseteq L_{i, s} \\subseteq \\dots$. En efecto, si $v\\in \\ker \\big((\\lambda_i id- T)^{j}\\big)$, entonces:"
   ]
  },
  {
   "cell_type": "markdown",
   "metadata": {},
   "source": [
    "\\begin{equation}\n",
    "(\\lambda_i id - T)^{j+1}(v)=(\\lambda_i id -T )\\circ(\\lambda_i id - T)^{j}(v) = (\\lambda_i id -T)(0)=0.\n",
    "\\end{equation}"
   ]
  },
  {
   "cell_type": "markdown",
   "metadata": {},
   "source": [
    "3. $L_{i,j}$ es un subespacio invariante por $T$. En efecto, si $v\\in L_{i,j}$, entonces $T(v)\\in L_{i,j}$, ya que:"
   ]
  },
  {
   "cell_type": "markdown",
   "metadata": {},
   "source": [
    "\\begin{equation}\n",
    "(\\lambda_i id - T)^{j}(T(v))=(\\lambda_i id - T)^{j}(T(v)-\\lambda_i v +\\lambda_i v)=-(\\lambda_i id - T)^{j+1}(v) + \\lambda_i (\\lambda_i id - T)^{j}(v) = 0 + 0 = 0\n",
    "\\end{equation}"
   ]
  },
  {
   "cell_type": "markdown",
   "metadata": {},
   "source": [
    "Como $V$ es de dimensión finita, para cada $i=1,\\dots, r$, la cadena de subespacios $L_{i,j}$ se estabiliza, es decir, existe un $s$ apartir del cual  $L_{i, j}=L_{i, s}$ para todo $j\\leq s$. Ver detalles en [Ignacio Ojeda et al. 2008. Métodos matemáticos para estadística](https://dialnet.unirioja.es/servlet/libro?codigo=660713)."
   ]
  },
  {
   "cell_type": "markdown",
   "metadata": {},
   "source": [
    "Por lo tanto la cadena de inclusiones del apartado anterios queda de la forma:"
   ]
  },
  {
   "cell_type": "markdown",
   "metadata": {},
   "source": [
    "\\begin{equation}\n",
    "L_{i, 1}\\subset L_{i, 2}\\subset \\dots \\subset L_{i, s_i} =  L_{i, s_i+1}=\\dots,\n",
    "\\end{equation}"
   ]
  },
  {
   "cell_type": "markdown",
   "metadata": {},
   "source": [
    "para cada $i=1,\\dots, r$. El subespacio $L_{i, s_i}$ se llama subespacio propio máximo del autovalor $\\lambda_i$ es cuál se denotará por $G_{\\lambda_i}$. Es decir, $G_{\\lambda_i}=L_{i, s_i}$."
   ]
  },
  {
   "cell_type": "markdown",
   "metadata": {},
   "source": [
    "EL objetivo de esta sesión  es determinar una base para $G_\\lambda(T)$ en una forma estandar. Antes de hacer esto, hay resultados importante que se enunciarán a continuación sin demostración. El primer resultado se puede encontrar el libro de Álgebra Lineal de Axler y el segundo en el libro de Álgebra Linal de Nicholson."
   ]
  },
  {
   "cell_type": "markdown",
   "metadata": {},
   "source": [
    "**Teorema 1.** *Suponga que $V$ es un espacio vectorial sobre un campo $\\mathbb{K}$, y $T:V\\to V$ es un operador lineal. Sea $\\lambda_1, \\dots, \\lambda_r$ denota los distintos valores propies de $T$. Entonces:*"
   ]
  },
  {
   "cell_type": "markdown",
   "metadata": {},
   "source": [
    "*1. EL único autovalor de la restricción $T$ a $G_\\lambda$ es $\\lambda$.*"
   ]
  },
  {
   "cell_type": "markdown",
   "metadata": {},
   "source": [
    "*2. $V = G_{\\lambda_1}(T)\\oplus G_{\\lambda_2}(T) \\oplus\\cdots\\oplus G_{\\lambda_r}(T)$.*"
   ]
  },
  {
   "cell_type": "markdown",
   "metadata": {},
   "source": [
    "*3. Cada espacio propio generalizado $G_{\\lambda}(T)$ es $T$ - invariante.*"
   ]
  },
  {
   "cell_type": "markdown",
   "metadata": {},
   "source": [
    "*4. Cada restricción $(T-\\lambda_jid)|_{G_{\\lambda_j(T)}}$ es nilpotente.*"
   ]
  },
  {
   "cell_type": "markdown",
   "metadata": {},
   "source": [
    "El otro resultado importante para esta sesión es:"
   ]
  },
  {
   "cell_type": "markdown",
   "metadata": {},
   "source": [
    "**Teorema 2.** *Sea $T:V\\to V$ un operador lineal. Si el polinomio característico de $T$ es dado por:*"
   ]
  },
  {
   "cell_type": "markdown",
   "metadata": {},
   "source": [
    "$$c_T(x) = (x-\\lambda_1)^{m_1}(x-\\lambda_2)^{m_2}\\cdot\\cdots\\cdot (x-\\lambda_k)^{m_r},$$"
   ]
  },
  {
   "cell_type": "markdown",
   "metadata": {},
   "source": [
    "*entonces $\\dim G_{\\lambda_j}(T)=m_{j}$ para cada $j=1, \\dots, r$.*"
   ]
  },
  {
   "cell_type": "markdown",
   "metadata": {},
   "source": [
    "*Además, si se tinene $\\mathcal{B}=\\mathcal{B}_1\\cup \\mathcal{B}_2\\cup \\cdots \\cup \\mathcal{B}_r$ donde $B_j$ es una base para $G_{\\lambda_j}(T)$ para $j=1, \\dots, r$, entonces $B$ es una base para $V$ (esto se sigue inmediatamente del Teorema 1) y la matriz de $T$ con respecto a esta base es una matriz diagona por bloque de la forma:*"
   ]
  },
  {
   "cell_type": "markdown",
   "metadata": {},
   "source": [
    "\\begin{equation}\n",
    "M_{\\mathcal{B}}(T) = \\left(\\begin{array}{cccc}\n",
    "A_1 & 0 & \\dots & 0 \\\\\n",
    "0 & A_2 & \\dots & 0 \\\\\n",
    "\\vdots & \\vdots & \\ddots & \\vdots \\\\\n",
    "0 & 0 & \\dots & A_r &\n",
    "\\end{array}\n",
    "\\right),\n",
    "\\end{equation}"
   ]
  },
  {
   "cell_type": "markdown",
   "metadata": {},
   "source": [
    "*donde cada $A_j$ tiene el tamaño $m_j\\times m_j$.*"
   ]
  },
  {
   "cell_type": "markdown",
   "metadata": {},
   "source": [
    "**Observaciones:**"
   ]
  },
  {
   "cell_type": "markdown",
   "metadata": {},
   "source": [
    "1. Un forma de ver que $\\dim G_{\\lambda_j}(T)=m_j$ es considerar a $(M_{\\mathcal(B)}(T)-\\lambda_j I_n)^{m_j}$. Esta matriz tendra la forma $diag(U_{1}^{m_j},U_{2}^{m_j},\\dots, U_{r}^{m_j})$ donde $U_i$ es la matriz de $(T-\\lambda_jid) ^{m_j}$ restringida a $G_{\\lambda_j}(T)$. Si $i\\neq j$, $T-\\lambda_j I$ restringido a un operador invertible de $(T-\\lambda_jid)$, entonces su restricion a $G_{\\lambda_j}(T)$ es nilpotente por el **Teorema 1**.Si $U_j$ es nilpotente, y tiene tamaño $m_j\\times m_j$, mientras $U_i$ es invertible si $i\\neq j$. La matriz $(M_{\\mathcal{B}}(T)-\\lambda_j I)^{m_j}$ termina con un bloque de zeros de tamaño $m_j\\times m_j$, así $\\dim \\ker (T-\\lambda_j I)^{m_j} = m_j$."
   ]
  },
  {
   "cell_type": "markdown",
   "metadata": {},
   "source": [
    "2. Si la afirmación anterior no es clara, observe que con la elección apropiada, los bloques $A_i$ en el **Teorema 2** tiene la forma: \n",
    "\\begin{equation}\n",
    "M_{\\mathcal{B}}(T) = \\left(\\begin{array}{cccc}\n",
    "\\lambda_1 & * & \\dots & * \\\\\n",
    "0 & \\lambda_2 & \\dots & * \\\\\n",
    "\\vdots & \\vdots & \\ddots & \\vdots \\\\\n",
    "0 & 0 & \\dots & \\lambda_r &\n",
    "\\end{array}\n",
    "\\right),\n",
    "\\end{equation}\n",
    "Por lo tanto, $M_{\\mathcal{B}}(T)-\\lambda_j I$ tendrá bloque que son matrices triangulares superior, con entradas en la diagonal dadas por $\\lambda_{i} - \\lambda_{j}\\neq 0$ con $i\\neq j$, pero con $i=j$ se obtiene una matriz estrictamente triangular, y por lo tanto nilpotente, dado que las entradas de la diagonal puede ser $\\lambda_j-\\lambda_j=0$."
   ]
  },
  {
   "cell_type": "markdown",
   "metadata": {},
   "source": [
    "3. Si $s_j$ es el menor entero tal que $\\ker (A - \\lambda_j I)^{s_j} = G_{\\lambda_j}(T)$, entonces es posible seleccionar una base de $G_{\\lambda_j}(T)$ tal que $A_j$ es en si misma una matriz de bloque en la diagonal, con el mayor bloque de tamaño $s_j\\times s_j$. Es importante recordar esta sección dedicada a cómo determinar la elección de esta base. "
   ]
  },
  {
   "cell_type": "markdown",
   "metadata": {},
   "source": [
    "El principio básico para la elección de una base para cada uno de los espacios generalizados es como sigue: se sabe que $E_\\lambda(T)\\subseteq G_{\\lambda}(T)$ para cada valor propio $\\lambda$. Se escoge una base para $E_{\\lambda}(T)$ para hallar los autovalores como usualmente se hace. Si $\\ker (T-\\lambda I)^2=\\ker (T-\\lambda I)$ entonces el proceso finaliza. En otro caso, se debe ampliar la basde para $E_\\lambda (T)$ para una base de $\\ker (T-\\lambda I)^{2}$. Si $\\ker (T-\\lambda I)^{3} = \\ker (T-\\lambda I)^{2}$, entonces el proceso finaliza, y por lo tanto $G_{\\lambda}(T) = \\ker (T-\\lambda I)^{2}$. Si no, entonces ampliamos la base existente a una base de $\\ker(T-\\lambda I)^{3}$. El proceso se continua hasta encontrar algún $s$ tal que $\\ker(T-\\lambda I)^{s}=\\ker(T-\\lambda)^{s+1}$. Para finalmente concluier que $G_{\\lambda}(T)=\\ker (T-\\lambda I)^{s}$."
   ]
  },
  {
   "cell_type": "markdown",
   "metadata": {},
   "source": [
    "Lo anterior produce una base para $G_{\\lambda}(T)$, se quiero esto, pero en el sentido de la mejor base. Para nuestro proposito, la mejor base es una en la cual la matrix $T$ restringida a cada subespacio propio generalizado es un bloque diagonal, donde cada bloque es un bloque de Jordan como se vió en la [Definición 1](#1). "
   ]
  },
  {
   "cell_type": "markdown",
   "metadata": {},
   "source": [
    "**Ejemplo**. Las siguientes matrices son ejemplos de bloques de Jordan:"
   ]
  },
  {
   "cell_type": "markdown",
   "metadata": {},
   "source": [
    "\\begin{equation}\n",
    "B(2, 4) = \\begin{bmatrix}\n",
    "4 & 1 \\\\\n",
    "0 & 4\n",
    "\\end{bmatrix},\\;\\;\n",
    "B(3, \\sqrt{2}) = \\begin{bmatrix}\n",
    "\\sqrt{2} & 1 & 0 \\\\\n",
    "0 & \\sqrt{2} & 1 \\\\\n",
    "0 & 0 & \\sqrt{2}\n",
    "\\end{bmatrix}, \\;\\;\n",
    "B(4, 2i) = \\begin{bmatrix}\n",
    "2i & 1 & 0 & 0 \\\\\n",
    "0 & 2i & 1 & 0 \\\\\n",
    "0 & 0 & 2i & 0 \\\\\n",
    "0 & 0 & 0 & 2i\n",
    "\\end{bmatrix}.\n",
    "\\end{equation}"
   ]
  },
  {
   "cell_type": "markdown",
   "metadata": {},
   "source": [
    "Un bloque de Jordan corresponde a una base de vectores $v_{1}, v_{2},\\dots, v_{m}$ con las siguientes propiedades:"
   ]
  },
  {
   "cell_type": "markdown",
   "metadata": {},
   "source": [
    "\\begin{align*}\n",
    "T(v_1) &= \\lambda v_1,\\\\\n",
    "T(v_2) &= v_1 + \\lambda v_2,\\\\\n",
    "T(v_3) &= v_2 + \\lambda v_3,\\\\\n",
    "\\end{align*}"
   ]
  },
  {
   "cell_type": "markdown",
   "metadata": {},
   "source": [
    "y así sucesivamente. Observe que $v_1$ es un vector propio, y para cada $j=1,\\dots, m$, "
   ]
  },
  {
   "cell_type": "markdown",
   "metadata": {},
   "source": [
    "\\begin{equation}\n",
    "(T-\\lambda I)v_j = v_{j-1}.\n",
    "\\end{equation}"
   ]
  },
  {
   "cell_type": "markdown",
   "metadata": {},
   "source": [
    "Además si $N=T-\\lambda I$, entonces:"
   ]
  },
  {
   "cell_type": "markdown",
   "metadata": {},
   "source": [
    "\\begin{equation}\n",
    "v, Nv, N^2v, \\dots, N^{m-1}v,\n",
    "\\end{equation}"
   ]
  },
  {
   "cell_type": "markdown",
   "metadata": {},
   "source": [
    "donde $v=v_{m}$ y $v_{1}=N^{m-1}v$ es un vector propio. (Observe que $N^{m}v = (T-\\lambda I)v_1 = 0$ y necesariamente $N^{m}v_{j}=0$ para cada $j=1,\\dots, m$) Esta base se conoce como **base en cadena**."
   ]
  },
  {
   "cell_type": "markdown",
   "metadata": {},
   "source": [
    "Si $\\dim E_{\\lambda}(T)>1$ es posible que se deba repetir este proceso para cada vector propio en una base para el espacio propio. La matriz completa de $T$ podría tener varios bloques de Jordan de tamaños posiblemente diferentes para cada valor propio."
   ]
  },
  {
   "cell_type": "markdown",
   "metadata": {},
   "source": [
    "**Ejemplo.** Determina una base de Jordan para el operador $T:\\mathbb{R}^{5}\\to \\mathbb{R}^{5}$ cuya matriz con respecto a la base estandar esta dada por:"
   ]
  },
  {
   "cell_type": "code",
   "execution_count": 1,
   "metadata": {},
   "outputs": [],
   "source": [
    "from sympy import *\n",
    "init_printing()\n",
    "A = Matrix([[7,1, -3, 2, 1], [-6, 2, 4, -2, -2], [0, 1, 3, 1, -1], [-8, -1, 6, 0, -3], [-4, 0, 3, -1, 1]])"
   ]
  },
  {
   "cell_type": "markdown",
   "metadata": {},
   "source": [
    "Primero, encontremos su polinomio característico:"
   ]
  },
  {
   "cell_type": "code",
   "execution_count": 2,
   "metadata": {},
   "outputs": [
    {
     "data": {
      "image/png": "[encoded data removed]",
      "text/latex": [
       "$\\displaystyle \\left(\\lambda - 3\\right)^{3} \\left(\\lambda - 2\\right)^{2}$"
      ],
      "text/plain": [
       "       3        2\n",
       "(λ - 3) ⋅(λ - 2) "
      ]
     },
     "execution_count": 2,
     "metadata": {},
     "output_type": "execute_result"
    }
   ],
   "source": [
    "polynomial = A.charpoly()\n",
    "factor(polynomial.as_expr())"
   ]
  },
  {
   "cell_type": "markdown",
   "metadata": {},
   "source": [
    "Donde sus raices son:"
   ]
  },
  {
   "cell_type": "code",
   "execution_count": 3,
   "metadata": {},
   "outputs": [
    {
     "data": {
      "image/png": "[encoded data removed]",
      "text/latex": [
       "$\\displaystyle \\left[ 2, \\  2, \\  3, \\  3, \\  3\\right]$"
      ],
      "text/plain": [
       "[2, 2, 3, 3, 3]"
      ]
     },
     "execution_count": 3,
     "metadata": {},
     "output_type": "execute_result"
    }
   ],
   "source": [
    "polynomial.all_roots()"
   ]
  },
  {
   "cell_type": "markdown",
   "metadata": {},
   "source": [
    "El siguiente paso es determinar una base para el espacio propio $L_{2, 1} = \\ker (T- \\lambda id )$:"
   ]
  },
  {
   "cell_type": "code",
   "execution_count": 12,
   "metadata": {},
   "outputs": [],
   "source": [
    "N2 = A - 2 * eye(5)"
   ]
  },
  {
   "cell_type": "code",
   "execution_count": 14,
   "metadata": {},
   "outputs": [],
   "source": [
    "L2_1 = N2.nullspace()"
   ]
  },
  {
   "cell_type": "code",
   "execution_count": 19,
   "metadata": {},
   "outputs": [
    {
     "data": {
      "image/png": "[encoded data removed]",
      "text/latex": [
       "$\\displaystyle \\left[ \\left[\\begin{matrix}-1\\\\0\\\\-1\\\\1\\\\0\\end{matrix}\\right]\\right]$"
      ],
      "text/plain": [
       "⎡⎡-1⎤⎤\n",
       "⎢⎢  ⎥⎥\n",
       "⎢⎢0 ⎥⎥\n",
       "⎢⎢  ⎥⎥\n",
       "⎢⎢-1⎥⎥\n",
       "⎢⎢  ⎥⎥\n",
       "⎢⎢1 ⎥⎥\n",
       "⎢⎢  ⎥⎥\n",
       "⎣⎣0 ⎦⎦"
      ]
     },
     "execution_count": 19,
     "metadata": {},
     "output_type": "execute_result"
    }
   ],
   "source": [
    "L2_1"
   ]
  },
  {
   "cell_type": "markdown",
   "metadata": {},
   "source": [
    "Luego, se resuelve el problema $(A-2I)v_2 = v_1$."
   ]
  },
  {
   "cell_type": "code",
   "execution_count": 20,
   "metadata": {},
   "outputs": [
    {
     "data": {
      "image/png": "[encoded data removed]",
      "text/latex": [
       "$\\displaystyle \\left( \\left[\\begin{matrix}1 & 0 & 0 & 1 & 0 & 0\\\\0 & 1 & 0 & 0 & 0 & -1\\\\0 & 0 & 1 & 1 & 0 & 0\\\\0 & 0 & 0 & 0 & 1 & 0\\\\0 & 0 & 0 & 0 & 0 & 0\\end{matrix}\\right], \\  \\left( 0, \\  1, \\  2, \\  4\\right)\\right)$"
      ],
      "text/plain": [
       "⎛⎡1  0  0  1  0  0 ⎤              ⎞\n",
       "⎜⎢                 ⎥              ⎟\n",
       "⎜⎢0  1  0  0  0  -1⎥              ⎟\n",
       "⎜⎢                 ⎥              ⎟\n",
       "⎜⎢0  0  1  1  0  0 ⎥, (0, 1, 2, 4)⎟\n",
       "⎜⎢                 ⎥              ⎟\n",
       "⎜⎢0  0  0  0  1  0 ⎥              ⎟\n",
       "⎜⎢                 ⎥              ⎟\n",
       "⎝⎣0  0  0  0  0  0 ⎦              ⎠"
      ]
     },
     "execution_count": 20,
     "metadata": {},
     "output_type": "execute_result"
    }
   ],
   "source": [
    "v1 = L2_1[0]\n",
    "B2 = N2.col_insert(5, v1)\n",
    "B2.rref()"
   ]
  },
  {
   "cell_type": "code",
   "execution_count": 22,
   "metadata": {},
   "outputs": [
    {
     "data": {
      "image/png": "[encoded data removed]",
      "text/latex": [
       "$\\displaystyle \\left[ \\left[\\begin{matrix}\\frac{1}{2}\\\\-1\\\\1\\\\1\\\\0\\end{matrix}\\right], \\  \\left[\\begin{matrix}- \\frac{1}{2}\\\\1\\\\0\\\\0\\\\1\\end{matrix}\\right]\\right]$"
      ],
      "text/plain": [
       "⎡⎡1/2⎤  ⎡-1/2⎤⎤\n",
       "⎢⎢   ⎥  ⎢    ⎥⎥\n",
       "⎢⎢-1 ⎥  ⎢ 1  ⎥⎥\n",
       "⎢⎢   ⎥  ⎢    ⎥⎥\n",
       "⎢⎢ 1 ⎥, ⎢ 0  ⎥⎥\n",
       "⎢⎢   ⎥  ⎢    ⎥⎥\n",
       "⎢⎢ 1 ⎥  ⎢ 0  ⎥⎥\n",
       "⎢⎢   ⎥  ⎢    ⎥⎥\n",
       "⎣⎣ 0 ⎦  ⎣ 1  ⎦⎦"
      ]
     },
     "execution_count": 22,
     "metadata": {},
     "output_type": "execute_result"
    }
   ],
   "source": [
    "N3 = A-3*eye(5)\n",
    "L3_1 = N3.nullspace()\n",
    "L3_1"
   ]
  },
  {
   "cell_type": "code",
   "execution_count": 23,
   "metadata": {},
   "outputs": [
    {
     "data": {
      "image/png": "[encoded data removed]",
      "text/latex": [
       "$\\displaystyle \\left( \\left[\\begin{matrix}1 & 0 & 0 & - \\frac{1}{2} & \\frac{1}{2} & 0\\\\0 & 1 & 0 & 1 & -1 & 0\\\\0 & 0 & 1 & -1 & 0 & 0\\\\0 & 0 & 0 & 0 & 0 & 1\\\\0 & 0 & 0 & 0 & 0 & 0\\end{matrix}\\right], \\  \\left( 0, \\  1, \\  2, \\  5\\right)\\right)$"
      ],
      "text/plain": [
       "⎛⎡1  0  0  -1/2  1/2  0⎤              ⎞\n",
       "⎜⎢                     ⎥              ⎟\n",
       "⎜⎢0  1  0   1    -1   0⎥              ⎟\n",
       "⎜⎢                     ⎥              ⎟\n",
       "⎜⎢0  0  1   -1    0   0⎥, (0, 1, 2, 5)⎟\n",
       "⎜⎢                     ⎥              ⎟\n",
       "⎜⎢0  0  0   0     0   1⎥              ⎟\n",
       "⎜⎢                     ⎥              ⎟\n",
       "⎝⎣0  0  0   0     0   0⎦              ⎠"
      ]
     },
     "execution_count": 23,
     "metadata": {},
     "output_type": "execute_result"
    }
   ],
   "source": [
    "B3 = N3.col_insert(5,2*L3_1[0])\n",
    "B3.rref()"
   ]
  },
  {
   "cell_type": "code",
   "execution_count": 24,
   "metadata": {},
   "outputs": [
    {
     "data": {
      "image/png": "[encoded data removed]",
      "text/latex": [
       "$\\displaystyle \\left( \\left[\\begin{matrix}1 & 0 & 0 & - \\frac{1}{2} & \\frac{1}{2} & 0\\\\0 & 1 & 0 & 1 & -1 & 0\\\\0 & 0 & 1 & -1 & 0 & 0\\\\0 & 0 & 0 & 0 & 0 & 1\\\\0 & 0 & 0 & 0 & 0 & 0\\end{matrix}\\right], \\  \\left( 0, \\  1, \\  2, \\  5\\right)\\right)$"
      ],
      "text/plain": [
       "⎛⎡1  0  0  -1/2  1/2  0⎤              ⎞\n",
       "⎜⎢                     ⎥              ⎟\n",
       "⎜⎢0  1  0   1    -1   0⎥              ⎟\n",
       "⎜⎢                     ⎥              ⎟\n",
       "⎜⎢0  0  1   -1    0   0⎥, (0, 1, 2, 5)⎟\n",
       "⎜⎢                     ⎥              ⎟\n",
       "⎜⎢0  0  0   0     0   1⎥              ⎟\n",
       "⎜⎢                     ⎥              ⎟\n",
       "⎝⎣0  0  0   0     0   0⎦              ⎠"
      ]
     },
     "execution_count": 24,
     "metadata": {},
     "output_type": "execute_result"
    }
   ],
   "source": [
    "B3 = N3.col_insert(5,2*L3_1[1])\n",
    "B3.rref()"
   ]
  },
  {
   "cell_type": "code",
   "execution_count": 25,
   "metadata": {},
   "outputs": [
    {
     "data": {
      "image/png": "[encoded data removed]",
      "text/latex": [
       "$\\displaystyle \\left( \\left[\\begin{matrix}1 & 0 & 0 & - \\frac{1}{2} & \\frac{1}{2} & 0\\\\0 & 1 & 0 & 1 & -1 & 0\\\\0 & 0 & 1 & -1 & 0 & 0\\\\0 & 0 & 0 & 0 & 0 & 1\\\\0 & 0 & 0 & 0 & 0 & 0\\end{matrix}\\right], \\  \\left( 0, \\  1, \\  2, \\  5\\right)\\right)$"
      ],
      "text/plain": [
       "⎛⎡1  0  0  -1/2  1/2  0⎤              ⎞\n",
       "⎜⎢                     ⎥              ⎟\n",
       "⎜⎢0  1  0   1    -1   0⎥              ⎟\n",
       "⎜⎢                     ⎥              ⎟\n",
       "⎜⎢0  0  1   -1    0   0⎥, (0, 1, 2, 5)⎟\n",
       "⎜⎢                     ⎥              ⎟\n",
       "⎜⎢0  0  0   0     0   1⎥              ⎟\n",
       "⎜⎢                     ⎥              ⎟\n",
       "⎝⎣0  0  0   0     0   0⎦              ⎠"
      ]
     },
     "execution_count": 25,
     "metadata": {},
     "output_type": "execute_result"
    }
   ],
   "source": [
    "a = Symbol('a')\n",
    "b = Symbol('b')\n",
    "C3 = N3.col_insert(5,a*L3_1[0]+b*L3_1[1])\n",
    "C3.rref(simplify=True)"
   ]
  },
  {
   "cell_type": "code",
   "execution_count": 27,
   "metadata": {},
   "outputs": [
    {
     "data": {
      "image/png": "[encoded data removed]",
      "text/latex": [
       "$\\displaystyle \\left( \\left[\\begin{matrix}1 & 0 & 0 & - \\frac{1}{2} & \\frac{1}{2} & \\frac{1}{2}\\\\0 & 1 & 0 & 1 & -1 & 1\\\\0 & 0 & 1 & -1 & 0 & 1\\\\0 & 0 & 0 & 0 & 0 & 0\\\\0 & 0 & 0 & 0 & 0 & 0\\end{matrix}\\right], \\  \\left( 0, \\  1, \\  2\\right)\\right)$"
      ],
      "text/plain": [
       "⎛⎡1  0  0  -1/2  1/2  1/2⎤           ⎞\n",
       "⎜⎢                       ⎥           ⎟\n",
       "⎜⎢0  1  0   1    -1    1 ⎥           ⎟\n",
       "⎜⎢                       ⎥           ⎟\n",
       "⎜⎢0  0  1   -1    0    1 ⎥, (0, 1, 2)⎟\n",
       "⎜⎢                       ⎥           ⎟\n",
       "⎜⎢0  0  0   0     0    0 ⎥           ⎟\n",
       "⎜⎢                       ⎥           ⎟\n",
       "⎝⎣0  0  0   0     0    0 ⎦           ⎠"
      ]
     },
     "execution_count": 27,
     "metadata": {},
     "output_type": "execute_result"
    }
   ],
   "source": [
    "D3 = N3.col_insert(5,L3_1[0]+L3_1[1])\n",
    "D3.rref(simplify=True)"
   ]
  },
  {
   "cell_type": "code",
   "execution_count": 28,
   "metadata": {},
   "outputs": [
    {
     "ename": "ShapeError",
     "evalue": "Matrix size mismatch: (5, 5) + (5, 1)",
     "output_type": "error",
     "traceback": [
      "\u001b[0;31m--------------------------------------\u001b[0m",
      "\u001b[0;31mShapeError\u001b[0mTraceback (most recent call last)",
      "\u001b[0;32m<ipython-input-28-75e5953d1bfc>\u001b[0m in \u001b[0;36m<module>\u001b[0;34m\u001b[0m\n\u001b[1;32m      1\u001b[0m \u001b[0mZ3\u001b[0m \u001b[0;34m=\u001b[0m \u001b[0mMatrix\u001b[0m\u001b[0;34m(\u001b[0m\u001b[0;34m[\u001b[0m\u001b[0;36m1\u001b[0m\u001b[0;34m,\u001b[0m\u001b[0;36m2\u001b[0m\u001b[0;34m,\u001b[0m\u001b[0;36m2\u001b[0m\u001b[0;34m,\u001b[0m\u001b[0;36m0\u001b[0m\u001b[0;34m,\u001b[0m\u001b[0;36m0\u001b[0m\u001b[0;34m]\u001b[0m\u001b[0;34m)\u001b[0m\u001b[0;34m\u001b[0m\u001b[0;34m\u001b[0m\u001b[0m\n\u001b[0;32m----> 2\u001b[0;31m \u001b[0mA\u001b[0m\u001b[0;34m-\u001b[0m\u001b[0;36m3\u001b[0m\u001b[0;34m*\u001b[0m\u001b[0mZ3\u001b[0m\u001b[0;34m-\u001b[0m\u001b[0;36m2\u001b[0m\u001b[0;34m*\u001b[0m\u001b[0;34m(\u001b[0m\u001b[0mL3_1\u001b[0m\u001b[0;34m[\u001b[0m\u001b[0;36m0\u001b[0m\u001b[0;34m]\u001b[0m\u001b[0;34m+\u001b[0m\u001b[0mL3_1\u001b[0m\u001b[0;34m[\u001b[0m\u001b[0;36m1\u001b[0m\u001b[0;34m]\u001b[0m\u001b[0;34m)\u001b[0m\u001b[0;34m\u001b[0m\u001b[0;34m\u001b[0m\u001b[0m\n\u001b[0m",
      "\u001b[0;32m~/.local/lib/python3.9/site-packages/sympy/core/decorators.py\u001b[0m in \u001b[0;36mbinary_op_wrapper\u001b[0;34m(self, other)\u001b[0m\n\u001b[1;32m    135\u001b[0m                     \u001b[0;32mif\u001b[0m \u001b[0mf\u001b[0m \u001b[0;32mis\u001b[0m \u001b[0;32mnot\u001b[0m \u001b[0;32mNone\u001b[0m\u001b[0;34m:\u001b[0m\u001b[0;34m\u001b[0m\u001b[0;34m\u001b[0m\u001b[0m\n\u001b[1;32m    136\u001b[0m                         \u001b[0;32mreturn\u001b[0m \u001b[0mf\u001b[0m\u001b[0;34m(\u001b[0m\u001b[0mself\u001b[0m\u001b[0;34m)\u001b[0m\u001b[0;34m\u001b[0m\u001b[0;34m\u001b[0m\u001b[0m\n\u001b[0;32m--> 137\u001b[0;31m             \u001b[0;32mreturn\u001b[0m \u001b[0mfunc\u001b[0m\u001b[0;34m(\u001b[0m\u001b[0mself\u001b[0m\u001b[0;34m,\u001b[0m \u001b[0mother\u001b[0m\u001b[0;34m)\u001b[0m\u001b[0;34m\u001b[0m\u001b[0;34m\u001b[0m\u001b[0m\n\u001b[0m\u001b[1;32m    138\u001b[0m         \u001b[0;32mreturn\u001b[0m \u001b[0mbinary_op_wrapper\u001b[0m\u001b[0;34m\u001b[0m\u001b[0;34m\u001b[0m\u001b[0m\n\u001b[1;32m    139\u001b[0m     \u001b[0;32mreturn\u001b[0m \u001b[0mpriority_decorator\u001b[0m\u001b[0;34m\u001b[0m\u001b[0;34m\u001b[0m\u001b[0m\n",
      "\u001b[0;32m~/.local/lib/python3.9/site-packages/sympy/matrices/common.py\u001b[0m in \u001b[0;36m__sub__\u001b[0;34m(self, a)\u001b[0m\n\u001b[1;32m   2840\u001b[0m     \u001b[0;34m@\u001b[0m\u001b[0mcall_highest_priority\u001b[0m\u001b[0;34m(\u001b[0m\u001b[0;34m'__rsub__'\u001b[0m\u001b[0;34m)\u001b[0m\u001b[0;34m\u001b[0m\u001b[0;34m\u001b[0m\u001b[0m\n\u001b[1;32m   2841\u001b[0m     \u001b[0;32mdef\u001b[0m \u001b[0m__sub__\u001b[0m\u001b[0;34m(\u001b[0m\u001b[0mself\u001b[0m\u001b[0;34m,\u001b[0m \u001b[0ma\u001b[0m\u001b[0;34m)\u001b[0m\u001b[0;34m:\u001b[0m\u001b[0;34m\u001b[0m\u001b[0;34m\u001b[0m\u001b[0m\n\u001b[0;32m-> 2842\u001b[0;31m         \u001b[0;32mreturn\u001b[0m \u001b[0mself\u001b[0m \u001b[0;34m+\u001b[0m \u001b[0;34m(\u001b[0m\u001b[0;34m-\u001b[0m\u001b[0ma\u001b[0m\u001b[0;34m)\u001b[0m\u001b[0;34m\u001b[0m\u001b[0;34m\u001b[0m\u001b[0m\n\u001b[0m\u001b[1;32m   2843\u001b[0m \u001b[0;34m\u001b[0m\u001b[0m\n\u001b[1;32m   2844\u001b[0m \u001b[0;34m\u001b[0m\u001b[0m\n",
      "\u001b[0;32m~/.local/lib/python3.9/site-packages/sympy/core/decorators.py\u001b[0m in \u001b[0;36mbinary_op_wrapper\u001b[0;34m(self, other)\u001b[0m\n\u001b[1;32m    135\u001b[0m                     \u001b[0;32mif\u001b[0m \u001b[0mf\u001b[0m \u001b[0;32mis\u001b[0m \u001b[0;32mnot\u001b[0m \u001b[0;32mNone\u001b[0m\u001b[0;34m:\u001b[0m\u001b[0;34m\u001b[0m\u001b[0;34m\u001b[0m\u001b[0m\n\u001b[1;32m    136\u001b[0m                         \u001b[0;32mreturn\u001b[0m \u001b[0mf\u001b[0m\u001b[0;34m(\u001b[0m\u001b[0mself\u001b[0m\u001b[0;34m)\u001b[0m\u001b[0;34m\u001b[0m\u001b[0;34m\u001b[0m\u001b[0m\n\u001b[0;32m--> 137\u001b[0;31m             \u001b[0;32mreturn\u001b[0m \u001b[0mfunc\u001b[0m\u001b[0;34m(\u001b[0m\u001b[0mself\u001b[0m\u001b[0;34m,\u001b[0m \u001b[0mother\u001b[0m\u001b[0;34m)\u001b[0m\u001b[0;34m\u001b[0m\u001b[0;34m\u001b[0m\u001b[0m\n\u001b[0m\u001b[1;32m    138\u001b[0m         \u001b[0;32mreturn\u001b[0m \u001b[0mbinary_op_wrapper\u001b[0m\u001b[0;34m\u001b[0m\u001b[0;34m\u001b[0m\u001b[0m\n\u001b[1;32m    139\u001b[0m     \u001b[0;32mreturn\u001b[0m \u001b[0mpriority_decorator\u001b[0m\u001b[0;34m\u001b[0m\u001b[0;34m\u001b[0m\u001b[0m\n",
      "\u001b[0;32m~/.local/lib/python3.9/site-packages/sympy/matrices/common.py\u001b[0m in \u001b[0;36m__add__\u001b[0;34m(self, other)\u001b[0m\n\u001b[1;32m   2545\u001b[0m         \u001b[0;32mif\u001b[0m \u001b[0mhasattr\u001b[0m\u001b[0;34m(\u001b[0m\u001b[0mother\u001b[0m\u001b[0;34m,\u001b[0m \u001b[0;34m'shape'\u001b[0m\u001b[0;34m)\u001b[0m\u001b[0;34m:\u001b[0m\u001b[0;34m\u001b[0m\u001b[0;34m\u001b[0m\u001b[0m\n\u001b[1;32m   2546\u001b[0m             \u001b[0;32mif\u001b[0m \u001b[0mself\u001b[0m\u001b[0;34m.\u001b[0m\u001b[0mshape\u001b[0m \u001b[0;34m!=\u001b[0m \u001b[0mother\u001b[0m\u001b[0;34m.\u001b[0m\u001b[0mshape\u001b[0m\u001b[0;34m:\u001b[0m\u001b[0;34m\u001b[0m\u001b[0;34m\u001b[0m\u001b[0m\n\u001b[0;32m-> 2547\u001b[0;31m                 raise ShapeError(\"Matrix size mismatch: %s + %s\" % (\n\u001b[0m\u001b[1;32m   2548\u001b[0m                     self.shape, other.shape))\n\u001b[1;32m   2549\u001b[0m \u001b[0;34m\u001b[0m\u001b[0m\n",
      "\u001b[0;31mShapeError\u001b[0m: Matrix size mismatch: (5, 5) + (5, 1)"
     ]
    }
   ],
   "source": [
    "Z3 = Matrix([1,2,2,0,0])\n",
    "A-3*Z3-2*(L3_1[0]+L3_1[1])"
   ]
  },
  {
   "cell_type": "markdown",
   "metadata": {},
   "source": [
    "# Valores propios, vectores propios y subespacios propios"
   ]
  },
  {
   "cell_type": "markdown",
   "metadata": {},
   "source": [
    "En esta ocasión, vamos a hablar de valores propios y vectores propios: estos son valores y vectores característicos asociados a un operador lineal $T:V\\to V$ que permiten estudiar a $T$ en una forma particularmente conveniente. Nuestro objetivo final es describir métodos para encontrar una base para $V$ tal que la matriz asociada $T$ tenga una forma especialmente simple."
   ]
  },
  {
   "cell_type": "markdown",
   "metadata": {},
   "source": [
    "Primero vamos a describir el **proceso de diagonalización**, procedimiento que se hace para encontrar una base tal que la matriz asociada $T$ es una matriz diagonal, y caracteriza a los operadores lineales que son diagonalizables."
   ]
  },
  {
   "cell_type": "markdown",
   "metadata": {},
   "source": [
    "Desafortunadamente, no todos los operadores lineales son diagonalizables, así que tambien vamos a discutir un metodo para calcular la forma canónica de una matriz, el cual es la representación más cercana posible a una matriz diagonal. Finalmente estudiaremos unas aplicaciones de la forma canónica de Jordan, incluyendo del teorema de Cayley-Hamilton que es para cualquier matriz que satisface su polinómio característico."
   ]
  },
  {
   "cell_type": "markdown",
   "metadata": {},
   "source": [
    "## Valores propios, vectores propios y el polinómio característico"
   ]
  },
  {
   "cell_type": "markdown",
   "metadata": {},
   "source": [
    "Suponga que se tiene una transformación lineal $T:V\\to V$ de un espacio vectorial finito dimensional en si mismo. Vamos a probar que existe una bases $\\beta$ de $V$ tal que la matriz asociada a $T$ es una matriz diagonal. La motivación para resolver esto, es que es deseable describir a $T$ es la forma más simple posible, ¿Y hay otra forma más simple que una matriz diagonal?"
   ]
  },
  {
   "cell_type": "markdown",
   "metadata": {},
   "source": [
    "Suponga que $\\beta = \\{v_1, \\dots, v_n\\}$  y que la matriz asociada a la $T$ es la matriz diagonal $[T]_{\\beta}^{\\beta} =\\operatorname*{diag\\,} (\\lambda_1, \\dots, \\lambda_n)$. Bajo este supuesto, se tiene que $[T]_{\\beta}^{\\beta}(v_i)=\\lambda_i v_i$ para cada $1\\leq i\\leq n$: la transformación lineal $T$ se comporta como la multiplicación de un escalar $\\lambda_i$ por un vector $v_i$. Inversamente, si se tiene una base $\\beta$ de $V$ tal que $[T]_{\\beta}^{\\beta}(v_i)=\\lambda_i v_i$ para algún escalar $\\lambda_i$, con $1\\leq i \\leq n$, entonces la matriz asociada $[T]_{\\beta}^{\\beta}$ es na matriz diagonal."
   ]
  },
  {
   "cell_type": "markdown",
   "metadata": {},
   "source": [
    "Esto sugiere que hay que estudiar los vectores $v$ tal que $T(v) = \\lambda v$ para algún escalar $\\lambda$."
   ]
  },
  {
   "cell_type": "markdown",
   "metadata": {},
   "source": [
    "**Definición.** *Si $T:V\\to V$ es una transformación lineal, un vector no nulo $v$ con $T(v)=\\lambda v$ es una **vector propio** de $T$, y le corresponde un escalar $\\lambda$ llamado **valor propio** de $T$*."
   ]
  },
  {
   "cell_type": "markdown",
   "metadata": {},
   "source": [
    "No se considera el vector cero como un vector propio. La razón de esta convención es para asegurar que si $v$ es un vector propio, entonces le corresponde un valor propio $\\lambda$ único. Tambien observe que implicitamente $\\lambda$ de ser un elemetnos del campo escalar de $V$, dado que en otro caso $\\lambda v$ no tendría sentido."
   ]
  },
  {
   "cell_type": "markdown",
   "metadata": {},
   "source": [
    "Cuando $V$ es un espacio de funciones, se usa a menudo las palabras **funciones propias** en lugar de **vectores propios**."
   ]
  },
  {
   "cell_type": "markdown",
   "metadata": {},
   "source": [
    "Veamos algunos ejemplos de transformaciones lineales y vectores propios"
   ]
  },
  {
   "cell_type": "markdown",
   "metadata": {},
   "source": [
    "**Ejemplo 1.** Si $T:\\mathbb{R}^2\\to \\mathbb{R}^2$ es una transformación con $T(x, y) = [2x+3y, x+4y]^\\top$, entonces $v=[3, -1]^\\top$ es una vector propio de $T$ con valor propio $\\lambda = 1$, por lo tanto $T(v) = [3, -1]^\\top = v$. En efecto:"
   ]
  },
  {
   "cell_type": "code",
   "execution_count": 1,
   "metadata": {},
   "outputs": [
    {
     "data": {
      "text/plain": [
       "True"
      ]
     },
     "execution_count": 1,
     "metadata": {},
     "output_type": "execute_result"
    }
   ],
   "source": [
    "def T(x, y):\n",
    "    return (2 * x + 3 * y, x  + 4 * y)\n",
    "\n",
    "T(3, -1) == (3, -1)"
   ]
  },
  {
   "cell_type": "markdown",
   "metadata": {},
   "source": [
    "**Ejemplo 2.** Si $T:M_{2\\times 2}(\\mathbb{R})\\to M_{2\\times 2}(\\mathbb{R})$ es la transformación transposición, entonces la matriz $\\big[\\begin{smallmatrix} 1 & 1 \\\\ 1 & 3 \\end{smallmatrix}\\big]$ es un vector propio de $T$ con valor propio $\\lambda = 1$, en efecto:"
   ]
  },
  {
   "cell_type": "code",
   "execution_count": 2,
   "metadata": {},
   "outputs": [
    {
     "data": {
      "text/plain": [
       "True"
      ]
     },
     "execution_count": 2,
     "metadata": {},
     "output_type": "execute_result"
    }
   ],
   "source": [
    "from sympy import Matrix\n",
    "\n",
    "def T(w):\n",
    "    return w.T\n",
    "\n",
    "A = Matrix([[1, 1], [1, 3]])\n",
    "T(A) == A"
   ]
  },
  {
   "cell_type": "markdown",
   "metadata": {},
   "source": [
    "**Ejemplo 3.** Si $T:P(\\mathbb{R})\\to P(\\mathbb{R}$ es la transformación dada por $T(f(x))=xf'(x)$, entonces para cualquier entero $n\\leq 0$, el polinomio $p(x) = x^n$ es una función propia de $T$ con valor propio $n$, dado que $T(x^{n})=nx^{n}$. Esto lo vemos en Python así:"
   ]
  },
  {
   "cell_type": "code",
   "execution_count": 3,
   "metadata": {},
   "outputs": [],
   "source": [
    "from sympy import symbols, diff"
   ]
  },
  {
   "cell_type": "code",
   "execution_count": 4,
   "metadata": {},
   "outputs": [],
   "source": [
    "x = symbols('x')\n",
    "n = symbols('n')"
   ]
  },
  {
   "cell_type": "code",
   "execution_count": 5,
   "metadata": {},
   "outputs": [],
   "source": [
    "def f(x):\n",
    "    return x**n"
   ]
  },
  {
   "cell_type": "code",
   "execution_count": 6,
   "metadata": {},
   "outputs": [
    {
     "data": {
      "text/plain": [
       "True"
      ]
     },
     "execution_count": 6,
     "metadata": {},
     "output_type": "execute_result"
    }
   ],
   "source": [
    "def T(f):\n",
    "    return x * diff(f, x)\n",
    "T(f(x)) == n * f(x)"
   ]
  },
  {
   "cell_type": "markdown",
   "metadata": {},
   "source": [
    "\n",
    "**Ejemplo 4.** *Si $V$ es un espacio infinito diferenciable de funciones y $D:V\\to V$ es el operador diferenciación, la función $f(x) = e^{rx}$ es una función propia con valor propio $r$, para cualquier número real $r$, dado que $D(e^{rx})=re^{rx}$.*"
   ]
  },
  {
   "cell_type": "code",
   "execution_count": 7,
   "metadata": {},
   "outputs": [],
   "source": [
    "from sympy import symbols, exp, diff"
   ]
  },
  {
   "cell_type": "code",
   "execution_count": 8,
   "metadata": {},
   "outputs": [],
   "source": [
    "x = symbols('x')\n",
    "r = symbols('r')"
   ]
  },
  {
   "cell_type": "code",
   "execution_count": 9,
   "metadata": {},
   "outputs": [],
   "source": [
    "def f(x):\n",
    "    return exp(r*x)"
   ]
  },
  {
   "cell_type": "code",
   "execution_count": 10,
   "metadata": {},
   "outputs": [],
   "source": [
    "def D(f):\n",
    "    return diff(f, x)"
   ]
  },
  {
   "cell_type": "code",
   "execution_count": 11,
   "metadata": {},
   "outputs": [
    {
     "data": {
      "text/plain": [
       "True"
      ]
     },
     "execution_count": 11,
     "metadata": {},
     "output_type": "execute_result"
    }
   ],
   "source": [
    "D(f(x)) == r * f(x)"
   ]
  },
  {
   "cell_type": "markdown",
   "metadata": {},
   "source": [
    "**Ejemplo 5.** *Si $T:V\\to V$ es cualquier transformación lineal y $v$ es un vector no nulo en $\\ker (T)$, entonces $v$ es un vector propio de $V$ con valor propio $0$. En efecto, los vectores propios $0$ son precisamente los vectores no nulos en $\\ker (T)$.*"
   ]
  },
  {
   "cell_type": "markdown",
   "metadata": {},
   "source": [
    "Encontrar los vectores propios es una generalización del cálculo del kernel de una transformación lineal, en efecto, se puede reducir el problema de encontrar los vectores propios a computar el kernel de una transformación lineal relacionada. "
   ]
  },
  {
   "cell_type": "markdown",
   "metadata": {},
   "source": [
    "**Criterio del valor propio.** *Si $T: V\\to V$ es una transformación lineal, el vector no nulo $v$ es un vector propio de $T$ con valor propio $\\lambda$ si y sólo si $v$ está en $\\ker(\\lambda \\operatorname{id}  - T) = \\ker(T-\\lambda \\operatorname{id})$, donde $\\operatorname{id}$ es la transformación identidad sobre $V$.*\n",
    "\n"
   ]
  },
  {
   "cell_type": "markdown",
   "metadata": {},
   "source": [
    "Este criterio reduce el calculo de los vectores propios a computar el kernel de una colección de transformaciones lineales."
   ]
  },
  {
   "cell_type": "markdown",
   "metadata": {},
   "source": [
    "*Demostración: Asuma que $v\\neq 0$. Entonces $v$ es un vector propio de $T$ con valor propio $\\lambda$ si, y solo si $T(v)=\\lambda v$ si, y solo si $(\\lambda\\operatorname{id})v - T(v) =0$ si, y solo si $(\\lambda \\operatorname{id} - T)(v) = 0$ si, y solo si $v$ pertenece al kernel de $\\lambda \\operatorname{id}-T$. La equivalencia $\\ker (\\lambda \\operatorname{id} - T) = \\ker(T-\\lambda \\operatorname{id})$ es también inmediata.*"
   ]
  },
  {
   "cell_type": "markdown",
   "metadata": {},
   "source": [
    "Es importante resaltar que hay algunos operadores lineales que no tienen vectores propios."
   ]
  },
  {
   "cell_type": "markdown",
   "metadata": {},
   "source": [
    "**Ejemplo 6.** *Si $I:\\mathbb{R}[x]\\to \\mathbb{R}[x]$ es el operador integración, $I(p)=\\int_{0}^{x}p(t)dt$, no tiene vectores propios. En efecto, si se supone que $I(p)=\\lambda p$, esto es $\\int_{0}^{x}p(x)dt = \\lambda p(x)$. Entonces derivando a ambos lados con respecto a $x$ y aplicando el teorema fundamental del calculo se deduce que $p(x) = \\lambda p'(x)$. Si $p$ tiene un grado positivo $n$, entonces $\\lambda p'(x)$ debería tener un grado a lo sumo de $n-1$, que no es igual a $p(x)$. Por lo tanto, $p$ debe ser el polinomio constante. Pero el único polinomio constante con $I(p) = \\lambda p$ es el polinomio cero, el cual por definición no es un vector propio. Por lo tanto, $I$ no tiene vectores propios.* "
   ]
  },
  {
   "cell_type": "markdown",
   "metadata": {},
   "source": [
    "En otros casos, la existencia de los vectores propios dependen del campo campo escalar que se está usando."
   ]
  },
  {
   "cell_type": "markdown",
   "metadata": {},
   "source": [
    "**Ejemplo 7.** *Si se considera $T:F^2 \\to F^2$ definido por $T(x, y) = \\langle y, -x\\rangle$, no tiene valores propios cuando $F=\\mathbb{R}$, pero si tiene vectores propios cuando $F=\\mathbb{C}$. En efecto si $T(x, y) = \\lambda \\langle x , y\\rangle$, se tiene que $y=\\lambda x$ y $-x = \\lambda x$, así que $(\\lambda^{2} + 1)y=0$. Si $y$ fuera cero, entonces $x=-\\lambda y$ sería tambien cero, imposible. Por lo tanto $y\\neq 0$ y así $\\lambda^{2}+1=0$. Cuando $F=\\mathbb{R}$ no existe tal escalar $\\lambda$, y por lo tanto en este caso no hay vectores propios. Sin embargo, cuando $F=\\mathbb{C}$, se tiene que $\\lambda =\\pm i$, y entonces los vectores propios son $[x, -ix]^{\\top}$ con valor propio $i$ y $[x, ix]^{\\top}$ con valor propio $-i$.*"
   ]
  },
  {
   "cell_type": "markdown",
   "metadata": {},
   "source": [
    "Calcular los vectores propios en general de transformaciones lineales sobre espacio infinito dimensionales pueder ser muy complicado."
   ]
  },
  {
   "cell_type": "markdown",
   "metadata": {},
   "source": [
    "Por ejemplo, si $V$ es un espacio infinito diferenciable de funciones, entonces calcular los vectores propios de la transformación $T:V\\to V$ con $T(f)=f''+xf'$ requiere resolver la ecuación $f''+x f'=\\lambda f$ para un $\\lambda$ arbitrario. Es bastante díficil resolver esa ecuación diferencial particular para una $\\lambda$ en general, al menos sin recurrir a utilizar una expaansión en serie infinita para describir las soluciones, además las soluciones para la mayoría de los valores de $\\lambda$ son funciones no elementales. "
   ]
  },
  {
   "cell_type": "markdown",
   "metadata": {},
   "source": [
    "En el caso finito dimensional, el problema se puede resolver usando matrices"
   ]
  },
  {
   "cell_type": "markdown",
   "metadata": {},
   "source": [
    "**Valores propios y matrices.** *Suponga que $V$ es un espacio vectorial finito dimensional con una base ordenada $\\beta$ y tal que $T:V\\to V$ es una transformación lineal. Entonces $v$ es un vector propio de $T$ con valor propio $\\lambda$ si y sólo si $[v]_{\\beta}$ es un vector propio de la multiplicación a la izquierda por $[T]_{\\beta}^{\\beta}$ con valor propio $\\lambda$.*"
   ]
  },
  {
   "cell_type": "markdown",
   "metadata": {},
   "source": [
    "*Demostración: Observe que $v\\neq 0$ si y sólo si $[v]_{\\beta}\\neq 0$. Entonces cuando $v$ es un vector de propio de $T$ entonces $T(v)=\\lambda v$, es decir, $[T(v)]_{\\beta} = [\\lambda v]_{\\beta}$ esto es $[T]_{\\beta}^{\\beta}[v]_{\\beta}$ si y solo si $[v]_{\\beta}$ es un vector propio de la multiplicación a la izquirda por $[T]_{\\beta}^{\\beta}$.*"
   ]
  },
  {
   "cell_type": "markdown",
   "metadata": {},
   "source": [
    "## Valores y vectores propios de una matriz"
   ]
  },
  {
   "cell_type": "markdown",
   "metadata": {},
   "source": [
    "Ahora vamos a estudiar los valores y vectores propios de una matriz. Por conveniencia, vamos a establece esta definicion:"
   ]
  },
  {
   "cell_type": "markdown",
   "metadata": {},
   "source": [
    "**Definición.** *Para $A$ una matriz $n\\times n$, un vector no nulo $x$ con $Ax = \\lambda x$ es un **vector propio** de $A$, y le corresponde un escalar $\\lambda$ llamado **valor propio** de $A$."
   ]
  },
  {
   "cell_type": "markdown",
   "metadata": {},
   "source": [
    "**Ejemplo 8.** Si $\\big[\\begin{smallmatrix} 2 & 3 \\\\ 1 & 4 \\end{smallmatrix}\\big]$, el vector $x = [3, -1]^{\\top}$ es un vector propio de $A$ con valor propio $1$. En efecto:"
   ]
  },
  {
   "cell_type": "code",
   "execution_count": 13,
   "metadata": {},
   "outputs": [],
   "source": [
    "from sympy import Matrix"
   ]
  },
  {
   "cell_type": "code",
   "execution_count": 14,
   "metadata": {},
   "outputs": [],
   "source": [
    "A = Matrix([[2, 3], [1, 4]])"
   ]
  },
  {
   "cell_type": "markdown",
   "metadata": {},
   "source": [
    "En`sympy`es fácil definir vectores columna, estos se definen mediante una lista de elementos:"
   ]
  },
  {
   "cell_type": "code",
   "execution_count": 17,
   "metadata": {},
   "outputs": [],
   "source": [
    "x = Matrix([3, -1])"
   ]
  },
  {
   "cell_type": "code",
   "execution_count": 18,
   "metadata": {},
   "outputs": [
    {
     "data": {
      "text/plain": [
       "True"
      ]
     },
     "execution_count": 18,
     "metadata": {},
     "output_type": "execute_result"
    }
   ],
   "source": [
    "A*x == x"
   ]
  },
  {
   "cell_type": "markdown",
   "metadata": {},
   "source": [
    "**Ejemplo 9**. Si $A = \\begin{bmatrix}2 & -4 & 5\\\\ 2 & -2 & 5 \\\\ 2 & 1 & 2\\end{bmatrix}$, el vector $x = [1, 2, 2]^{\\top}$ es un vector propio de $A$ con valor propio $4$. En efecto:"
   ]
  },
  {
   "cell_type": "code",
   "execution_count": 23,
   "metadata": {},
   "outputs": [],
   "source": [
    "from sympy import Matrix"
   ]
  },
  {
   "cell_type": "code",
   "execution_count": 24,
   "metadata": {},
   "outputs": [],
   "source": [
    "A = Matrix([[2, -4, 5], [2, -2, 5], [2, 1, 2]])"
   ]
  },
  {
   "cell_type": "code",
   "execution_count": 25,
   "metadata": {},
   "outputs": [],
   "source": [
    "x = Matrix([1, 2, 2])"
   ]
  },
  {
   "cell_type": "code",
   "execution_count": 27,
   "metadata": {},
   "outputs": [
    {
     "data": {
      "text/plain": [
       "True"
      ]
     },
     "execution_count": 27,
     "metadata": {},
     "output_type": "execute_result"
    }
   ],
   "source": [
    "A*x == 4*x"
   ]
  },
  {
   "cell_type": "markdown",
   "metadata": {},
   "source": [
    "**Ejemplo 10.** Los valores y vectores propios tambien pueden involucrar número complejos, incluso si la matriz $A$ tiene solo entradas de número reales. "
   ]
  },
  {
   "cell_type": "code",
   "execution_count": null,
   "metadata": {},
   "outputs": [],
   "source": []
  }
 ],
 "metadata": {
  "kernelspec": {
   "display_name": "Python 3",
   "language": "python",
   "name": "python3"
  },
  "language_info": {
   "codemirror_mode": {
    "name": "ipython",
    "version": 3
   },
   "file_extension": ".py",
   "mimetype": "text/x-python",
   "name": "python",
   "nbconvert_exporter": "python",
   "pygments_lexer": "ipython3",
   "version": "3.9.4"
  }
 },
 "nbformat": 4,
 "nbformat_minor": 4
}
