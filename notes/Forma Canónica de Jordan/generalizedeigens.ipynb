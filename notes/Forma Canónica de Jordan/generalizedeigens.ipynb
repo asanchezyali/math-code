{
 "cells": [
  {
   "cell_type": "markdown",
   "id": "8bf41aab-e3e1-495b-b68f-06cb2882fa03",
   "metadata": {},
   "source": [
    "# Vectores propios generalizados y la forma canónica de Jordan"
   ]
  },
  {
   "cell_type": "markdown",
   "id": "e821eb26-ecb5-4008-9399-55b581b15bb1",
   "metadata": {},
   "source": [
    "Como se vió en el post anterios [Valores propios y vectores propios](), existen matrices que no se puede factorizar mediante alguna matriz diagonal. Para propositos computacionales, sin embargo, aún es posible encontrar una forma simple para una matriz no diagonalizable. La respuesta es dada por la **forma canónica de Jordan**."
   ]
  },
  {
   "cell_type": "markdown",
   "id": "462c62ad-e728-462b-a977-c73c737ada1a",
   "metadata": {},
   "source": [
    "*Definición.* *La matriz $n\\times n$ es un **bloque de Jordan** con valor propio $\\lambda$ es una matriz $J$ de orden $n\\times n$ que tiene una diagonal de valores de $\\lambda$, y en la primera diagonal superior tiene unos, y en todas las demás cero.* "
   ]
  },
  {
   "cell_type": "markdown",
   "id": "43510e33-82ea-4d40-bb49-d1f67b1fd84a",
   "metadata": {},
   "source": [
    "Estos son ejemplos de bloques de Jordan de tamaño $2$, $3$ y $4$:"
   ]
  },
  {
   "cell_type": "markdown",
   "id": "25b3ddaf-a522-4e4c-bb57-e4e47000c9ab",
   "metadata": {},
   "source": [
    "\\begin{equation}\n",
    "J_{2}(\\lambda) = \\begin{bmatrix} \\lambda & 1 \\\\ 0 & \\lambda \\end{bmatrix}, J_{3}(\\lambda) = \\begin{bmatrix} \\lambda & 1 & 0 \\\\ 0 & \\lambda & 0 \\\\ 0 & \\lambda & 1 \\\\ 0 & 0 & \\lambda \\end{bmatrix}, J_{4}(\\lambda) = \\begin{bmatrix}\\lambda & 1 & 0 & 0 \\\\ 0 & \\lambda & 1 & 0 \\\\ 0 & 0 & \\lambda & 1 \\\\ 0 & 0 & 0 & \\lambda \\end{bmatrix}\n",
    "\\end{equation}"
   ]
  },
  {
   "cell_type": "markdown",
   "id": "7458e3fc-5ec7-4c2f-8a4b-7ebb32f600c4",
   "metadata": {},
   "source": [
    "*Definición.* *Una matriz es una forma canónica de Jordan si es una matriz diagonal por bloques de la forma:*"
   ]
  },
  {
   "cell_type": "markdown",
   "id": "d54a5b0b-6992-41fc-9ae8-0846818044d8",
   "metadata": {},
   "source": [
    "\\begin{equation}\n",
    "J = \\begin{bmatrix} J_1 & & & \\\\ & J_2 & & \\\\ & & \\ddots & \\\\ & & & J_k \\end{bmatrix},\n",
    "\\end{equation}"
   ]
  },
  {
   "cell_type": "markdown",
   "id": "996ebe44-3153-4c4e-bd08-2e3782d5d40b",
   "metadata": {},
   "source": [
    "*where each $J_1, \\dots , J_{k}$ es un bloque de Jordan, posiblemenete con diferentes valores propios y diferentes tamaños.*"
   ]
  },
  {
   "cell_type": "markdown",
   "id": "592dffb9-1ef3-47cd-9829-02a868c6f791",
   "metadata": {},
   "source": [
    "**Ejemplo 1**. La matriz $\\begin{bmatrix} 2 & 0 & 0 \\\\ 0 & 3 & 0 \\\\ 0 &  0 & 4 \\end{bmatrix}$  es una forma canónica de Jordan con $J_1 = [2], J_2 = [3], J_3 = [4]$. "
   ]
  },
  {
   "cell_type": "markdown",
   "id": "e97bbfaf-cf27-4154-be6e-5ac391b88379",
   "metadata": {},
   "source": [
    "**Ejemplo 2**. La matriz $\\begin{bmatrix} 2 & 1 & 0 \\\\ 0 & 2 & 0 \\\\ 0 & 0 & 3 \\end{bmatrix}$  es una forma canónica de Jordan con $J_{1} = \\begin{bmatrix} 2 & 1 \\\\ 0 & 2 \\end{bmatrix}$ y $J_2=[3]$."
   ]
  },
  {
   "cell_type": "markdown",
   "id": "47594668-63b2-4af7-bd64-07e285f0012c",
   "metadata": {},
   "source": [
    "**Ejemplo 3.** La matriz $\\begin{bmatrix} 0 & 1 & 0 & 0 \\\\ 0 & 0 & 1 & 0 \\\\ 0 & 0 & 0 & 0 \\\\ 0 & 0 & 0 & 0 \\end{bmatrix}$ es una forma canónica de Jordan con $J_1 = \\begin{bmatrix} 0 & 1 & 0 \\\\ 0 & 0 & 1 \\\\ 0 & 0 & 0 \\end{bmatrix}$ y $J_2 = [0]$. "
   ]
  },
  {
   "cell_type": "markdown",
   "id": "b611da20-47e2-41bc-92cc-514aff73a63a",
   "metadata": {},
   "source": [
    "Nuestro objetivo es probar que cada matriz es similar a una forma canónica de Jordan y dar aun procedimiento para calcularla. "
   ]
  },
  {
   "cell_type": "markdown",
   "id": "99a3d49a-a307-4e12-ba5d-39ff1afd6a52",
   "metadata": {},
   "source": [
    "La forma canónica de Jordan sirve para calcular una diagonalización aproximada de una matrix no diagonalizable, dado que los bloques de Jordan son muy cercanos a una matriz diagonal. "
   ]
  },
  {
   "cell_type": "markdown",
   "id": "3e1792e9-bda0-4629-ace4-defd661fff2c",
   "metadata": {},
   "source": [
    "Antes de describir el procedimiento que permite calcular la forma canónica de Jordan, se requiere estudiar primero algunos resultado preliminares. "
   ]
  },
  {
   "cell_type": "markdown",
   "id": "708bb51f-9986-4a28-867c-f1ee04d37a14",
   "metadata": {},
   "source": [
    "Vamos a comenzar por probar que cualquier transformación lineal puede ser representado una matriz triangular con respecto a alguna base."
   ]
  },
  {
   "cell_type": "markdown",
   "id": "16c4f367-a3e3-4009-bc16-c9f60e063dbe",
   "metadata": {},
   "source": [
    "> **Matriz triangular superior asociada**. *Suponga que $T:V\\to V$ es un operador lineal sobre una espacio complejo finito dimensional. Entonces existe una base $\\beta$ de $V$ tal que la matriz asociada $[T]_{\\beta}^{\\beta}$ es una matriz triangular superior.*"
   ]
  },
  {
   "cell_type": "markdown",
   "id": "5e0d0ac1-97f6-41e1-810c-8661410948f1",
   "metadata": {},
   "source": [
    "*Demostración*. *Haciendo inducción sobre $n = \\dim(V)$. Para el caso $n = 1$, el resultado es trivial, dado que para cualquier base la matriz asociada es triangular superior. Suponga ahora que para $n\\leq 2$ y $\\lambda$ algún valor propio de $T$. Recuerde que $T$ necesarimente tiene al menos un valor propio.*"
   ]
  },
  {
   "cell_type": "markdown",
   "id": "4dc612db-fbc3-4c95-b9ea-d9bd0dc61bef",
   "metadata": {},
   "source": [
    "*Si se considera $W=\\operatorname*{Img} (T-\\lambda I)$, con $\\lambda$ es valor propio de $T$, $\\operatorname*{ker}(T-\\lambda I)$ tiene dimensión positiva, tal que $\\dim(W)<\\dim(V)$. Se afirma que $S:W \\to V$ dado por $S(w)=T(w)$ tiene $\\operatorname*{Img}(S)$ está contenida en $W$, así que $S$ será un operador lineal sobre $W$, al cuál se le aplicará que $s(W)$ también está en $W$.*"
   ]
  },
  {
   "cell_type": "markdown",
   "id": "cc2ac30f-6bae-4d83-9f03-b5fc2c471007",
   "metadata": {},
   "source": [
    "*Para ver esto, sea $w$ un vector en $W$. Entonces $S(w)=(T-\\lambda I)w + \\lambda w$, y ambos $(T-\\lambda I)w $ y $\\lambda w$ están en $W$: dado que $W$ es un subespacio, se concluye que $S(w)$ también está en $W$.*"
   ]
  },
  {
   "cell_type": "markdown",
   "id": "2ea4139a-2dc2-4b0e-a120-dffbc881e65f",
   "metadata": {},
   "source": [
    "*Dado que $S$ es un operador lineal sobre $W$, por hipótesis existe una base $\\gamma = \\{w_1, \\dots, w_k\\}$ para $W$ tal que la matriz $[S]_{\\gamma}^{\\gamma}$ es una matriz triangular.*"
   ]
  },
  {
   "cell_type": "markdown",
   "id": "f2e0d86b-fcb6-461e-bef7-eea44934bdf2",
   "metadata": {},
   "source": [
    "*La base $\\gamma$ se puede extender a una base $\\beta=\\{w_1, \\dots, w_k, v_{k+1},\\dots, v_n\\}$ de $V$. Por lo tanto se puede afirmar que $[T]_{\\beta}^{\\beta}$ es una matriz triangular.*"
   ]
  },
  {
   "cell_type": "markdown",
   "id": "7a131da7-0c42-4d46-ab78-a8a1665c61b2",
   "metadata": {},
   "source": [
    "*La matriz superior $k\\times k$ es parte de $[T]_{\\beta}^{\\beta}$ es la matriz $[S]_{\\gamma}^{\\gamma}$  es cual es una matriz triangular superior por hipótesis. Además, par cada $v_i$ se puede escribir $T(v_i)=(T-\\lambda I)v_i + \\lambda v_i$, y $(T-\\lambda I)v_i$ está en $W$, por lo tanto es una combinación lineal de $\\{w_1, \\dots, w_k\\}$.Finalmente, $[T]_{\\beta}^{\\beta}$ es una matriz triangular superior, como se ha afirmado antes.*"
   ]
  },
  {
   "cell_type": "markdown",
   "id": "5e6cf096-f0e1-4abc-86f2-e3f851e5df58",
   "metadata": {},
   "source": [
    "Ahora vamos a construir sobre este resultado para mostrara que se puede mejorar la elección de esta base para construir una matriz en forma canónica de Jordan. En particular, se necesita el siguiente refinamiento:"
   ]
  },
  {
   "cell_type": "markdown",
   "id": "0007b534-dfc9-4dcf-9ec4-2741ddfae3d9",
   "metadata": {},
   "source": [
    ">**Corolario**. *Suponga que $T:V\\to V$ es un operador lineal en un espacio finito dimensional tal que el campo escalar contiene todos los valores propios de $T$. Si $\\lambda$ es un valor propio de $T$ con multiplicidadd $d$, entonces existe una base $\\beta$ de $V$ tal que que la matriz asocida $[T]_{\\beta}^{\\beta}$ es una matriz triangular y donde las últimas $d$ entradas en la diagonal de esta matriz son igual a $\\lambda$.*    "
   ]
  },
  {
   "cell_type": "markdown",
   "id": "cb3b6b9b-5d73-4a18-9a70-cda5306ac6ed",
   "metadata": {},
   "source": [
    "*Demostración*. *Aplicar la misma contrucción inductiva como se hizo en la prueba anterior, usando el valor propio $\\lambda$ en cada etapa de la construcción en la qu sigue siendo en valor propio del subespacio $W$.*"
   ]
  },
  {
   "cell_type": "markdown",
   "id": "f0205522-9307-4d34-b3e1-534b421bd861",
   "metadata": {},
   "source": [
    "*Se observa que $\\det(tI-T)=\\det(tI-S)\\cdot(t-\\lambda)^{\\dim(E)}$, donde $E_\\lambda$ es un $\\lambda$ subespacio propio de $T$. Por lo tanto los valores propios de $S$ también están en el campo de $V$. Por lo tanto en cualquier etapa de la construcción aún no se alcanzado una matriz diagonal de $d$ entradas igual a $\\lambda$, el operador $S$ aún tendrá a $\\lambda$ como un valor propio, y es generado por agregar al menos una entrada de $\\lambda$ de la diagonal en el siguiente paso de la construcción.*"
   ]
  },
  {
   "cell_type": "markdown",
   "id": "2bd031ea-7a50-43b5-9e98-37f30f17ce20",
   "metadata": {},
   "source": [
    "## Vectores propios generalizados"
   ]
  },
  {
   "cell_type": "markdown",
   "id": "94ffcdfb-82fd-4717-a4df-07d40de4928d",
   "metadata": {},
   "source": [
    "Ultimamenete, una transformación lineal (o matriz) no diagonalizable por no tener suficientes valores propios para construir una base diagonal. Por la generalización de un vector propio, se debe llenar la vectores faltantes para contruir la base. "
   ]
  },
  {
   "cell_type": "markdown",
   "id": "07b69255-8454-4f0e-8ffb-06a411069394",
   "metadata": {},
   "source": [
    "> **Definición**. *Para un operador lineal $T:V\\to V$, un vector no nulo $v$ satisface $(A-\\lambda I)^{k}v=0$ para algún entero $k$ y algún escalar $\\lambda$ es llamado **vector generalizado** de $T$.*"
   ]
  },
  {
   "cell_type": "markdown",
   "id": "c8431a8d-8c3d-4477-a572-fbacb367e5ac",
   "metadata": {},
   "source": [
    "También hay una definición analoga para matrices: un vector propio generalizado para $A$ es un vector no nulo $v$ con $(A-\\lambda I)^{k}v = 0$ para algún entero positivo $k$ de algún escalar $\\lambda$. Observe que los vectores propios corresponde a $k=1$, y así cada vector propio es un vector generalizado. La afirmación inversa, sin embargo, no es verdad."
   ]
  },
  {
   "cell_type": "code",
   "execution_count": null,
   "id": "146513d2-a392-4cb3-9c9f-4a019bd84ac7",
   "metadata": {},
   "outputs": [],
   "source": []
  }
 ],
 "metadata": {
  "kernelspec": {
   "display_name": "Python 3",
   "language": "python",
   "name": "python3"
  },
  "language_info": {
   "codemirror_mode": {
    "name": "ipython",
    "version": 3
   },
   "file_extension": ".py",
   "mimetype": "text/x-python",
   "name": "python",
   "nbconvert_exporter": "python",
   "pygments_lexer": "ipython3",
   "version": "3.9.4"
  }
 },
 "nbformat": 4,
 "nbformat_minor": 5
}
