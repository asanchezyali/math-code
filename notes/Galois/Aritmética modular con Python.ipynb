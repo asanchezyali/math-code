{
 "cells": [
  {
   "cell_type": "markdown",
   "id": "4497b832-1f29-4bf1-bc5c-69dad8b32b69",
   "metadata": {},
   "source": [
    "# Introducción"
   ]
  },
  {
   "cell_type": "markdown",
   "id": "7df53f5f-db50-46dd-b4c4-c98238c47109",
   "metadata": {},
   "source": [
    "A los matemáticos nos gusta jugar con diferentes estructuras algebráicas, monoides, grupoides, anillos, modulos, campos, etc. A diferencia de lo que cree la mayoría de personas, los matemáticos somos muy perezosos (realmente lo digo por mí) para hacer cuentas y más cuando son operaciones repetitivas que debemos hacer utilizando lapiz y pápel. Así que desde hace un tiempo he estado explorando como utilizar los lenguajes de programación para estudiar estas estructuras algebráicas y construir muchos ejemplos, sin perder mucho tiempo haciendo cálculos tediosos y poder centrar la atención en la compresión y utilidad de estas estructuras que es lo que finalmente importa. En mis investigaciones he encontrado que es posible construir algunas de estas estructuras empleando algunos de los métodos especiales de las clases en Python. Así, que te quiero compartir algunos de mis secretos y seguramente si eres matemático salvarte del tedio de hacer cuentas aburridas. "
   ]
  },
  {
   "cell_type": "markdown",
   "id": "a20e19f7-0b17-4d86-b46c-99fd7fe6c980",
   "metadata": {},
   "source": [
    "Para hacer el ejercicio más interesante, en este post voy a enseñarte cómo construir el anillo de los números enteros módulo $n$. No creas que he escogido este ejemplo por que sí. Mi yo del futuro, vino hace algunos días y me dijo que él en los próximos días te va a revelar cómo algunos algoritmos criptográficos, tanto cifrados simétricos como cifrados asimétricos están basados en este conjunto. Aunque esto te suene extraño, él vino a garantizar su existencia, y yo no lo puedo defraudar."
   ]
  },
  {
   "cell_type": "markdown",
   "id": "adc148ac-ba4d-459c-a450-94f39e9846fc",
   "metadata": {},
   "source": [
    "Además construir este conjunto de números enteros módulo $n$ también es una buena excusa para aprender a utilizar los métodos especiales  `__call__`, `__repr__`, `__add__`, `__sub__` , `__neg__`, `__truediv__`, `__mul__` y `__eq__` de las clases en Python. Así que empecemos a hilar el destino del mi yo del futuro."
   ]
  },
  {
   "cell_type": "markdown",
   "id": "5d53c960-08a2-4d6e-85d3-2f33114bc4c7",
   "metadata": {},
   "source": [
    "# Los números enteros módulo $n$"
   ]
  },
  {
   "cell_type": "markdown",
   "id": "2e8030a4-564b-4e98-bc1a-1c977cdf7948",
   "metadata": {},
   "source": [
    "Hace mucho tiempo, mi yo del pasado aprendió que el conjunto de los números enteros módulo $n$, es el conjunto $\\mathbb{Z}_{n}$. ¿Pero qué es exactamente $\\mathbb{Z}_{n}$? Bueno, no es sencillo de explicar, así que dejaré que mi yo del pasado haga su mejor esfuerzo sin aburrirte con definiciones demasiado abstractas que solo le gustan a los matemáticos.  "
   ]
  },
  {
   "cell_type": "markdown",
   "id": "d76991ca-6e8d-4d1b-839a-b404c3f50f84",
   "metadata": {},
   "source": [
    "¡Oye yo del futuro! ¿Por qué me dejas encartado con este lio? Yo no elegí escribir este post. Esto es tu responsabilidad. Yo no debería ayudarte con esto y hacer que desaparezcas. Pero ni modo, tu amigo parece ser simpático así que le voy a ayudar a entender un poco que son los números enteros módulo $n$.  \n",
    "\n",
    "Amigo de mi yo del futuro, para entender que es $\\mathbb{Z}_{n}$, primero hay que saber que dos números enteros $a$ y $b$ son congruentes módulo $n$  si y solo si $a$ y $b$ tienen el mismo residuo cuando se dividen entre $n$ ($n$ un número natural mayor que uno). Esta relación usualmente se denota como $a\\equiv b \\operatorname*{mod\\,}n$  y es una relación de equivalencia, es decir, es reflexiva, simétrica y transitiva. Si estos conceptos te suenan muy extraños aún, puedo invitar a mi yo del pasado, pero creo que se encuentra muy acupado por ahora, asi que te sugiero que pases rápidamente por wikipedia: [relación de equivalencia](https://en.wikipedia.org/wiki/Equivalence_relation). Allí te explican rapidamende cada uno de estos conceptos, aunque sino quieres hacerlo está bien, tampoco va a ser necesario que lo comprendas por ahora. "
   ]
  },
  {
   "cell_type": "markdown",
   "id": "6c5f6236-f3d8-4d17-b246-ffe64aed5db0",
   "metadata": {},
   "source": [
    "Es importante que sepas que todas las relaciones de equivalencia en un conjunto lo particionan en subconjuntos disjuntos o clases disjuntas. En nuestro caso, la relación de congruencia módulo $n$ determina una partición del conjunto de números enteros por clases disjuntas, que están formadas por números congruentes módulo $n$. Por ejemplo, todas las clases de equivalencia para la relación de congruencia módulo $5$, se pueden visualizar como cada una de las columnas del siguiente arreglo:"
   ]
  },
  {
   "cell_type": "markdown",
   "id": "961986b4-2664-497b-a006-be9a70dbc52f",
   "metadata": {},
   "source": [
    "![integersmodn.png](data:image/png;base64,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)"
   ]
  },
  {
   "cell_type": "markdown",
   "id": "a238dbf9-406b-43e3-ba14-498a7357608c",
   "metadata": {},
   "source": [
    "Como podrás comprobar, si tomas por ejemplo, $2$ y $12$ de la columna identificada por $\\bar{2}$, encontrarás que tienen el mismo residuo cuando se dividen entre $5$, es por esta razón que se encuentran en la misma clase. Te invito a comprobar que cada que seleccionás dos números que se encuentran en una misma columna van a tener el mismo residuo cuando se dividen por $5$."
   ]
  },
  {
   "cell_type": "markdown",
   "id": "3a6faf08-734f-4994-b931-13e13d0c45f0",
   "metadata": {},
   "source": [
    "La notación de $\\bar{0}, \\bar{1}, \\bar{2}, \\bar{3}, \\bar{4}$ además de identificar las columnas de nuestro arreglo, también identifica las particiones de nuestra clase de equivalencia.  "
   ]
  },
  {
   "cell_type": "markdown",
   "id": "cff0f665-7880-49da-96ff-6956ee7e2817",
   "metadata": {},
   "source": [
    "Ahora que ya tienes estas ideas básicas, ya estás preparado para entener que es es el conjunto de enteros módulo $n$ o simplemente $\\mathbb{Z}_{n}$, este conjunto, como prodas intuir es el conjunto formado por las clases residuales módulo $n$, es decir, $\\mathbb{Z}_{n}=\\{\\bar{0}, \\bar{1}, \\dots, \\overline{n-1}\\}$."
   ]
  },
  {
   "cell_type": "markdown",
   "id": "a0255ff2-84d1-4e5b-936e-9601423c0fde",
   "metadata": {},
   "source": [
    "Por otro lado, si en $\\mathbb{Z}_{n}$ se definen las operaciones de suma de clases residuales como $\\bar{r}+\\bar{s}=\\overline{r+s}$ y la multiplicación de clases residuales como $\\bar{r}\\cdot\\bar{s} = \\overline{r\\cdot s}$, en donde las clases residuales $\\overline{r+s}$ y $\\overline{rs}$ son el residuo, respectivamente, de dividir a $r+s$ y $rs$ por $n$, este se convierte en un anillo. Si en un anillo, pero esto es tema para otro momento. Para que entiendas cómo funcionan estas operaciones, considera $\\mathbb{Z}_{5}$, y toma $\\bar{3}$ y $\\bar{5}$ y sumalos, deberías encontrar que $\\bar{3} + \\bar{5} = \\overline{3 + 5} = \\bar{8}$, y como $8$ dividido $5$ deja residuo $3$ entonces, $\\bar{3} +\\bar{5} = \\bar{3}$. En cuanto al producto $\\bar{3}\\cdot \\bar{5} =\\overline{3\\cdot 5} = \\overline{15}$ y $15$ dividido $5$ deja residuo $0$, asi que $\\bar{3}\\cdot \\bar{5}=\\bar{0}$."
   ]
  },
  {
   "cell_type": "markdown",
   "id": "fb48bf73-3276-468c-83cf-da4be8139fb7",
   "metadata": {},
   "source": [
    "Es importante que tengas presente que si dos números enteros $a$ y $b$, tienen el mismo residuo cuando son dividos por $n$, entonces van a representar la misma clase, es decir, $\\bar{a}=\\bar{b}$."
   ]
  },
  {
   "cell_type": "markdown",
   "id": "169b3bfb-fcc1-4c44-abfa-a429012588ae",
   "metadata": {},
   "source": [
    "Bueno amigo, es hora de regresar a mi trabajo. Espero que mi yo del futuro te explique muy bien como implementar $\\mathbb{Z}_{n}$ empleando algunos métodos especiales de las clases en Python."
   ]
  },
  {
   "cell_type": "markdown",
   "id": "212fc2d9-9a71-40b0-81c7-3703999c8c85",
   "metadata": {},
   "source": [
    "# $\\mathbb{Z}_n$ como una clase de Python"
   ]
  },
  {
   "cell_type": "markdown",
   "id": "85c5677f-490c-4722-af3b-96587b4584e6",
   "metadata": {},
   "source": [
    "Ahora que ya tienes una idea de qué es $\\mathbb{Z}_{n}$, vamos a construir una clase de python que nos permita utilizar este conjunto de números como si fueran los números enteros o los números reales. "
   ]
  },
  {
   "cell_type": "markdown",
   "id": "53a06840-ea73-473e-9726-0b00d481178a",
   "metadata": {},
   "source": [
    "La clases en Python tienen una serie de métodos especiales que permite definir la representación, el comportamiento y las relaciones entre diferentes instancias de una misma clase. Por ejemplo, ya conoces el significado del método `__init__` que se utiliza como constructor, pero hay otros métodos  bastante interesantes que podrás encontrar en la documentación de Python: [DataModel](https://docs.python.org/3/reference/datamodel.html). Veamos cómo utilizar algunos de estos métodos para construir los números enteros módulo $n$."
   ]
  },
  {
   "cell_type": "markdown",
   "id": "b27f954b-11dd-4fd7-8e02-9fc0852607fd",
   "metadata": {},
   "source": [
    "## \\_\\_init\\_\\_(self, «parameters»)"
   ]
  },
  {
   "cell_type": "markdown",
   "id": "23243e50-b150-4c99-9f11-f0b87ff6b02d",
   "metadata": {},
   "source": [
    "El método `__init__` es el primer método que se ejecuta cuando se crea un objeto. Este se llama automáticamente. Es decir es imposible de olvidarse de llamarlo ya que se llamará automaticamente cuando se instancia una clase. \n",
    "\n",
    "Nuestro conjunto de números enteros módulo `n` va ser una clase de nombre `IntegerModn`, que tendrá dos atributos, `n` e `integer`, donde $n$ representará el módulo $n$  e `integer` será cualquier entero $x\\in\\mathbb{Z}_{n}$, así que una base para `IntegerModn` será:"
   ]
  },
  {
   "cell_type": "code",
   "execution_count": 24,
   "id": "a62ff3f7-1e21-4224-96c9-793530657695",
   "metadata": {},
   "outputs": [],
   "source": [
    "from __future__ import annotations\n",
    "\n",
    "class IntegerModn:\n",
    "    def __init__(self, n: int = 2):\n",
    "        self.n = n\n",
    "        self.integer = None"
   ]
  },
  {
   "cell_type": "markdown",
   "id": "8b855131-ec3f-4681-85b5-33326a8f3ec2",
   "metadata": {},
   "source": [
    "Cómo podras notar cuando se hace la instancia de la clase `IntergerModn` solo se necesita definir el módulo $n$, es decir, por ejemplo, si se quiere instanciar $\\mathbb{Z}_{4}$, entonces hacemos $n=4$, veamos:"
   ]
  },
  {
   "cell_type": "code",
   "execution_count": 25,
   "id": "69c5f887-e756-415c-8df8-34c718003654",
   "metadata": {},
   "outputs": [],
   "source": [
    "mod4 = IntegerModn(n=4)"
   ]
  },
  {
   "cell_type": "markdown",
   "id": "effa5547-1a5c-43f5-a83a-0800021f42be",
   "metadata": {},
   "source": [
    "Si no se define $n$ entonces el módulo será por defecto 2."
   ]
  },
  {
   "cell_type": "markdown",
   "id": "f4eaf8a3-849b-4c62-afd0-e421fa7c9fb1",
   "metadata": {},
   "source": [
    "## \\_\\_call\\_\\_(self, «parameters»)"
   ]
  },
  {
   "cell_type": "markdown",
   "id": "b9db26a9-ce74-4818-bb9d-cbb5fe03cdc9",
   "metadata": {},
   "source": [
    "Este método permite que un objeto pueda ser llamado como una función, de modo que si se tiene una instancia `obj` de una clase que tiene definido el método `__call__` entonces podemos invocarlo como `obj(value)`, lo que en realidad es un atajo a `obj.__call__(value)`."
   ]
  },
  {
   "cell_type": "markdown",
   "id": "ec7f040f-e621-46e4-8071-7bf5f22526b1",
   "metadata": {},
   "source": [
    "Ahora vamos utilizar este método para poder crear varios objetos (números enteros módulo n) haciendo simplemente `modn(value)`. Asi que `__call__` va a recibir como parámetro un número entero y va a calcular la clase residual mediante el operador `%`, veamos:"
   ]
  },
  {
   "cell_type": "code",
   "execution_count": 34,
   "id": "2d397a0c-3f3e-4cc9-b4ef-104dd13747cf",
   "metadata": {},
   "outputs": [],
   "source": [
    "def __call__(self, integer: int) -> IntergerModn:\n",
    "    if type(integer) is int:\n",
    "        modn = self.__class__(self.n)\n",
    "        modn.integer = integer % self.n\n",
    "    else:\n",
    "        raise AssertionError('It is not integer')\n",
    "    return modn"
   ]
  },
  {
   "cell_type": "markdown",
   "id": "2e7288c0-ea67-43e9-b377-44f05374544c",
   "metadata": {},
   "source": [
    "y creemos los enteros 5 y 7 módulo 4 para la implementación:"
   ]
  },
  {
   "cell_type": "code",
   "execution_count": 39,
   "id": "210ad447-ae57-4a0c-9b0a-5dd25064ca6f",
   "metadata": {},
   "outputs": [],
   "source": [
    "a = mod4(5)\n",
    "b = mod4(7)"
   ]
  },
  {
   "cell_type": "markdown",
   "id": "6fc1a062-f1a7-42ad-9e6f-e900e2dc1120",
   "metadata": {},
   "source": [
    "Si tratamos de ver por consola los objetos asignados a las variables `a` y `b` respectivamente, veríamos algo así:"
   ]
  },
  {
   "cell_type": "code",
   "execution_count": 16,
   "id": "690d1bb4-80ff-4950-9a7f-ddbdf5608932",
   "metadata": {},
   "outputs": [
    {
     "data": {
      "text/plain": [
       "<__main__.IntegerModn at 0x7fdac4721490>"
      ]
     },
     "execution_count": 16,
     "metadata": {},
     "output_type": "execute_result"
    }
   ],
   "source": [
    "a"
   ]
  },
  {
   "cell_type": "code",
   "execution_count": 17,
   "id": "21f0fe29-7212-4223-b9bb-011acae65f3c",
   "metadata": {},
   "outputs": [
    {
     "name": "stdout",
     "output_type": "stream",
     "text": [
      "<__main__.IntegerModn object at 0x7fdac4721850>\n"
     ]
    }
   ],
   "source": [
    "print(b)"
   ]
  },
  {
   "cell_type": "markdown",
   "id": "2163fe20-3c8b-4cce-803b-ee956db6f826",
   "metadata": {},
   "source": [
    "Estas representaciones no son muy útiles, así que a continuación las vamos a cambiar empleando el método `__repr__`."
   ]
  },
  {
   "cell_type": "markdown",
   "id": "47530451-cb16-4c23-9c41-8442b772c937",
   "metadata": {},
   "source": [
    "## \\_\\_repr\\_\\_(self)"
   ]
  },
  {
   "cell_type": "markdown",
   "id": "e4835c74-b863-4bd2-802b-a1dbcfd94a0b",
   "metadata": {},
   "source": [
    "Este método nos posibilita convertir un objeto en una cadena, de modo que se puede llamar a la función interna `__repr__` sobre el objeto. Normalmente esta cadena tiene el aspecto de una expresión de Python que podría utilizarse para recrear otro objeto con el mismo valor, o una cadena descriptiva en el caso de objetos complejos que podrían tener una representación muy complicada. Veamos como empleamos este método para representar a cada elemento $x$ de $\\mathbb{Z}_{n}$ como `x mod n`. "
   ]
  },
  {
   "cell_type": "code",
   "execution_count": 26,
   "id": "1abeaf88-8e6f-4f0a-8765-aae1eaee6af0",
   "metadata": {},
   "outputs": [],
   "source": [
    "def __repr__(self) -> str:\n",
    "    return str('{} mod {}'.format(self.integer, self.n))"
   ]
  },
  {
   "cell_type": "markdown",
   "id": "5296e2c3-7fa8-426a-b4b4-d75080d84da3",
   "metadata": {},
   "source": [
    "Veamos nuevamente que ocurre cuando queremos ver a `a` y a `b` por consola:"
   ]
  },
  {
   "cell_type": "code",
   "execution_count": 27,
   "id": "a7ba2ed7-60b4-4ada-b02e-9aa5a20a5d93",
   "metadata": {},
   "outputs": [
    {
     "data": {
      "text/plain": [
       "3 mod 7"
      ]
     },
     "execution_count": 27,
     "metadata": {},
     "output_type": "execute_result"
    }
   ],
   "source": [
    "a"
   ]
  },
  {
   "cell_type": "code",
   "execution_count": 28,
   "id": "e47b9a51-d13f-4ee0-8b4c-3d85c6ac06e0",
   "metadata": {},
   "outputs": [
    {
     "name": "stdout",
     "output_type": "stream",
     "text": [
      "3 mod 7\n"
     ]
    }
   ],
   "source": [
    "print(b)"
   ]
  },
  {
   "cell_type": "markdown",
   "id": "db1e299c-42f1-4e41-ae17-5147d78f277c",
   "metadata": {},
   "source": [
    "¿Y a dónde se fue el 5 y el 7? Recuerda que estamos trabajando con clases residuales, por lo tanto, 5 y 1 son las misma clase residual, pues tiene el mismo residuo cuando se dividen por cuatro. De la misma forma ocurre con 7 y 3."
   ]
  },
  {
   "cell_type": "markdown",
   "id": "8828efd2-bd4e-47ec-bbcb-969164c5ca65",
   "metadata": {},
   "source": [
    "Hasta el momento, nuestra clase tiene esta forma:"
   ]
  },
  {
   "cell_type": "code",
   "execution_count": 33,
   "id": "7b1345f5-3adb-473e-b5b2-dd85357ab1cb",
   "metadata": {},
   "outputs": [],
   "source": [
    "from __future__ import annotations\n",
    "\n",
    "class IntegerModn:\n",
    "    def __init__(self, n: int = 2):\n",
    "        self.n = n\n",
    "        self.integer = None\n",
    "        \n",
    "    def __call__(self, integer: int) -> IntergerModn:\n",
    "        if type(integer) is int:\n",
    "            modn = self.__class__(self.n)\n",
    "            modn.integer = integer % self.n\n",
    "        else:\n",
    "            raise AssertionError('It is not integer')\n",
    "        return modn\n",
    "    def __repr__(self) -> str:\n",
    "        return str('{} mod {}'.format(self.integer, self.n))"
   ]
  },
  {
   "cell_type": "markdown",
   "id": "6e1ec917-bd0c-47bc-8e2a-8d043d5c7a94",
   "metadata": {},
   "source": [
    "A continuación vamos a definir cada una de sus operaciones aritméticas, de manera que vamos a estar haciendo cosas como estas, si `a = mod4(5)` y `a = mod4(7)`, entonces `a + b == mod4(2)`."
   ]
  },
  {
   "cell_type": "markdown",
   "id": "977a43f2-6d81-4ea7-80bf-cee5aee9df90",
   "metadata": {},
   "source": [
    "# Sobrecarga de las operaciones aritméticas de python"
   ]
  },
  {
   "cell_type": "markdown",
   "id": "98aec875-5b9e-4a5f-8062-4c98de9fd656",
   "metadata": {},
   "source": [
    "Python también cuenta con métodos especiales para sobreescribir el comportamiento de las operaciones aritméticas principale. Estos permite que a los objetos se les pueda definir su propia aritmética como veremos a continuación."
   ]
  },
  {
   "cell_type": "markdown",
   "id": "eebef42d-2e8e-419a-8a13-bfcb9e8dd2f0",
   "metadata": {},
   "source": [
    "Nuestra clase `IntergerModn` ya cuenta con tres métodos muy útiles para la construcción, invocación y representación. Ahora hay que incluir unos métodos adicionales que nos permita comparar, sumar, restar, multiplicar y dividir. Veamos a continuación cómo hacer esto:"
   ]
  },
  {
   "cell_type": "markdown",
   "id": "1d0e4a65-b0dd-4985-af77-86987fd8d879",
   "metadata": {},
   "source": [
    "## \\_\\_eq\\_\\_(self, other)"
   ]
  },
  {
   "cell_type": "markdown",
   "id": "a40feb38-f2b6-4b48-8851-9f6c637bd132",
   "metadata": {},
   "source": [
    "Suponga que se tienen dos objetos de la clase `IntergerModn`, `a` y `b`. `a==b` solo será `True` si son referencias al mismo objeto. Dos objetos diferentes con la misma clase residual no serían iguales en esta implementación. Esto se denomina **igualdad superficial**. Es posible crear **igualdad profunda** -igualdad por el mismo valor, no por la misma referencia- Haciendo uso del método `__eq__`. El método `__eq__` es otro método estándar disponible para cualquier clase. El método `__eq__` compara dos objetos y devuelve `True` si sus valores son iguales o `False` de lo contrario."
   ]
  },
  {
   "cell_type": "markdown",
   "id": "0309a7ab-b783-4388-afa1-3ac507db7a03",
   "metadata": {},
   "source": [
    "En la clase `IntergerModn` podemos implementar el método `__eq__` comparando la propiedad `integer` de cada objeto. Esto sería:"
   ]
  },
  {
   "cell_type": "code",
   "execution_count": 30,
   "id": "8a73f211-5501-4c75-b77f-28509d94dd21",
   "metadata": {},
   "outputs": [],
   "source": [
    "def __eq__(self, other: IntegerMod) -> bool:\n",
    "    if not isinstance(IntegerMod):\n",
    "        raise AssertionError('It is no integer module n')\n",
    "    if self.integer == other.integer:\n",
    "        return True\n",
    "    else:\n",
    "        return False"
   ]
  },
  {
   "cell_type": "markdown",
   "id": "410933fe-1c90-4549-acdf-f25db80231fb",
   "metadata": {},
   "source": [
    "Así que ahora podremos identificar cuando dos elementos pertencen a una misma clase modular, por ejemplo:"
   ]
  },
  {
   "cell_type": "code",
   "execution_count": 31,
   "id": "d50941bf-91e0-41c9-b7a4-21cef9dffe63",
   "metadata": {},
   "outputs": [],
   "source": [
    "mod7 = IntegerModn(7)\n",
    "a = mod7(3)\n",
    "b = mod7(10)"
   ]
  },
  {
   "cell_type": "code",
   "execution_count": 32,
   "id": "e3151f95-b183-4060-a41b-5b686eac7dcb",
   "metadata": {},
   "outputs": [
    {
     "data": {
      "text/plain": [
       "False"
      ]
     },
     "execution_count": 32,
     "metadata": {},
     "output_type": "execute_result"
    }
   ],
   "source": [
    "a == b"
   ]
  },
  {
   "cell_type": "markdown",
   "id": "466b1dcd-22e1-4468-a4ed-ae126c098dab",
   "metadata": {},
   "source": [
    "En efecto 3 y 10 representan la misma clase modular porque cuando se dividen por 7 se obtiene el mismo residuo."
   ]
  },
  {
   "cell_type": "markdown",
   "id": "6dd57ed3-0e22-4126-a480-f33e61b547f5",
   "metadata": {},
   "source": [
    "Es importante tener en cuenta que hay dos operadores relacionales que pueden redefinirse. Por ejemplo, el método `__le__` que proporciona la funcionalidad de «menor que o igual»."
   ]
  },
  {
   "cell_type": "markdown",
   "id": "87fd11bd-a1fd-435b-bc42-e96ca7d5afdd",
   "metadata": {},
   "source": [
    "Te invito a definir las operaciones $<$, $>$, $\\leq$ y $\\geq$ utilizando los métodos especiales que se encuentran en [DataModel](https://docs.python.org/3/reference/datamodel.html). A continuación vamos a definir las operaciones suma, resta y multiplicación."
   ]
  },
  {
   "cell_type": "markdown",
   "id": "ae37fb1a-e255-47a9-b263-42ea76973aca",
   "metadata": {},
   "source": [
    "## \\_\\_add\\_\\_(self, other)"
   ]
  },
  {
   "cell_type": "markdown",
   "id": "b186cbed-d67d-4ed4-84cd-87b943db602d",
   "metadata": {},
   "source": [
    "Me imagino que ahora te debes estar preguntando ¿Y cómo sumamos los objetos de la clase `IntergerModn`? Nos gustaría poder crear objetos de `IntergerModn` y luego sumarlos usando la notación estandar `+`. En este punto, si intentamos sumar dos números enteros módulo $n$ obtendremos los siguiente:"
   ]
  },
  {
   "cell_type": "code",
   "execution_count": 34,
   "id": "e495977b-2586-4ac0-a4c7-30fd9dc242fd",
   "metadata": {},
   "outputs": [],
   "source": [
    "mod7 = IntegerModn(7)\n",
    "a = mod7(3)\n",
    "b = mod7(10)"
   ]
  },
  {
   "cell_type": "code",
   "execution_count": 35,
   "id": "8156d70d-d2e4-40b2-a82b-7342d85f4df2",
   "metadata": {},
   "outputs": [
    {
     "ename": "TypeError",
     "evalue": "unsupported operand type(s) for +: 'IntegerModn' and 'IntegerModn'",
     "output_type": "error",
     "traceback": [
      "\u001b[0;31m---------------------------------------------------------------------------\u001b[0m",
      "\u001b[0;31mTypeError\u001b[0m                                 Traceback (most recent call last)",
      "\u001b[0;32m<ipython-input-35-bd58363a63fc>\u001b[0m in \u001b[0;36m<module>\u001b[0;34m\u001b[0m\n\u001b[0;32m----> 1\u001b[0;31m \u001b[0ma\u001b[0m \u001b[0;34m+\u001b[0m \u001b[0mb\u001b[0m\u001b[0;34m\u001b[0m\u001b[0;34m\u001b[0m\u001b[0m\n\u001b[0m",
      "\u001b[0;31mTypeError\u001b[0m: unsupported operand type(s) for +: 'IntegerModn' and 'IntegerModn'"
     ]
    }
   ],
   "source": [
    "a + b"
   ]
  },
  {
   "cell_type": "markdown",
   "id": "92318661-5a09-4a25-81d9-7a153ec13c0a",
   "metadata": {},
   "source": [
    "Si nos fijamos atentamente en el error, veremos que el problema es que el operador `+` no entiende los operandos para Me imagino que hora te debes estar preguntando ¿Y cómo sumamos los objetos de la clase `IntergerModn`."
   ]
  },
  {
   "cell_type": "markdown",
   "id": "0a84b260-03b5-48c1-934a-3cc9efa37b65",
   "metadata": {},
   "source": [
    "Podemos corregir este error agregandole a la clase  `IntergerModn` un método asociado a la adición. En Python, este método se llama `__add__` y requiere dos parámetros, el primero, `self`, siempre es necesario, y el segundo representa el otro operando en la expresión. Por ejemplo, `a.__add__(b)`, pedirá a la objeto `IntergerModn a` que sume el objeto `IntergerModn b` a sí mismo. Esto se puede escribir en la notación estandar, `a + b`."
   ]
  },
  {
   "cell_type": "markdown",
   "id": "dc266420-2713-4782-803e-4102c59a1351",
   "metadata": {},
   "source": [
    "Dos números enteros módulo $n$, se suman mediante $\\bar{r}+\\bar{s}=\\overline{r+s}$, es decir, se toman dos objetos de `IntergerModn` y se obtiene una nueva instancia de `IntergerModn` si modificar las instancias originales. Podemos usas el método `__add__` escribiendo una expresión aritmética estandar que involucre a los representantes de las clases residuales, y asignado el resultados de la adición a un objeto de `IntergerModn`, es decir:"
   ]
  },
  {
   "cell_type": "code",
   "execution_count": 37,
   "id": "8b88a9cc-f707-41b8-bb18-5f1293ae3d10",
   "metadata": {},
   "outputs": [],
   "source": [
    "def __add__(self, other: IntegerMod) -> IntegerMod:\n",
    "    if not self.n == other.n or not isinstance(IntegerModn):\n",
    "        raise AssertionError('Different fields or it is no integer module n')\n",
    "    modn = self.__class__(self.n)\n",
    "    return modn(self.integer + other.integer)"
   ]
  },
  {
   "cell_type": "markdown",
   "id": "abc91cf9-a1ee-4f7e-884b-9671ffcfbfe0",
   "metadata": {},
   "source": [
    "## \\_\\_sub\\_\\_(self, other)"
   ]
  },
  {
   "cell_type": "markdown",
   "id": "87e13c43-fa50-4a16-a9a8-277b7a6f276b",
   "metadata": {},
   "source": [
    "De misma forma se puede definir el comportamiento del operador `-`, utilizando el método `__sub__` para sobrecargarlo:"
   ]
  },
  {
   "cell_type": "code",
   "execution_count": 95,
   "id": "6dd926a8-5cac-4406-9732-d902143eb268",
   "metadata": {},
   "outputs": [],
   "source": [
    "def __sub__(self, other: IntegerModn) -> IntegerModn:\n",
    "    if not self.n == other.n or not isinstance(IntegerModn):\n",
    "        raise AssertionError('Different fields or it is no integer module n')\n",
    "    modn = self.__class__(self.n)\n",
    "    return modn(self.integer - other.integer)"
   ]
  },
  {
   "cell_type": "markdown",
   "id": "c91d4d82-d212-4bd1-aa26-54d09107a216",
   "metadata": {},
   "source": [
    "## \\_\\_mul\\_\\_(self, other)"
   ]
  },
  {
   "cell_type": "markdown",
   "id": "1290217f-4e31-48d3-aad6-d82f50fc5fb7",
   "metadata": {},
   "source": [
    " y tambien para el operador `*`, utilizando el método `__mul__`:"
   ]
  },
  {
   "cell_type": "code",
   "execution_count": 9,
   "id": "0c88846f-96ca-479c-ba32-c545ade7fd66",
   "metadata": {},
   "outputs": [],
   "source": [
    "def __mul__(self, other: IntegerModn) -> IntegerModn:\n",
    "    if not self.n == other.n or not isinstance(IntegerModn):\n",
    "        raise AssertionError('Different fields or it is no integer module n')\n",
    "    modn = self.__class__(self.n)\n",
    "    return modn(self.integer * other.integer)"
   ]
  },
  {
   "cell_type": "markdown",
   "id": "08d6586d-2839-4a4c-9225-cecb769456ff",
   "metadata": {},
   "source": [
    "## \\_\\_neg\\_\\_(self)"
   ]
  },
  {
   "cell_type": "markdown",
   "id": "4e7833ce-5e68-4532-9100-23c987526911",
   "metadata": {},
   "source": [
    "Además, para que las operaciones entre los objetos de la clase `IntergerModn` sean más naturales, podemos utilizar el método `__neg__`, para definir el inverso adictivo:"
   ]
  },
  {
   "cell_type": "code",
   "execution_count": 10,
   "id": "dc2e487d-1719-4635-844b-9b4335d39835",
   "metadata": {},
   "outputs": [],
   "source": [
    "def __neg__(self) -> IntegerModn:\n",
    "    modn = IntegerModn(self.n)\n",
    "    return modn(-self.integer % self.n)"
   ]
  },
  {
   "cell_type": "markdown",
   "id": "391811f0-7762-4183-afcb-2cc8cdb550df",
   "metadata": {},
   "source": [
    "## \\_\\_truediv\\_\\_(self, other)"
   ]
  },
  {
   "cell_type": "markdown",
   "id": "192a2012-bb43-4f19-89ea-a1d94432d028",
   "metadata": {},
   "source": [
    "Y finalmente para la división, empleando el método `__truediv__`. Aunque para sobrescribir el comportamiento de la división es un poco más complicado porque para la división de dos números enteros modulo $n$ es necesario utilizar del Algoritmo de Euclides, así que te recomiendo que te pases por wikipedia para saber cómo funciona ([Algoritmo de Euclides](https://en.wikipedia.org/wiki/Euclidean_algorithm)) y acá te dejo una pequeña implementación de este algoritmo para calcular el inverso multiplicativo de cualquier entero modulo $n$, siempre que $n$ sea primo:"
   ]
  },
  {
   "cell_type": "code",
   "execution_count": 60,
   "id": "8b60caaf-9eeb-463e-b6fc-be222bafb397",
   "metadata": {},
   "outputs": [],
   "source": [
    "def mul_inverse(self) -> int:\n",
    "    if self.integer == 0:\n",
    "        raise ZeroDivisionError('The division for zero is not defined.')\n",
    "    aux1 = 0\n",
    "    aux2 = 1\n",
    "    y = self.integer\n",
    "    x = self.n\n",
    "    while y != 0:\n",
    "        q, r = divmod(x, y)\n",
    "        x, y = y, r\n",
    "        aux1, aux2 = aux2, (aux1 - q * aux2)\n",
    "    if x == 1:\n",
    "        return aux1 % self.n\n",
    "    else:\n",
    "        raise AssertionError('The number is not relative prime with the order Zn.')"
   ]
  },
  {
   "cell_type": "markdown",
   "id": "e6372e44-55c7-47b9-9e97-130736849cf5",
   "metadata": {},
   "source": [
    "Una vez que conocemos como calcular el inverso multiplicativo, sobreescribir el comportamiento de la división es bastante sencillo, y sería algo como esto:"
   ]
  },
  {
   "cell_type": "code",
   "execution_count": 61,
   "id": "7a9eff59-7138-4311-99eb-eed998e20390",
   "metadata": {},
   "outputs": [],
   "source": [
    "def __truediv__(self, other: IntegerModn) -> IntegerModn:\n",
    "    if not self.n == other.n:\n",
    "        raise AssertionError('Different fields or it is no integer module n')\n",
    "    modn = IntegerModn(self.n)\n",
    "    return modn(self.integer * other.mul_inverse())"
   ]
  },
  {
   "cell_type": "markdown",
   "id": "b87c8712-7ed5-4e0a-929d-394a6147f36d",
   "metadata": {},
   "source": [
    "Ahora es posible operar con los objetos de `IntergerModn` directamente mediante los operadores `+`,  `-`, `*` y `/`, en lugar de llamar a métodos:"
   ]
  },
  {
   "cell_type": "code",
   "execution_count": 70,
   "id": "749fb3a0-f569-4216-aaa8-24a4031e9510",
   "metadata": {},
   "outputs": [],
   "source": [
    "mod7 = IntegerModn(7)\n",
    "a = mod7(3)\n",
    "b = mod7(10)"
   ]
  },
  {
   "cell_type": "code",
   "execution_count": 78,
   "id": "c030612f-696c-475f-8db1-ec18eb89c7ab",
   "metadata": {},
   "outputs": [
    {
     "data": {
      "text/plain": [
       "(6 mod 7, 0 mod 7, 2 mod 7, 1 mod 7, 4 mod 7)"
      ]
     },
     "execution_count": 78,
     "metadata": {},
     "output_type": "execute_result"
    }
   ],
   "source": [
    "a + b, a - b, a * b, a / b, -b"
   ]
  },
  {
   "cell_type": "markdown",
   "id": "3db14d4b-db8b-4b04-8ae7-9bbfcaf2e5f9",
   "metadata": {},
   "source": [
    "A continuación te dejo la implementación completa de la clase `IntergerModn`:"
   ]
  },
  {
   "cell_type": "code",
   "execution_count": 79,
   "id": "958d99ec-6983-4318-9256-91aea89178bc",
   "metadata": {},
   "outputs": [],
   "source": [
    "from __future__ import annotations\n",
    "\n",
    "class IntegerModn:\n",
    "    def __init__(self, n: int = 2):\n",
    "        self.n = n\n",
    "        self.integer = None\n",
    "        \n",
    "    def __call__(self, integer: int) -> IntergerModn:\n",
    "        if type(integer) is int:\n",
    "            modn = self.__class__(self.n)\n",
    "            modn.integer = integer % self.n\n",
    "        else:\n",
    "            raise AssertionError('It is not integer ...')\n",
    "        return modn\n",
    "    \n",
    "    def __repr__(self) -> str:\n",
    "        return str('{} mod {}'.format(self.integer, self.n))\n",
    "    \n",
    "    def __eq__(self, other: IntegerModn) -> bool:\n",
    "        if not isinstance(other, IntegerModn):\n",
    "            raise AssertionError('It is no integer module n ...')\n",
    "        if self.integer == other.integer:\n",
    "            return True\n",
    "        else:\n",
    "            return False\n",
    "        \n",
    "    def __add__(self, other: IntegerModn) -> IntegerModn:\n",
    "        if not self.n == other.n or not isinstance(other, IntegerModn):\n",
    "            raise AssertionError('Different fields or it is no integer module n')\n",
    "        modn = self.__class__(self.n)\n",
    "        return modn(self.integer + other.integer)\n",
    "    \n",
    "    def __sub__(self, other: IntegerModn) -> IntegerModn:\n",
    "        if not self.n == other.n or not isinstance(other, IntegerModn):\n",
    "            raise AssertionError('Different fields or it is no integer module n')\n",
    "        modn = self.__class__(self.n)\n",
    "        return modn(self.integer - other.integer)\n",
    "    \n",
    "    def __mul__(self, other: IntegerModn) -> IntegerModn:\n",
    "        if not self.n == other.n or not isinstance(other, IntegerModn):\n",
    "            raise AssertionError('Different fields or it is no integer module n')\n",
    "        modn = self.__class__(self.n)\n",
    "        return modn(self.integer * other.integer)\n",
    "    \n",
    "    def __neg__(self) -> IntegerModn:\n",
    "        modn = IntegerModn(self.n)\n",
    "        return modn(-self.integer % self.n)\n",
    "    \n",
    "    def __truediv__(self, other: IntegerModn) -> IntegerModn:\n",
    "        if not self.n == other.n:\n",
    "            raise AssertionError('Different fields or it is no integer module n')\n",
    "        modn = IntegerModn(self.n)\n",
    "        return modn(self.integer * other.mul_inverse())\n",
    "    \n",
    "    def mul_inverse(self) -> int:\n",
    "        if self.integer == 0:\n",
    "            raise ZeroDivisionError(\"The division for zero is not defined.\")\n",
    "        aux1 = 0\n",
    "        aux2 = 1\n",
    "        y = self.integer\n",
    "        x = self.n\n",
    "        while y != 0:\n",
    "            q, r = divmod(x, y)\n",
    "            x, y = y, r\n",
    "            aux1, aux2 = aux2, (aux1 - q * aux2)\n",
    "        if x == 1:\n",
    "            return aux1 % self.n\n",
    "        else:\n",
    "            raise AssertionError(\"The number is not relative prime with the order Zn.\")"
   ]
  },
  {
   "cell_type": "markdown",
   "id": "67794066-572c-465b-a7e3-cc17d08827a3",
   "metadata": {},
   "source": [
    "## Conclusiones"
   ]
  },
  {
   "cell_type": "markdown",
   "id": "cf789b70-41c5-4582-8f02-f975d4951f7b",
   "metadata": {},
   "source": [
    "Espero que en este pequeño viaje, hayas aprendido que es posible redefinir el comportamientode los operadores básicos de Python (como +, -, *, /), esto se conoce como **sobrecarga de operadores** y no todos los lenguajes lo permiten, y si bien es cómodo y permite que el código sea más elegante, no es algo esencial a la Programación Orientada a Objetos. En los lenguajes más conocidos que no soportan sobrecarga de operadores están C, Java y Pascal. Entre los lenguajes más conocidos que si soportan sobrecarga de operadores están Python, C++, C#, Perl y Ruby."
   ]
  },
  {
   "cell_type": "markdown",
   "id": "8197d542-fa12-47d8-8d41-345aacb4659b",
   "metadata": {},
   "source": [
    "Nos vemos en otro momento, para ver algunas aplicaciones de los números enteros módulos $n$ en criptografía y como resolver algunos rompecabezas matemáticos con ellos. ¡Hasta pronto!"
   ]
  },
  {
   "cell_type": "markdown",
   "id": "d72a54d7-0f9c-48db-9332-66b7e5ab67c6",
   "metadata": {},
   "source": [
    "## Referencias"
   ]
  },
  {
   "cell_type": "markdown",
   "id": "9865d9cc-02de-4db7-99a0-63b45f2ba53b",
   "metadata": {},
   "source": [
    "N. Koblitz. A Course in Number Theory and Cryptography. New York: Springer, second edition, 1994. p.83-124. ISBN 978-1-4612-6442-2. doi: 10.1007/978-1-4419-8592-7."
   ]
  },
  {
   "cell_type": "markdown",
   "id": "3bb291ae-05ce-4124-b18d-0077f2c51180",
   "metadata": {},
   "source": [
    "C. Paar And J. Pelzl. Understanding Cryptography, A Textbook for Students and Practitioners. Berlin: Springer, 2010. p.173-204. ISBN 978-3-642-04100-6."
   ]
  }
 ],
 "metadata": {
  "kernelspec": {
   "display_name": "Python 3",
   "language": "python",
   "name": "python3"
  },
  "language_info": {
   "codemirror_mode": {
    "name": "ipython",
    "version": 3
   },
   "file_extension": ".py",
   "mimetype": "text/x-python",
   "name": "python",
   "nbconvert_exporter": "python",
   "pygments_lexer": "ipython3",
   "version": "3.9.4"
  }
 },
 "nbformat": 4,
 "nbformat_minor": 5
}
