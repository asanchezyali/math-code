{
 "cells": [
  {
   "cell_type": "markdown",
   "metadata": {},
   "source": [
    "## Sistema formal MIU - Acertijo MU"
   ]
  },
  {
   "cell_type": "markdown",
   "metadata": {},
   "source": [
    "En esta ocasión se hará una breve introdución a el acertijo $MU$; el cual representa un pequeño <em>sistema formal</em>. Este acertijo fue planteado por Hofstadter en 1979 en su libro Godel, Escher, Bach. An Eternal Golden Braid. El objetivo del acertijo propuesto por Hofstadter es producir la cadena MU (de ahí su nombre de Acertijo $MU$) dentro de un sistema formal conocido como el sistema $MIU$; el nombre del sistema se toma del hecho de que sólo emplea tres letras del alfabeto: $M$, $I$, $U$. Esto significa que las cadenas del sistema $MIU$ estarán formadas exclusivamente por esas tres letras. Para comenzar, el sistema $MIU$ parte de una cadena inicial, la cadena $MI$, es decir, $MI$ es el único axioma del sistema en cuestión. Las cadenas que sean producidas deberán conseguirse aplicando las reglas que se mencionan a continuación:"
   ]
  },
  {
   "cell_type": "markdown",
   "metadata": {},
   "source": [
    "* **Regla 1**. Si se tiene una cadena cuya última letra sea $I$, se le puede agregar una $U$ al final. Dicho en otras palabras, si $xI$ es un teorema, también lo es $xIU$. En este caso $x$ representa cualquier cadena arbitraria. Por ejemplo, si se tiene la cadena $MII$, entonces se puede obtener $MIIU$.\n",
    "\n",
    "* **Regla 2**. Suponga que $Mx$  es un teorema. En tal caso también $Mxx$ es un teorema. Por ejemplo, si se tiene la cadena $MIU$ se puede obtener la cadena $MIUIU$.\n",
    "\n",
    "* **Regla 3**. Si en una de las cadenas de la colección aparece la secuencia $III$, puede elaborarse una nueva cadena sustituyendo $III$ por $U$. Por ejemplo, si se tiene la cadena $UMIIIMU$ se puede elaborar $UMUMU$. Observe que las tres $III$ deben  ser consecutivas.\n",
    "\n",
    "* **Regla 4**. Si aparece $UU$ en el interior de una de las cadenas, está permitida su eliminación. Por ejemplo, dado $MUUUIII$ se puede obtener $MUIII$."
   ]
  },
  {
   "cell_type": "markdown",
   "metadata": {},
   "source": [
    "Un primer intento para resolver este acertijo, es proceder a generar de manera manual algunas cadenas, como primer paso, se observa que a partir de el axioma $MI$ y aplicando las reglas, se pueden obtener las siguientes cadenas:\n",
    "1. $MIU$\n",
    "2. $MII$"
   ]
  },
  {
   "cell_type": "markdown",
   "metadata": {},
   "source": [
    "La primera cadena se obtiene después de aplicar la regla 1, y la segunda, casualmente después de aplicar la regla 2. Es posible observar que no se pueden aplicar las reglas 3 y 4 a $MI$. "
   ]
  },
  {
   "cell_type": "markdown",
   "metadata": {},
   "source": [
    "Después se tiene que ver qué cadenas se pueden generar de $MIU$ y cuáles de $MII$. De $MIU$ solo es posible generar $MIUIU$; sin embargo, de $MII$ se pueden generar $MIIU$ y $MIIII$. Si se sigue aplicando este proceso, se tendrá que buscar qué cadenas ahora se pueden formar de $MIUIU$, $MIIU$ y $MIII$, y seguir así secuencialmente hasta que en alguna de esas generaciones se encuentre la cadena $MU$."
   ]
  },
  {
   "cell_type": "markdown",
   "metadata": {},
   "source": [
    "<a id='1'></a>\n",
    "<div align=\"center\">\n",
    "<img src=\"figures/treeMIU.svg\">\n",
    "</div>"
   ]
  },
  {
   "cell_type": "markdown",
   "metadata": {},
   "source": [
    "De lo anterior se puede deducir que, esta búsqueda nos lleva a la generación de un árbol de teoremas como el mostrado en la [Figura 1](#1) , y como puede observarse, cada nodo puede tener una cantidad variada de hijos. En un principio, se podría pensar que cada nodo solo puede tener a lo máximo cuatro hijos, pero si se analiza detenidamente el problema, se puede llegar a la conclusión de que no necesariamente será así, por ejemplo, de la cadena $MIIIIIIIU$ aplicando solamente la regla 3 se pueden obtener las siguientes cadenas:\n",
    "\n",
    "1. $MUIIIIU$\n",
    "2. $MIUIIIU$\n",
    "3. $MIIUIIU$\n",
    "4. $MIIIUIU$\n",
    "5. $MIIIIUU$"
   ]
  },
  {
   "cell_type": "markdown",
   "metadata": {},
   "source": [
    "De aquí se deduce que el número de hijos de cada nodo es variable y puede ser muy grande."
   ]
  },
  {
   "cell_type": "markdown",
   "metadata": {},
   "source": [
    "Para facilitar el ejercicio se puede hacer uso de algún lenguaje de programación como por ejemplo python y hacer una codificación de las reglas del sistema formal MIU, algo como lo que se muestra a continuación:"
   ]
  },
  {
   "cell_type": "code",
   "execution_count": 10,
   "metadata": {},
   "outputs": [],
   "source": [
    "import re\n",
    "class MIU:\n",
    "    \n",
    "    def __init__(self):\n",
    "        # Definition of the primary chain.\n",
    "        self.state = 'MI'\n",
    "    \n",
    "    def get_state(self):\n",
    "        # Check the game status.\n",
    "        return self.state\n",
    "    \n",
    "    def reset(self):\n",
    "        # Restart the game state. \n",
    "        self.state = 'MI'\n",
    "        \n",
    "    def rule_one(self):\n",
    "        # Definition of rule one of the MIU system.\n",
    "        if self.state[-1] == 'I':\n",
    "            \n",
    "            self.state = self.state + 'U'\n",
    "            \n",
    "        else:\n",
    "            \n",
    "            print('Can not use this rule...')\n",
    "            \n",
    "        return self.state\n",
    "    \n",
    "    def rule_two(self):\n",
    "        # Definition of rule two of the MIU system.\n",
    "        self.state = self.state + self.state[1:]\n",
    "        \n",
    "        return self.state\n",
    "    \n",
    "           \n",
    "    def rule_three(self):\n",
    "        # Definition of rule three of the MIU system.\n",
    "        word = self.state\n",
    "        result = re.finditer(r'(?=(III))', word)  \n",
    "        \n",
    "        words = dict()\n",
    "        for i, j in enumerate(result):\n",
    "            slices = [word[:j.start(1)], word[j.end(1):]]\n",
    "            chain = 'U'.join(slices)\n",
    "            words[i] = chain\n",
    "            print('Option {}:'.format(i), new_chain)\n",
    "            \n",
    "        if words.keys():  \n",
    "            \n",
    "            option = int(input('Choose an option: '))\n",
    "            self.state = words.get(option)\n",
    "            \n",
    "        else:\n",
    "            \n",
    "            print('Can not use this rule...')\n",
    "        \n",
    "        return self.state\n",
    "    \n",
    "    \n",
    "    def rule_four(self):\n",
    "        # Definition of rule four of the MIU system.\n",
    "        word = self.state\n",
    "        result = re.finditer(r'(?=(UU))', word) \n",
    "            \n",
    "        words = dict()\n",
    "        for i, j in enumerate(result):\n",
    "            new_chain = word[:j.start(1)] + word[j.end(1):]\n",
    "            words[i] = new_chain\n",
    "            print('Option {}:'.format(i), new_chain)\n",
    "            \n",
    "        if words.keys():\n",
    "        \n",
    "            option = int(input('Choose an option: '))\n",
    "            self.state = words.get(option)\n",
    "            \n",
    "        else:\n",
    "            \n",
    "            print('Can not use this rule...')\n",
    "        \n",
    "        return self.state    "
   ]
  },
  {
   "cell_type": "markdown",
   "metadata": {},
   "source": [
    "Para utilizarlo, solo tienes que hacer una instancia del clase MIU:"
   ]
  },
  {
   "cell_type": "code",
   "execution_count": 11,
   "metadata": {},
   "outputs": [],
   "source": [
    "game = MIU()"
   ]
  },
  {
   "cell_type": "markdown",
   "metadata": {},
   "source": [
    "Luego sería usar cada uno de los métodos de la clase:\n",
    "\n",
    "* `rule_one()`, `rule_two()`, `rule_three()` y `rule_four()` para hacer uso de cualquiera de las reglas del sistema MIU.\n",
    "* `get_state()` para ver el estado del juego.\n",
    "* `reset()` para reiniciar el juego.\n",
    "\n",
    "A continuación algunos ejemplos del uso:"
   ]
  },
  {
   "cell_type": "code",
   "execution_count": 12,
   "metadata": {},
   "outputs": [
    {
     "data": {
      "text/plain": [
       "'MIU'"
      ]
     },
     "execution_count": 12,
     "metadata": {},
     "output_type": "execute_result"
    }
   ],
   "source": [
    "game.rule_one()"
   ]
  },
  {
   "cell_type": "code",
   "execution_count": 13,
   "metadata": {},
   "outputs": [
    {
     "name": "stdout",
     "output_type": "stream",
     "text": [
      "Can not use this rule...\n"
     ]
    },
    {
     "data": {
      "text/plain": [
       "'MIU'"
      ]
     },
     "execution_count": 13,
     "metadata": {},
     "output_type": "execute_result"
    }
   ],
   "source": [
    "game.rule_one()"
   ]
  },
  {
   "cell_type": "code",
   "execution_count": 14,
   "metadata": {},
   "outputs": [
    {
     "name": "stdout",
     "output_type": "stream",
     "text": [
      "Can not use this rule...\n"
     ]
    },
    {
     "data": {
      "text/plain": [
       "'MIU'"
      ]
     },
     "execution_count": 14,
     "metadata": {},
     "output_type": "execute_result"
    }
   ],
   "source": [
    "game.rule_four()"
   ]
  },
  {
   "cell_type": "code",
   "execution_count": 15,
   "metadata": {},
   "outputs": [
    {
     "data": {
      "text/plain": [
       "'MIUIU'"
      ]
     },
     "execution_count": 15,
     "metadata": {},
     "output_type": "execute_result"
    }
   ],
   "source": [
    "game.rule_two()"
   ]
  },
  {
   "cell_type": "code",
   "execution_count": 16,
   "metadata": {},
   "outputs": [
    {
     "data": {
      "text/plain": [
       "'MIUIUIUIU'"
      ]
     },
     "execution_count": 16,
     "metadata": {},
     "output_type": "execute_result"
    }
   ],
   "source": [
    "game.rule_two()"
   ]
  },
  {
   "cell_type": "code",
   "execution_count": 17,
   "metadata": {},
   "outputs": [],
   "source": [
    "game.reset()"
   ]
  },
  {
   "cell_type": "code",
   "execution_count": 18,
   "metadata": {},
   "outputs": [
    {
     "data": {
      "text/plain": [
       "'MI'"
      ]
     },
     "execution_count": 18,
     "metadata": {},
     "output_type": "execute_result"
    }
   ],
   "source": [
    "game.get_state()"
   ]
  },
  {
   "cell_type": "markdown",
   "metadata": {},
   "source": [
    "Finalmente, la pregunta es ¿Puedes encontrar MU? ¿Puedes construir un nuevo algoritmo que permita decidir si una cadena $x$ es demostrable dentro del sistema MIU? ¿Qué quiere decir que una cadena es demostrable en MIU? Espero seguir discutiendo estas preguntas en el futuro, por ahora les recomiendo que se pasen por la referencia que motivo esta entrada."
   ]
  },
  {
   "cell_type": "markdown",
   "metadata": {},
   "source": [
    "## Referencias\n",
    "* Hofstadter. 1979. Godel, Escher, Bach. An Eternal Golden Braid."
   ]
  }
 ],
 "metadata": {
  "kernelspec": {
   "display_name": "Python 3",
   "language": "python",
   "name": "python3"
  },
  "language_info": {
   "codemirror_mode": {
    "name": "ipython",
    "version": 3
   },
   "file_extension": ".py",
   "mimetype": "text/x-python",
   "name": "python",
   "nbconvert_exporter": "python",
   "pygments_lexer": "ipython3",
   "version": "3.9.1"
  }
 },
 "nbformat": 4,
 "nbformat_minor": 4
}
