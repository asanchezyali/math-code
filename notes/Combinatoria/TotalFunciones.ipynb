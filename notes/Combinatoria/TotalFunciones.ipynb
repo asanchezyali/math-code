{
 "cells": [
  {
   "cell_type": "markdown",
   "metadata": {},
   "source": [
    "Sea $A_m$ y $A_n$ conjuntos con $m$ y $n$ elementos respectivamente y $m<n$. ¿Cuántas funciones se pueden definir de $A_m$ a $A_n$? En otras palabras, cómo determinar la candidad de elementos que tiene el conjunto:\n",
    "\\begin{equation}\\nonumber\n",
    "F=\\{f\\,|\\, f:A_m\\to A_n \\mbox{ es una función}\\}\n",
    "\\end{equation}"
   ]
  },
  {
   "cell_type": "code",
   "execution_count": 8,
   "metadata": {},
   "outputs": [],
   "source": [
    "from sympy import Range\n",
    "import numpy as np\n",
    "from math import factorial\n",
    "\n",
    "def set_mn(m, n):\n",
    "    result = list()\n",
    "    for element in Range(m + 1)**n:\n",
    "        if sum(element) == m:\n",
    "            result.append(element)\n",
    "    return result"
   ]
  },
  {
   "cell_type": "code",
   "execution_count": 11,
   "metadata": {},
   "outputs": [],
   "source": [
    "from operator import mul\n",
    "def combinatory(m, partition):\n",
    "    result = 0\n",
    "    if np.sum(partition) == m:\n",
    "        numerator = factorial(m)\n",
    "        denominator = np.prod([factorial(i) for i in partition])\n",
    "        result = numerator/denominator\n",
    "    return int(result)"
   ]
  },
  {
   "cell_type": "code",
   "execution_count": 12,
   "metadata": {},
   "outputs": [],
   "source": [
    "def card(m, n):\n",
    "    result = 0\n",
    "    indices = set_mn(m, n)\n",
    "    for element in indices:\n",
    "        result += combinatory(m, element)\n",
    "    return result"
   ]
  },
  {
   "cell_type": "code",
   "execution_count": 13,
   "metadata": {},
   "outputs": [
    {
     "data": {
      "text/plain": [
       "9"
      ]
     },
     "execution_count": 13,
     "metadata": {},
     "output_type": "execute_result"
    }
   ],
   "source": [
    "card(2, 3)"
   ]
  },
  {
   "cell_type": "code",
   "execution_count": null,
   "metadata": {},
   "outputs": [],
   "source": []
  },
  {
   "cell_type": "code",
   "execution_count": null,
   "metadata": {},
   "outputs": [],
   "source": []
  },
  {
   "cell_type": "code",
   "execution_count": null,
   "metadata": {},
   "outputs": [],
   "source": []
  },
  {
   "cell_type": "code",
   "execution_count": null,
   "metadata": {},
   "outputs": [],
   "source": []
  },
  {
   "cell_type": "code",
   "execution_count": null,
   "metadata": {},
   "outputs": [],
   "source": []
  },
  {
   "cell_type": "code",
   "execution_count": null,
   "metadata": {},
   "outputs": [],
   "source": []
  }
 ],
 "metadata": {
  "kernelspec": {
   "display_name": "Python 3",
   "language": "python",
   "name": "python3"
  },
  "language_info": {
   "codemirror_mode": {
    "name": "ipython",
    "version": 3
   },
   "file_extension": ".py",
   "mimetype": "text/x-python",
   "name": "python",
   "nbconvert_exporter": "python",
   "pygments_lexer": "ipython3",
   "version": "3.8.6"
  }
 },
 "nbformat": 4,
 "nbformat_minor": 4
}
