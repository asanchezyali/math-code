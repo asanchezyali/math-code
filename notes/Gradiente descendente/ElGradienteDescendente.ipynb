{
 "cells": [
  {
   "cell_type": "markdown",
   "metadata": {},
   "source": [
    "## El algoritmo del gradiente descendente"
   ]
  },
  {
   "cell_type": "markdown",
   "metadata": {},
   "source": [
    "El **gradiente descendente** (GD) es un algoritmo de optimización genérico, capaz de encontrar soluciones óptimas para una amplia gama de problemas. La idea del gradiente descendente es ajustar los parámetros de forma iterativa para minimizar una función."
   ]
  },
  {
   "cell_type": "markdown",
   "metadata": {},
   "source": [
    "Concretamente, se tiene de una función diferenciable convexa[<sup>1](#10), $f:\\Omega\\subset\\mathbb{R}^n \\to \\mathbb{R}$, eel algoritmo GD permite encontrar un $w$ en $\\Omega$ tal que $f(w)$ es un mínimo, en otras palabras, GD se utiliza para determinar los elementos del siguiente conjunto[<sup>2](#11):"
   ]
  },
  {
   "cell_type": "markdown",
   "metadata": {},
   "source": [
    "<a id='1'></a>\n",
    "\\begin{equation}\\tag{1}\n",
    "w \\in \\operatorname*{argmin\\,\\,}_{ w\\in \\Omega} f(w).\n",
    "\\end{equation}"
   ]
  },
  {
   "cell_type": "markdown",
   "metadata": {},
   "source": [
    "Para determinar los valores de $w$ que optimiza la función $f(w)$, GD hace uno de una serie de iteracciones que se hacen de acuerdo con la siguiente regla de actualización:"
   ]
  },
  {
   "cell_type": "markdown",
   "metadata": {},
   "source": [
    "<a id='2'></a>\n",
    "\\begin{equation}\\tag{2}\n",
    "    w_{t+1} = w_{t} -\\eta_{t} \\nabla f(w_{t}),\n",
    "\\end{equation}"
   ]
  },
  {
   "cell_type": "markdown",
   "metadata": {},
   "source": [
    "que usualmente se inicializa en cero y cada iteración, como se puede observar, se hace en la dirección negativa del gradiente. Recuerde que el gradiente se define como el vector:"
   ]
  },
  {
   "cell_type": "markdown",
   "metadata": {},
   "source": [
    "\\begin{equation}\\nonumber\n",
    "\\nabla f(w)=\\left(\\frac{\\partial f}{\\partial x_{1}}(w),\\dots, \\frac{\\partial f}{\\partial x_{n}}(w)\\right).\n",
    "\\end{equation}"
   ]
  },
  {
   "cell_type": "markdown",
   "metadata": {},
   "source": [
    "Un hiperparámetro importante en GD es el $\\eta_{t} > 0$, denominado como **tasa de aprendizaje**. Si la tasa de aprendizaje es demasiado pequeña, entonces el algoritmo tendrá que pasar por muchas iteraciones para converger, lo que llevará mucho tiempo. Por otro lado, si la tasa de aprendizaje es demasiado alta, es posible que se salte el mínimo global y termine en otro lado, posiblemente incluso más alto que antes. Esto podría hacer que el algoritmo diverja, con valores cada vez mayores, sin encontrar una buena solución."
   ]
  },
  {
   "cell_type": "markdown",
   "metadata": {},
   "source": [
    "## ¿Cómo funciona este algoritmo?"
   ]
  },
  {
   "cell_type": "markdown",
   "metadata": {},
   "source": [
    "Este algoritmo se define a partir de las dos características esenciales que tiene el gradiente, las cuales se mencionan a continuación:\n",
    "1. El gradiente es perpendicular a las curvas de nivel de $f$, de manera que para cualquier dirección $v\\in \\mathbb{R}^{n}$ ortogonal a $\\nabla f(p)$, es una dirección de cambio nulo. Esto se observa facilmente al parametrizar la curva $S_{k}=\\{p\\in \\Omega: f(p)=k\\}$  mediante una función $\\alpha:I\\subset \\mathbb{R}\\to S_{k}$ tal que $\\alpha(0)=p$, pues al calcular el producto punto de $\\nabla f(p)$ con la velocidad de $\\alpha$ en $p$ se obtiene que la tasa de cambio es:<br><br>\\begin{equation}\\nonumber|df_{p}(\\alpha'(0))|=|\\nabla f(p)\\cdot \\alpha' (0)| = 0, \\end{equation}<br> es decir, la tasa de cambio en la dirección de $\\alpha'(0)$ es cero."
   ]
  },
  {
   "cell_type": "markdown",
   "metadata": {},
   "source": [
    "<a id='1'></a>\n",
    "<div align=\"center\">\n",
    "<img src=\"figures/gd.svg\">\n",
    "</div>"
   ]
  },
  {
   "cell_type": "markdown",
   "metadata": {},
   "source": [
    "2. El gradiente indica la dirección ascendente de la tasa de máximo cambio de $f$ en el punto $p$. La tasa máxima se calcula como $||\\nabla f(p)||$. La razón de esto, se aprecia cuando se considera un vector $v\\in \\mathbb{R}$ tal que $||v||=1$, de manera que para este vector la tasa de cambio es:<br><br>\\begin{equation}\\nonumber |df_{p}(v)|=||\\nabla f(p)||||v|||cos\\theta|\\leq ||\\nabla f(p)|| \\end{equation}<br> Dicha magnitud es máxima cuando $\\theta = 2n\\pi$ con $n\\in \\mathbb{Z}$, es decir, para que $|df_{p}(v)|$ sea máxima, los vectores $\\nabla f(p)$ y $v$ deben ser paralelos, de esta manera,  la función $f$ crece más rápidamente en la dirección del vector $\\nabla f(p)$ y decrece más rápidamente en la dirección de $-\\nabla f(p)$, en efecto, si $v=\\frac{\\nabla f(p)}{||\\nabla f(p)||}$, entonces $df_{p}(v)=||\\nabla f(p)||$."
   ]
  },
  {
   "cell_type": "markdown",
   "metadata": {},
   "source": [
    "La iteración definida en la [Ecuación 2](#2) permite construir una sucesión de puntos $\\{w_t\\}_{t\\in [m]_{\\mathbb{N}_0}}$ de tal manera que $f(w_{t+1})<f(w_{t})$. Este hecho se puede evidenciar mediante el polinomio de Taylor, en efecto si se considera un punto inicial $w_{0}$, entonces para el primer termino de la expansión de Taylor alrededor de $w_{0}$ se tiene:\n",
    "\n",
    "\\begin{equation}\\nonumber\n",
    "f(w_{1})-f(w_{0})\\approx \\langle w_{1}-w_{0}, \\nabla f(w_{0})\\rangle=-\\eta ||\\nabla f(w_{o})||^2\n",
    "\\end{equation}\n",
    "\n",
    "Por consiguiente:\n",
    "\n",
    "\\begin{equation}\\nonumber\n",
    "f(w_{1})-f(w_{0}))=-\\eta ||\\nabla f(w_{o})||^2 + o(\\eta)\n",
    "\\end{equation}\n",
    "\n",
    "de tal manera que para un $\\eta$ adecuado se puede garantizar que $f(w_{1})<f(w_{0})$. El razanomiento se puede repetir para $w_{t+1}$ y $w_{t}$, de tal manera que $w_{t+1}$ es una mejora de $w_{t}$."
   ]
  },
  {
   "cell_type": "markdown",
   "metadata": {},
   "source": [
    "De acuerdo a las consideraciones anteriores, el algoritmo del gradiente descendente se define de la siguiente manera:"
   ]
  },
  {
   "cell_type": "markdown",
   "metadata": {},
   "source": [
    "---\n",
    "**Algoritmo del gradiente descendente (AGD)**\n",
    "<blockquote> \n",
    "Input: $w_0$, $m$, $\\eta$, $\\nabla f(w)$\n",
    "<br>1. &nbsp; &nbsp;&nbsp;for $k=0$ to $m$ do:\n",
    "<br>2. &nbsp; &nbsp;&nbsp;&nbsp; &nbsp;&nbsp;&nbsp;$w\\leftarrow w - \\eta \\nabla f(w)$\n",
    "<br>3. &nbsp; &nbsp;&nbsp;end    \n",
    "<br>return: $w$\n",
    "\n",
    "</blockquote>\n",
    "\n",
    "---"
   ]
  },
  {
   "cell_type": "markdown",
   "metadata": {},
   "source": [
    "donde $w_0$ es la condición inicial del algoritmo, $m$ es el número máximo de iteraciones, $\\eta$ es la tasa de aprendizaje y $\\nabla f(w)$ es la función gradiente de $f$. Observe que la regla de actualización se definió apartir de la [Ecuación 2](#2). Es importante notar que finalmente $w_{t+1}$ es tal que:\n",
    "\n",
    "\\begin{equation}\\nonumber\n",
    "w_{t+1}\\in \\operatorname*{argmin\\,\\,}_{ w\\in \\Omega} \\frac{1}{2\\eta_{t}}||w-w_{t}+\\eta_{t}\\nabla f(w_{t})||.\n",
    "\\end{equation}\n",
    "\n",
    "Es fácil comprobar que el problema de optimización anterior se puede reescribir como:\n",
    "\n",
    "\\begin{equation}\n",
    "\\operatorname*{argmin\\,\\,}_{ w\\in \\Omega} \\frac{1}{2\\eta_{t}}||w-w_{t}+\\eta_{t}\\nabla f(w_{t})||=\\operatorname*{argmin\\,\\,}_{ w\\in \\Omega} \\left(f(w_{t}) + \\langle \\nabla f(w_t), w-w_t \\rangle + \\frac{1}{2\\eta_{t}}||w-w_{t}||\\right)\n",
    "\\end{equation}\n",
    "\n",
    "Por lo tanto, el $w_{t+1}$ es obtenido para minimizar la linealización de la función $f$ alrededor del punto $w_{t}$, manteniendolo lo suficientemente aproximado a este el punto $w_{t}$."
   ]
  },
  {
   "cell_type": "markdown",
   "metadata": {},
   "source": [
    "## ¿Cuándo parar las iteraciones? "
   ]
  },
  {
   "cell_type": "markdown",
   "metadata": {},
   "source": [
    "Es importante aclarar, que a pesar de que el algoritmo ejecute el máximo de iteraciones, el resultado arrojado no necesariamente es una buena aproximación a el elemento minimizador de la función $f$. Por lo tanto es necesario definir un criterio que permita decidir si el resultado obteniendo es adecuado o no.\n",
    "\n",
    "Como primer criterio de parada del algoritmo que se le puede ocurrir al lector es detener las iteraciones cuando $||\\nabla f(x_{t})||=0$, pero esto no es práctico debido a diferentes factores que influyen, como el comportamiento de la coma flotante y la elección adecuada de la tasa de aprendizaje. Usualmente en la práctica se suele definir un parametro de tolerancia $\\epsilon>0$ que junto con alguno de los siguientes criterios se usan para detener las iteraciones:\n",
    "* **Condición sobre el gradiente:** <br><br>\\begin{equation}\\nonumber ||\\nabla f(x_{t})||<\\epsilon\\end{equation}<br>\n",
    "* **Condición sobre las diferencias sucesivas relativas de la función objetivo:** <br><br>\\begin{equation}\\nonumber \\frac{|f(x_{t+1})-f(x_{t})|}{|f(x_{t})|}<\\epsilon,\\end{equation}<br> si el denominador es muy pequeño, es conveniente remplazarlo por $\\max\\{1, |f(x)|\\}$.\n",
    "* **Condición sobre las diferencias sucesivas relativas de la variable independiente:** <br><br>\\begin{equation}\\nonumber \\frac{||x_{t+1}-x_{t}||}{||x_{t}||}<\\epsilon,\\end{equation}<br> si el denominador es muy pequeño, es conveniente remplazarlo por $\\max\\{1, ||x_{t}||\\}$."
   ]
  },
  {
   "cell_type": "markdown",
   "metadata": {},
   "source": [
    "## Algunas consideraciones sobre las tasas de aprendizaje."
   ]
  },
  {
   "cell_type": "markdown",
   "metadata": {},
   "source": [
    "* La principal desventaja del AGD se encuentra en el ajuste adecuado de la tasa de aprendizaje $\\eta$. Si $\\eta$ toma un valor muy pequeño, es necesario un gran número de iteraciones para que el proceso converga; si por otro lado $\\eta$ es muy grande, entonces puede ocurrir que el proceso no converga.\n",
    "\n",
    "* La tasa de aprendizaje $\\eta$ es determinada por la minimización exacta de:<br><br>\\begin{equation}\\nonumber\\eta_{t} \\in \\operatorname*{argmin\\,\\,}_{\\eta>0}f(x_{t}-\\eta\\nabla f(x_{t})). \\end{equation}<br> Esto se usa principalmente para problemas de caracter cuadrático y en donde el cálculo de $\\eta$ es económico pero una evaluación de gradiente costosa; de lo contrario, no vale la pena el esfuerzo de resolver este subproblema exactamente."
   ]
  },
  {
   "cell_type": "markdown",
   "metadata": {},
   "source": [
    "## Ejemplo: Gradiente descente para una forma cuadrática\n",
    "\n",
    "Asuma que $Q$ es simétrica y definida positiva ($x^{\\top}Q x>0$ para cualquier $x\\neq 0$). Considere la forma cuadrática:\n",
    "\n",
    "\\begin{equation}\\nonumber\n",
    "f(x)=\\frac{1}{2}x^{\\top}Qx - b^{\\top}x\n",
    "\\end{equation}\n",
    "\n",
    "el lector puede comprobar que su gradiente es:\n",
    "\n",
    "\\begin{equation}\\nonumber\n",
    "\\nabla f(x)=Qx-b.\n",
    "\\end{equation}\n",
    "\n",
    "Así la secuencia de $\\{x_{t}\\}_{t\\in [m]}$ que inicia en cualquier $x_{0}$ viene dada por:\n",
    "\n",
    "\\begin{equation}\\nonumber\n",
    "x_{t+1}=x_{t}-\\eta_{k}(Qx-b)\n",
    "\\end{equation}\n",
    "\n",
    "con $g_{t}:=\\nabla f(x_t)$ se  define:\n",
    "\n",
    "\\begin{equation}\\nonumber\n",
    "\\eta_{t}=\\frac{g_{t}^{\\top}g_{t}}{g_{t}^{\\top}Qg_{t}}.\n",
    "\\end{equation}\n",
    "\n",
    "El lector puede validar que con el valor de $\\eta_{t}$ definido anteriormente se tiene:\n",
    "\n",
    "\\begin{equation}\\nonumber\n",
    "\\eta_{t}\\in \\operatorname*{argmin\\,\\,}_{\\eta>0}f(x_{t}-\\eta\\nabla f(x_{t})).\n",
    "\\end{equation}"
   ]
  },
  {
   "cell_type": "markdown",
   "metadata": {},
   "source": [
    "### ¿Cómo implementarlo en python?"
   ]
  },
  {
   "cell_type": "markdown",
   "metadata": {},
   "source": [
    "Para las consideraciones del ejemplo anterior, es fácil definir una clase en Python para todas las formas cuadraticas, junto con tres métodos principales que permiten evaluar la forma cuadrática, calcular $\\eta$  y  el gradiente en un punto $x$. Esto sería algo así:"
   ]
  },
  {
   "cell_type": "code",
   "execution_count": 1,
   "metadata": {},
   "outputs": [],
   "source": [
    "import numpy as np\n",
    "\n",
    "class QuadraticForm:\n",
    "    \n",
    "    def __init__(self, Q, b):\n",
    "        \"\"\"\n",
    "        Inputs:\n",
    "            Q: Positive definite symmetric matrix.\n",
    "            b: Rn vector.        \n",
    "        \"\"\"        \n",
    "        self.Q = np.array(Q)        \n",
    "        self.b = np.array(b).reshape(-1, 1)\n",
    "        \n",
    "    def evaluate(self, x):\n",
    "        \"\"\"\n",
    "        Method to evaluate the quadratic form.\n",
    "        Inputs:\n",
    "            x: Rn vector.\n",
    "        Ouput:\n",
    "            Value of the quadratic form in x. \n",
    "        \"\"\"\n",
    "        x = np.array(x).reshape(-1, 1)\n",
    "        Q = self.Q\n",
    "        b = self.b    \n",
    "        return (1/2) * x.T.dot(Q.dot(x)) - b.T.dot(x)\n",
    "    \n",
    "    def eta(self, x):  \n",
    "        \"\"\"\n",
    "        Method to evaluate eta.\n",
    "        Inputs:\n",
    "            x: Rn vector.\n",
    "        Output:\n",
    "            Value of eta in x. \n",
    "        \"\"\"\n",
    "        gradient_x = self.gradient(x)  \n",
    "        numerator = gradient_x.T.dot(gradient_x)\n",
    "        denominator = gradient_x.T.dot(Q.dot(gradient_x))\n",
    "        return numerator / denominator\n",
    "    \n",
    "    def gradient(self, x):\n",
    "        \"\"\"\n",
    "        Method to evaluate the gradient.\n",
    "        Inputs:\n",
    "            x: Rn vector.\n",
    "        Output:\n",
    "            Value of the gradient in x.\n",
    "        \"\"\"\n",
    "        x = np.array(x).reshape(-1, 1)\n",
    "        return Q.dot(x) - b    "
   ]
  },
  {
   "cell_type": "markdown",
   "metadata": {},
   "source": [
    "El AGD se implementaría de la siguiente forma:"
   ]
  },
  {
   "cell_type": "code",
   "execution_count": 2,
   "metadata": {},
   "outputs": [],
   "source": [
    "def gradient_descent(initial_x, eta, epsilon, function):\n",
    "    \"\"\"\n",
    "    Gradient descent Algorithm.\n",
    "    Inputs:\n",
    "        initial_x: Rn vector.\n",
    "        eta: learning rate.\n",
    "        epsilon: precision.\n",
    "        function: Quadractic Form.\n",
    "    Output:\n",
    "        Point where the function reaches the minimum.\n",
    "    \"\"\"\n",
    "\n",
    "    k = 0\n",
    "    x = np.array(initial_x).reshape(-1, 1)\n",
    "    \n",
    "    while True:\n",
    "        \n",
    "        gradient_x = function.gradient(x) \n",
    "\n",
    "        if np.linalg.norm(gradient_x) < epsilon:\n",
    "            print('stop: {}'.format(k))\n",
    "            break\n",
    "\n",
    "        if isinstance(eta, (int, float)):\n",
    "            x = x - eta * gradient_x\n",
    "        else:  \n",
    "            x = x - eta(x) * gradient_x\n",
    "            \n",
    "        k += 1\n",
    "\n",
    "    return x"
   ]
  },
  {
   "cell_type": "markdown",
   "metadata": {},
   "source": [
    "Para ejemplicar el funcionamiento del código anterior, se considera la matriz simétrica y positiva definida:\n",
    "\n",
    "\\begin{equation}\\nonumber\n",
    "Q = \\left(\\begin{array}{cc} 1 & 0.5 \\\\ 0.5 & 3 \\end{array}\\right)\n",
    "\\end{equation}\n",
    "\n",
    "y vector $b$ dado por:\n",
    "\n",
    "\\begin{equation}\\nonumber\n",
    "b = \\left(\\begin{array}{c} 3 \\\\ 0.5 \\end{array}\\right)\n",
    "\\end{equation}"
   ]
  },
  {
   "cell_type": "markdown",
   "metadata": {},
   "source": [
    "De esta manera la forma cuadrática en Python y usando código anterior quedaría así:"
   ]
  },
  {
   "cell_type": "code",
   "execution_count": 3,
   "metadata": {},
   "outputs": [],
   "source": [
    "Q = np.array([[1, 0.5], [0.5, 3]])\n",
    "b = np.array([3, 0.5]).reshape(-1, 1)"
   ]
  },
  {
   "cell_type": "code",
   "execution_count": 4,
   "metadata": {},
   "outputs": [],
   "source": [
    "quadratic_form = QuadraticForm(Q, b) "
   ]
  },
  {
   "cell_type": "markdown",
   "metadata": {},
   "source": [
    "Para encontrar el $x$ minimizador de la función se tiene dos opciones, una es definir el parámetro $\\eta$ manualmente, y la otra es usar el método `eta` de la clase `QuadracticForm`. A continuación se hará uso de los dos casos."
   ]
  },
  {
   "cell_type": "markdown",
   "metadata": {},
   "source": [
    "Para empezar se ejecuta el algoritmo en algún punto $x$:"
   ]
  },
  {
   "cell_type": "code",
   "execution_count": 5,
   "metadata": {},
   "outputs": [],
   "source": [
    "initial_x = np.array([105.5, 105.8])"
   ]
  },
  {
   "cell_type": "markdown",
   "metadata": {},
   "source": [
    "Luego ejecuta el AGD con $\\eta = 0.0001$ y $\\epsilon=0.0000001$:"
   ]
  },
  {
   "cell_type": "code",
   "execution_count": 6,
   "metadata": {},
   "outputs": [
    {
     "name": "stdout",
     "output_type": "stream",
     "text": [
      "stop: 230300\n"
     ]
    },
    {
     "data": {
      "text/plain": [
       "array([[ 3.18181829],\n",
       "       [-0.36363639]])"
      ]
     },
     "execution_count": 6,
     "metadata": {},
     "output_type": "execute_result"
    }
   ],
   "source": [
    "gradient_descent(initial_x, eta=0.0001, epsilon=0.0000001, function=quadratic_form)"
   ]
  },
  {
   "cell_type": "markdown",
   "metadata": {},
   "source": [
    "Como el lector podrá notar el algoritmo tardó 230300 iteraciones para obtener un candidato al mínimo con la precisión deseada. A continuación se ejecuta usando el método `eta` de la forma cuadrática:"
   ]
  },
  {
   "cell_type": "code",
   "execution_count": 7,
   "metadata": {},
   "outputs": [
    {
     "name": "stdout",
     "output_type": "stream",
     "text": [
      "stop: 15\n"
     ]
    },
    {
     "data": {
      "text/plain": [
       "array([[ 3.1818182 ],\n",
       "       [-0.36363637]])"
      ]
     },
     "execution_count": 7,
     "metadata": {},
     "output_type": "execute_result"
    }
   ],
   "source": [
    "gradient_descent(initial_x, eta=quadratic_form.eta, epsilon=0.0000001, function=quadratic_form)"
   ]
  },
  {
   "cell_type": "markdown",
   "metadata": {},
   "source": [
    "En esta ocasión el algoritmo tardó 15 iteraciones. Esto representa una mejora en tiempo de ejecución bastante considerable con respecto a el experimento anterior."
   ]
  },
  {
   "cell_type": "markdown",
   "metadata": {},
   "source": [
    "¿Cómo se puede asegurar que este es el mínimo de la función? Para este caso en particular, el mínimo ocurre cuando $Qx = b$, por lo tanto es suficiente con resolver este sistema lineal. Usando los métodos de la librería numpy se puede resolver rápidamente así:"
   ]
  },
  {
   "cell_type": "code",
   "execution_count": 8,
   "metadata": {},
   "outputs": [
    {
     "data": {
      "text/plain": [
       "array([[ 3.18181818],\n",
       "       [-0.36363636]])"
      ]
     },
     "execution_count": 8,
     "metadata": {},
     "output_type": "execute_result"
    }
   ],
   "source": [
    "np.linalg.solve(Q, b)"
   ]
  },
  {
   "cell_type": "markdown",
   "metadata": {},
   "source": [
    "Como se puede observar, el resultado es muy aproximado al valor que se obtuvo al ejecutar AGD, por lo que el algoritmo funciona bastante bien."
   ]
  },
  {
   "cell_type": "markdown",
   "metadata": {},
   "source": [
    "## Conclusiones\n",
    "* Se logró aprender que el AGD es un algoritmo iterativo empleado principalmente para resolver problemas de optimización.\n",
    "* La principal desventaja del AGD se encuentra en el ajuste adecuado de la tasa de aprendizaje $\\eta$. Si $\\eta$ toma un valor muy pequeño, es necesario un gran número de iteraciones para que el proceso converga; si por otro lado $\\eta$ es muy grande, entonces puede ocurrir que el proceso no converga.\n",
    "* Finalmente te invito a leer este otro post (<a src='https://alejandrosanchezyali.blogspot.com/2020/10/post-2.html'>Jugando con el gradiente descendente y Python</a>) en donde se análiza el comportamiento general de los algoritmos por gradiente descendente."
   ]
  },
  {
   "cell_type": "markdown",
   "metadata": {},
   "source": [
    "No olvides comentar y suscribirte al blog para que estés enterando de los posts que voy a ir subiendo semana a semana. También sientete en libertad de seguirme en LinkedIn, Twitter, Github e Instagram."
   ]
  },
  {
   "cell_type": "markdown",
   "metadata": {},
   "source": [
    "## Notas\n",
    "<a id=\"10\">[1]</a>. En el contexto de este artículo, se dira que una función $f:\\Omega \\subset \\mathbb{R}^{m}\\to \\mathbb{R}$ es diferenciable si tiene derivada continua en $\\Omega$ y es convexa, si para todo $w, z\\in \\Omega$ y $\\alpha \\in [0, 1]$ se cumple la siguiente condición:\n",
    "\n",
    "\\begin{equation}\\nonumber\n",
    "f(\\alpha w + (1-\\alpha)z)\\leq \\alpha f(w) + (1-\\alpha)f(z).\n",
    "\\end{equation}\n",
    "\n",
    "Note que la condición es valida para todo $m\\geq 1$."
   ]
  },
  {
   "cell_type": "markdown",
   "metadata": {},
   "source": [
    "<a id='1'></a>\n",
    "<div align=\"center\">\n",
    "<img src=\"figures/convexfunction.svg\">\n",
    "</div>"
   ]
  },
  {
   "cell_type": "markdown",
   "metadata": {},
   "source": [
    "<a id=\"11\">[2]</a>. Si $y_{\\min}$ es el mínimo global de una función $f(x)$, entonces se define el operador $\\operatorname*{argmin\\,\\,}$ como siguiente conjunto: $$\\operatorname*{argmin\\,\\,}_{ x \\in X} f(x) = \\{x\\in X: f(x) = y_\\min\\}.$$"
   ]
  },
  {
   "cell_type": "markdown",
   "metadata": {},
   "source": [
    "## Referencias\n",
    "* Kris Hauser. <a src='http://homes.sice.indiana.edu/classes/spring2012/csci/b553-hauserk/gradient_descent.pdf'>Algorithms for optimization and learning. University of Indiana</a>.\n",
    "* <a src ='https://www.andrewng.org/'>Andrew Ng</a>. <a scr='http://cs229.stanford.edu/materials.html'>Machine learning course materials</a>. Technical report, University of Stanford.\n",
    "* Batard, Thomas and Bertalmío, Marcelo. <a scr='https://hal.archives-ouvertes.fr/hal-00782496/document'>Generealized gradient on vector bundle - Aplication to image denoising</a>. Department of Information and Communication Technologies, 2013."
   ]
  },
  {
   "cell_type": "markdown",
   "metadata": {},
   "source": [
    "## Contacto\n",
    "* Participa de la canal de Nerve a través de <a src='https://discord.gg/edPmghPq8K'>Discord</a>.\n",
    "* Se quieres conocer más acerca de este tema me puedes contactar a través de <a src='https://www.classgap.com/me/alejandro-sanchez-yali'>Classgap</a>."
   ]
  }
 ],
 "metadata": {
  "kernelspec": {
   "display_name": "Python 3",
   "language": "python",
   "name": "python3"
  },
  "language_info": {
   "codemirror_mode": {
    "name": "ipython",
    "version": 3
   },
   "file_extension": ".py",
   "mimetype": "text/x-python",
   "name": "python",
   "nbconvert_exporter": "python",
   "pygments_lexer": "ipython3",
   "version": "3.9.1"
  }
 },
 "nbformat": 4,
 "nbformat_minor": 4
}
