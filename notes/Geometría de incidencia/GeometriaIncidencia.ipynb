{
 "cells": [
  {
   "cell_type": "markdown",
   "metadata": {},
   "source": [
    "# Geometría de incidencia"
   ]
  },
  {
   "cell_type": "markdown",
   "metadata": {},
   "source": [
    "Una <b>geometría de incidencia</b> está formada por un conjunto $\\mathbb{E}$ al que se denomina <b>espacio</b> y a cuyos elementos se conocerán como <b>puntos</b>, junto con dos familias disyuntas y no vacías $\\mathcal{L}$, $\\mathcal{P}$ de subconjuntos no vacíos del espacio a cuyos elementos se denominaran respectivamente <b>rectas</b> y <b>planos</b>, de modo que se satisfacen los siguientes axiomas:\n",
    "* **Axioma AI1.** Cualquier par de puntos distintos pertenecen a una única recta.\n",
    "* **Axioma AI2.** Para toda recta, existe al menos dos puntos distintos que pertenecen a ella.\n",
    "* **Axioma AI3.** Para cualquier tripleta de puntos distintos, tales que no pertenecen simultáneamente a ninguna recta, pertenecen a un único plano.\n",
    "* **Axioma AI4.** Para todo plano, existe al menos tres puntos distintos que pertenecen a él y no pertenecen simultaneamente a ninguna recta.\n",
    "* **Axioma AI5.** Si un plano y una recta tienen al menos dos puntos en común, entonces la recta está contenida en el plano.\n",
    "* **Axioma AI6.** Si dos planos tienen un punto en común, entonces tienen dos puntos en común. \n",
    "* **Axioma AI7.** Para todo plano existe al menos un punto que no pertenece a él."
   ]
  },
  {
   "cell_type": "markdown",
   "metadata": {},
   "source": [
    "Cuando tres puntos o más pertenecen simultáneamente a una única recta, entonces se dice que son <b>colineales</b>. También se dirá que cuatro puntos o más son <b>coplanares</b> si pertenecen simultáneamente a un único plano. "
   ]
  },
  {
   "cell_type": "markdown",
   "metadata": {},
   "source": [
    "Los axiomas anteriores pueden tener muchas interpretaciones, debido a que el espacio $\\mathbb{E}$ se considera como un conjunto del cuál no se ha especificado la naturaliza de sus elementos. Con el objetivo de estimular el entendimiento de estos conceptos, inclusive sus limitaciones, se le sugiere al lector que estudie cuidadosamente los siguientes ejemplos, y descubra que estos ejemplos cumplen con la definición de una geometría de incidencia. "
   ]
  },
  {
   "cell_type": "markdown",
   "metadata": {},
   "source": [
    "<b>Ejemplo 1.</b> <em> Considere el conjunto $\\mathbb{E}=\\{A, B, C\\}$ y la familia de rectas $\\mathcal{L}=\\{\\{A,B\\},\\{A,C\\}, \\{B, C\\}\\}$. Sin duda el lector podrá verificar que $\\mathbb{E}$ y $\\mathcal{L}$ satisface los axiomas AI1, AI2, AI3 y AI4. Si asumimos que los demás axiomas se cumplen por vacuidad, entonces el par $(\\mathbb{E},\\mathcal{L})$ es una geometría de incidencia.</em>"
   ]
  },
  {
   "cell_type": "markdown",
   "metadata": {},
   "source": [
    "<b>Ejemplo 2.</b> <em> Considere el conjunto $\\mathbb{E}=\\{A, B, C, D\\}$, la familia de rectas $\\mathcal{L}=\\{\\{A,B\\},\\{A,C\\}, \\{A, D\\}, \\{B, C\\}, \\{B, D\\}, \\{C, D\\}\\}$ y la familia de planos definidos por $\\mathcal{P}=\\{\\{A, B, C\\}, \\{A, B, D\\}, \\{A, C, D\\}, \\{B, C, D\\}\\}$. En esta ejemplo, el lector podrá verificar que $\\mathbb{E}$, $\\mathcal{L}$ y $\\mathcal{P}$ satisface todos los axiomas de una geometría de incidencia. </em>"
   ]
  },
  {
   "cell_type": "markdown",
   "metadata": {},
   "source": [
    "Ahora que el lector ha entendido los ejemplos 1 y 2, ya está en la capacidad de resolver las siguientes preguntas: ¿Es posible en el conjunto $\\mathbb{E}=\\emptyset$ definir una geometría de incidencia? ¿Y en $\\mathbb{E}=\\{\\emptyset\\}$?"
   ]
  },
  {
   "cell_type": "markdown",
   "metadata": {},
   "source": [
    "Para los lectores más atrevidos, les sugiero pensar en el siguiente problema, el cual involucra algunos aspectos de combinatoria:"
   ]
  },
  {
   "cell_type": "markdown",
   "metadata": {},
   "source": [
    "<b>Problema 1.</b> <em> Considere un conjunto finito $\\mathbb{E}=\\{A_{1}, \\cdots, A_{n+1}\\}$. ¿De cuántas formas se puede definir las familias de rectas y planos de tal forma que $(\\mathbb{E}, \\mathcal{P}, \\mathcal{L})$ sea una geometría de incidencia?</em>"
   ]
  },
  {
   "cell_type": "markdown",
   "metadata": {},
   "source": [
    "**Ejemplo 3**. **Geometría Incidencia Clásica**. Considere a $\\mathbb{E}$ como un «lienzo infinito plano» donde los puntos son todas las posibles posibles sobre el lienzo y las rectas será todos los «trazos» definidos por una «regla infinita». Bajo esta interpretación, podemos entender cada uno de los axiomas de la siguiente manera:"
   ]
  },
  {
   "cell_type": "markdown",
   "metadata": {},
   "source": [
    "1. **Axioma AI1.** Cualquier par de puntos distintos pertenecen a una única recta. Para representar este axioma en terminos del lienzo y los trazos infinitos, se consideran inicialmente dos posiciones $A$ y $B$ del lienzo como los puntos $A$ y $B$ por los que mediante una «regla» se traza una «trazo infinito». Para indicar que la recta se extiende infinitamente se agregan flechas en los extremos tal como se puede apreciar en la siguiente figura:"
   ]
  },
  {
   "cell_type": "markdown",
   "metadata": {},
   "source": [
    "<a id='1'></a>\n",
    "<div align=\"center\">\n",
    "<img src=\"figures/axiomaAI.png\">\n",
    "</div>"
   ]
  },
  {
   "cell_type": "markdown",
   "metadata": {},
   "source": [
    "2. **Axioma AI2.** Para toda recta, existe al menos dos puntos distintos que pertenecen a ella. En este caso, se considera inicialmente una recta y luego de ella se pueden seleccionar dos puntos $A$ y $B$ distintos tal como se puede apreciar a continuación:"
   ]
  },
  {
   "cell_type": "markdown",
   "metadata": {},
   "source": [
    "<a id='1'></a>\n",
    "<div align=\"center\">\n",
    "<img src=\"figures/axiomaAII.png\">\n",
    "</div>"
   ]
  },
  {
   "cell_type": "markdown",
   "metadata": {},
   "source": [
    "* **Axioma AI3.** Para cualquier tripleta de puntos distintos, tales que no pertenecen simultáneamente a ninguna recta, pertenecen a un único plano. Considere inicialmente tres puntos $A$, $B$, $C$ distintos, este axioma afirma que existe único plano o «lienzo» que los contiene. En este caso el plano es el conjunto $\\mathbb{E}$ que se ha definido como un lienzo infinito. En la siguiente figura, el plano se representa como un rectángulo de bordes redondeados, es importante aclarar que se extiende infinitamente."
   ]
  },
  {
   "cell_type": "markdown",
   "metadata": {},
   "source": [
    "<a id='1'></a>\n",
    "<div align=\"center\">\n",
    "<img src=\"figures/axiomaAIII.png\">\n",
    "</div>"
   ]
  },
  {
   "cell_type": "markdown",
   "metadata": {},
   "source": [
    "* **Axioma AI4.** Para todo plano, existe al menos tres puntos distintos que pertenecen a él y no pertenecen simultaneamente a ninguna recta. En este caso, en $\\mathbb{E}$ existe tres puntos $A$, $B$, $C$ distinto y que no pertenecen simultaneamente a ninguna recta. "
   ]
  },
  {
   "cell_type": "markdown",
   "metadata": {},
   "source": [
    "<a id='1'></a>\n",
    "<div align=\"center\">\n",
    "<img src=\"figures/axiomaAIV.png\">\n",
    "</div>"
   ]
  },
  {
   "cell_type": "markdown",
   "metadata": {},
   "source": [
    "* **Axioma AI5.** Si un plano y una recta tienen al menos dos puntos en común, entonces la recta está contenida en el plano. El lector podrá estar de acuerdo en que este axioma se cumple trivialmente ¿o tal vez no?"
   ]
  },
  {
   "cell_type": "markdown",
   "metadata": {},
   "source": [
    "En cuanto a los axiomas AI5, AI6 y AI7 se asumen por obviedad, sin embargo el conjunto $\\mathbb{E}$ podría ser modificado para que existe una familia de planos o lienzos. ¿Podrías hacer esta modificación? "
   ]
  },
  {
   "cell_type": "markdown",
   "metadata": {},
   "source": [
    "En los siguientes ejemplos se verá una definición más formal de este ejemplo."
   ]
  },
  {
   "cell_type": "markdown",
   "metadata": {},
   "source": [
    "**Ejemplo 4**. Considere al espacio $\\mathbb{E}$ como el conjunto $\\mathbb{R}^{2}$  de los pares ordenados de números reales. Entonces las rectas son los conjuntos de la forma $\\lambda_{_{(a, b, c)}}=\\{(x,y)\\in \\mathbb{E}^{2}: ax+by=c\\}$ con $a$, $b$ reales y no todos nulos. Este ejemplo tiene muchas similaridades con el ejemplo anterior. "
   ]
  },
  {
   "cell_type": "markdown",
   "metadata": {},
   "source": [
    "**Ejemplo 5.** Considere el espacio $\\mathbb{E}$ como el conjunto de las tripletas ordenadas de número reales. Los planos son los conjuntos $\\pi_{_{(a, b, c, d)}}=\\{(x,y,z)\\in \\mathbb{E}^{3}: ax+by+cz+d =0\\}$ con $a$, $b$, $c$ reales y no todos nulos y las rectas son la intersección de dos planos $\\pi_{_1}=\\{(x,y,z)\\in \\mathbb{E}^{3}: a_{_1}x+b_{_1}y+c_{_1}z+d_{_1} =0\\}$ y $\\pi_{_2}=\\{(x,y,z)\\in \\mathbb{E}^{3}: a_{_2}x+b_{_2}y+c_{_2}z+d_{_2} =0\\}$, siempre que la tripleta $(a_{_1}, b_{_1}, c_{_1})$ no sea un múltiplo de la tripleta $(a_{_2}, b_{_2}, c_{_2})$.Este ejemplo se puede considerar como una extensión del ejemplo anterior."
   ]
  },
  {
   "cell_type": "markdown",
   "metadata": {},
   "source": [
    "Los siguente ejemplos permiten entender que en una geometría de incidencia las rectas no siempre son las nociones intuitivas usuales."
   ]
  },
  {
   "cell_type": "markdown",
   "metadata": {},
   "source": [
    "**Ejemplo 6.** Considere el espacio $\\mathbb{E}$ como el conjunto $\\mathbb{H}^{2}=\\{(x,y)\\in\\mathbb{R}^{2}:y>0\\}$. Hay dos tipos de rectas, las verticales dadas por $l_{_a}=\\{(x,y)\\in \\mathbb{H}^{2}:x=a\\}$ con $a$ un número real y los arcos definidos por $l_{_{p,r}}=\\{(x,y)\\in \\mathbb{H}:(x-p)^{2}+y^{2}=r^{2}\\}$ con $p$, $r$ números reales. Te reto a hacer una interpretación gráfica de este ejemplo y probar que es una geometría de incidencia de dimensión dos."
   ]
  },
  {
   "cell_type": "markdown",
   "metadata": {},
   "source": [
    "**Ejemplo 7.** Considere el conjunto $\\mathbb{H}^{3}=\\{(x,y,z)\\in \\mathbb{R}^{3}:z>0\\}$ como el conjunto de puntos. Los planos son de dos tipos, los planos verticales dados por $\\pi_{_{(a, b, c)}}=\\{(x,y,z)\\in \\mathbb{H}:ax+by+c=0\\}$ con $a$, $b$, $c$ reales no todos nulos y los semiesféricos $\\pi_{_{(p, q, r)}}=\\{(x,y,z)\\in \\mathbb{H}:(x-p)^{2}+(y-q)^{2}+z^2=r^2\\}$  con $p$, $q$ y $r$ números reales y las rectas son la intersección de dos de estos planos, resultando también dos tipos de rectas, las verticales y las semiesféricas."
   ]
  },
  {
   "cell_type": "markdown",
   "metadata": {},
   "source": [
    "Los principales resultados de esta teoria son los siguientes:"
   ]
  },
  {
   "cell_type": "markdown",
   "metadata": {},
   "source": [
    "**Teorema 1. Punto exterior a una recta.** \n",
    "*En una geometría de incidencia, para toda recta contenida en un plano, existe al menos un punto del plano dado que no pertenece a ella.*"
   ]
  },
  {
   "cell_type": "markdown",
   "metadata": {},
   "source": [
    "En efecto si $l$ es una recta y $\\pi$ es un plano tales que $l\\subset \\pi$. Por el axioma AI2 existe dos puntos $A$, $B$ distintos tales que $A, B\\in l$ y por lo tanto $A, B\\in \\pi$. Finalmente por el axioma AI3 debe existir un tercer punto $C\\in \\pi$ tal que $C\\notin l$ lo que confirma el teorema. "
   ]
  },
  {
   "cell_type": "markdown",
   "metadata": {},
   "source": [
    "**Teorema 2. Intersección de rectas.** *Dos rectas distintas en una geometría de incidencia tienen como máximo un punto en común.*"
   ]
  },
  {
   "cell_type": "markdown",
   "metadata": {},
   "source": [
    "Si se consideran a $\\lambda_{1}, \\lambda_{2}$ como dos rectas diferentes del espacio. Si se supone que se cortan en más de un punto, entonces por el axioma AI1 ellas tienen que ser iguales. Es muy imporante que el lector hace énfasis en la unicidad de la recta que pasan por cualquier par de puntos."
   ]
  },
  {
   "cell_type": "markdown",
   "metadata": {},
   "source": [
    "**Teorema 3. Colinealidad.** *En una geometría de incidencia, si $A$, $B$ son puntos de una recta $\\lambda$ y $C$ es un punto exterior a $\\lambda$, entonces los puntos $A, B, C$ no son colineales.*"
   ]
  },
  {
   "cell_type": "markdown",
   "metadata": {},
   "source": [
    "Si $A$, $B$, $C$ fueran colineales existiría una recta $\\gamma$ tal que $A, B, C\\in \\gamma$ y por el axioma AI1 se concluye que $\\gamma =\\lambda$, esto quiere decir que $C\\in \\lambda$ lo que contradice la hipótesis del teorema. Por lo tanto $A$, $B$, $C$ no son colineales."
   ]
  },
  {
   "cell_type": "markdown",
   "metadata": {},
   "source": [
    "**Teorema 4. Coplanaridad de rectas.** *En un geometría de incidencia, si dos rectas tiene un punto en común, entonces existe un único plano que las contiene.*"
   ]
  },
  {
   "cell_type": "markdown",
   "metadata": {},
   "source": [
    "Sean $l$ y $m$ dos rectas diferentes que se cortan. Sea $A$ el punto de intersección  (Teorema de la intercepción de rectas). Por el\n",
    "axioma AI2 existen otro punto $B$ diferente de $A$ en $l$ y otro punto $C$ diferente de $A$ en $m$. Luego $A, B, C$ son no colineales ya que\n",
    "$B$ no está en la recta $m$ y $C$ no está en la recta $l$. Entonces por el axioma AI3, los puntos $A, B,C$ determinan un plano único. Por el axioma AI5 las rectas $l$ y $m$ están contenidas en ese plano. Este es el único plano que las contiene. Si existiera otro, $A, B, C$ estarán en él, contradiciendo el axioma AI3."
   ]
  },
  {
   "cell_type": "markdown",
   "metadata": {},
   "source": [
    "**Teorema 5.** *Si $l_{_1}$ y $l_{_2}$ son rectas en una geometría de incidencia y $l_{_1}\\cap l_{_2}$ tiene dos o más puntos distintos en común, entonces $l_{_1}=l_{_2}$.*"
   ]
  },
  {
   "cell_type": "markdown",
   "metadata": {},
   "source": [
    "¿Cómo se demostraría este teorema?"
   ]
  },
  {
   "cell_type": "markdown",
   "metadata": {},
   "source": [
    "**Definición 1.** Se dirá que dos rectas son **paralelas** si son iguales o bien ambas están contenidas en un mismo plano y no tienen puntos en común. Si dos rectas no tienen puntos en común, pero no están contenidas en el mismo plano, se dirá que se **cruzan**. La única alternativa a estos casos es que las rectas tengan un único punto en común, en cuyo caso se dice que son **secantes**."
   ]
  },
  {
   "cell_type": "markdown",
   "metadata": {},
   "source": [
    "Los siguientes teoremas se sugierene como ejercicios para el lector:"
   ]
  },
  {
   "cell_type": "markdown",
   "metadata": {},
   "source": [
    "**Teorema 6.** *En una geometría de incidencia, dados un plano y una recta, o bien no tienen puntos comunes, o bien tienen un único punto en común, o bien la recta está contenida en el plano.*"
   ]
  },
  {
   "cell_type": "markdown",
   "metadata": {},
   "source": [
    "**Teorema 7.** *En una geometría de incidencia, una recta y un punto exterior a ella están contenidos en un único plano*"
   ]
  },
  {
   "cell_type": "markdown",
   "metadata": {},
   "source": [
    "**Teorema 8.** *En una geometría de incidencai, dos planos no paralelos en una geometría de incidencia se cortan en una única recta.*"
   ]
  },
  {
   "cell_type": "markdown",
   "metadata": {},
   "source": [
    "## Bibliografía\n",
    "1. Jaime Escobar Acosta. 1992. Elementos de geometría. Universidad de Antioquia.\n",
    "2. David Hilbert. 1950. The Foundations of Geometry. University of Göttingen.\n",
    "3. Carlos Ivorra Castillo. 2013. Geometría. Universidad de Valencia.\n",
    "4. John Haas. 2018. What is a geometry?\n",
    "5. Gerard A. Venema. 2016. Exploring Advanced Euclidean Geometry with GeoGebra.\n",
    "6. Ian Biringer. 2015. Euclidean and Non-Euclidean Geometry.\n",
    "7. Millman and Parke. Geometry: A Metric Approach with Models."
   ]
  },
  {
   "cell_type": "markdown",
   "metadata": {},
   "source": [
    "## Contacto\n",
    "* Participa de la canal de Nerve a través de <a src='https://discord.gg/edPmghPq8K'>Discord</a>.\n",
    "* Se quieres conocer más acerca de este tema me puedes contactar a través de <a src='https://www.classgap.com/me/alejandro-sanchez-yali'>Classgap</a>."
   ]
  },
  {
   "cell_type": "code",
   "execution_count": null,
   "metadata": {},
   "outputs": [],
   "source": []
  }
 ],
 "metadata": {
  "kernelspec": {
   "display_name": "Python 3",
   "language": "python",
   "name": "python3"
  },
  "language_info": {
   "codemirror_mode": {
    "name": "ipython",
    "version": 3
   },
   "file_extension": ".py",
   "mimetype": "text/x-python",
   "name": "python",
   "nbconvert_exporter": "python",
   "pygments_lexer": "ipython3",
   "version": "3.9.1"
  }
 },
 "nbformat": 4,
 "nbformat_minor": 4
}
