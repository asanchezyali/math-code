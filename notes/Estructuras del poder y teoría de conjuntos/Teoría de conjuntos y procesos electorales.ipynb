{
 "cells": [
  {
   "cell_type": "markdown",
   "metadata": {},
   "source": [
    "# Teoría de conjuntos y procesos electorales"
   ]
  },
  {
   "cell_type": "markdown",
   "metadata": {},
   "source": [
    "## Coaliciones de votación"
   ]
  },
  {
   "cell_type": "markdown",
   "metadata": {},
   "source": [
    "Una aplicación bien interesante de la teoría de conjuntos es el análisis de coaliciones en las votaciones en cuerpos de votación. Aquí el conjunto universal se entenderá como un conjunto de seres humanos que forman un cuerpo que toma decisiones. Por ejemplo, el conjunto universal puede estar formado por los miembros de un comité, o un consejo civil o una convención o una Cámara de Representantes, etc. Cada miembro puede emitir un cierto número de votos. La decisión en lo que respecta a que una medida sea o no aprobada, puede ser decidida por una regla mayoritaria sencilla una mayoría de dos tercios, etc."
   ]
  },
  {
   "cell_type": "code",
   "execution_count": null,
   "metadata": {},
   "outputs": [],
   "source": []
  }
 ],
 "metadata": {
  "kernelspec": {
   "display_name": "Python 3",
   "language": "python",
   "name": "python3"
  },
  "language_info": {
   "codemirror_mode": {
    "name": "ipython",
    "version": 3
   },
   "file_extension": ".py",
   "mimetype": "text/x-python",
   "name": "python",
   "nbconvert_exporter": "python",
   "pygments_lexer": "ipython3",
   "version": "3.9.1"
  }
 },
 "nbformat": 4,
 "nbformat_minor": 4
}
